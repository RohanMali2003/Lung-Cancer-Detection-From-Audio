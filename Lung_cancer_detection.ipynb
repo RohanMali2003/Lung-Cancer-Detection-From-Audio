{
  "cells": [
    {
      "cell_type": "markdown",
      "metadata": {
        "id": "view-in-github",
        "colab_type": "text"
      },
      "source": [
        "<a href=\"https://colab.research.google.com/github/RohanMali2003/Lung-Cancer-Detection-From-Audio/blob/main/Lung_cancer_detection.ipynb\" target=\"_parent\"><img src=\"https://colab.research.google.com/assets/colab-badge.svg\" alt=\"Open In Colab\"/></a>"
      ]
    },
    {
      "cell_type": "code",
      "execution_count": null,
      "metadata": {
        "id": "6qtRD-ierpHj"
      },
      "outputs": [],
      "source": [
        "import pandas as pd"
      ]
    },
    {
      "cell_type": "code",
      "execution_count": null,
      "metadata": {
        "id": "AMnCY_VVyebF"
      },
      "outputs": [],
      "source": [
        "import os\n",
        "import librosa # audio and music analysis.\n",
        "import librosa.display # Provides tools for visualizing Librosa's audio analysis results.\n",
        "import numpy as np\n",
        "import matplotlib.pyplot as plt"
      ]
    },
    {
      "cell_type": "code",
      "execution_count": null,
      "metadata": {
        "colab": {
          "base_uri": "https://localhost:8080/"
        },
        "id": "BNwyyGqWi7g4",
        "outputId": "05a334ef-2219-4af8-e5b5-fd702dae0378"
      },
      "outputs": [
        {
          "output_type": "stream",
          "name": "stdout",
          "text": [
            "Drive already mounted at /content/drive; to attempt to forcibly remount, call drive.mount(\"/content/drive\", force_remount=True).\n"
          ]
        }
      ],
      "source": [
        "from google.colab import drive\n",
        "drive.mount('/content/drive')"
      ]
    },
    {
      "cell_type": "code",
      "execution_count": null,
      "metadata": {
        "colab": {
          "base_uri": "https://localhost:8080/"
        },
        "id": "Mby5ncKFZnDF",
        "outputId": "27a164d7-95d5-4fb9-ec45-f55d6a576f63"
      },
      "outputs": [
        {
          "output_type": "stream",
          "name": "stdout",
          "text": [
            "True\n"
          ]
        }
      ],
      "source": [
        "import os\n",
        "\n",
        "dataset_dir = \"/content/drive/MyDrive/Datasets/ICBHI_final_database\"\n",
        "print(os.path.exists(dataset_dir))"
      ]
    },
    {
      "cell_type": "markdown",
      "metadata": {
        "id": "kSyn_5Yyuyj6"
      },
      "source": [
        " Loops through the dataset folder, extracts .txt file names, and processes them to create a filtered list."
      ]
    },
    {
      "cell_type": "code",
      "execution_count": null,
      "metadata": {
        "id": "UDTx44mn0buq"
      },
      "outputs": [],
      "source": [
        "in_x = [] # store the extracted information.\n",
        "\n",
        "for filename in os.listdir(dataset_dir):\n",
        "  if filename.endswith(\".txt\"):\n",
        "    file_path = os.path.join(dataset_dir, filename)\n",
        "    file_name = os.path.basename(file_path)\n",
        "    file = os.path.splitext(file_name)\n",
        "    filex = file[0]\n",
        "    filex = filex[4:-3]\n",
        "    #print(filex)\n",
        "    in_x.append(filex)\n",
        "\n"
      ]
    },
    {
      "source": [
        "import os\n",
        "from google.colab import drive\n",
        "\n",
        "# Mount your Google Drive\n",
        "drive.mount('/content/drive')\n",
        "\n",
        "# Replace with the actual path to your dataset within your Google Drive\n",
        "dataset_dir = \"/content/drive/MyDrive/Datasets/ICBHI_final_database\"\n",
        "\n",
        "# Now, you can list the files\n",
        "in_x = []\n",
        "for filename in os.listdir(dataset_dir):\n",
        "  if filename.endswith(\".txt\"):\n",
        "    file_path = os.path.join(dataset_dir, filename)\n",
        "    file_name = os.path.basename(file_path)\n",
        "    file = os.path.splitext(file_name)\n",
        "    filex = file[0]\n",
        "    filex = filex[4:-3]\n",
        "    in_x.append(filex)"
      ],
      "cell_type": "code",
      "metadata": {
        "colab": {
          "base_uri": "https://localhost:8080/"
        },
        "id": "RywDi3myeigF",
        "outputId": "496ce851-523f-44fe-87db-1f66550b28b5"
      },
      "execution_count": null,
      "outputs": [
        {
          "output_type": "stream",
          "name": "stdout",
          "text": [
            "Drive already mounted at /content/drive; to attempt to forcibly remount, call drive.mount(\"/content/drive\", force_remount=True).\n"
          ]
        }
      ]
    },
    {
      "cell_type": "code",
      "execution_count": null,
      "metadata": {
        "id": "-t9yLUVQ6RYt"
      },
      "outputs": [],
      "source": []
    },
    {
      "cell_type": "code",
      "execution_count": null,
      "metadata": {
        "colab": {
          "base_uri": "https://localhost:8080/"
        },
        "id": "B91AdVeIaF_e",
        "outputId": "7813db12-15ab-4a0d-87a4-d475778de7d5"
      },
      "outputs": [
        {
          "output_type": "stream",
          "name": "stdout",
          "text": [
            "['3p2_Al_mc_AKGC4', '2p5_Pl_mc_AKGC4', '3b4_Lr_mc_AKGC4', '2b4_Ll_mc_AKGC4', '3p2_Pr_mc_AKGC4', '2p3_Al_mc_AKGC4', '2p5_Pr_mc_AKGC4', '2b1_Ar_mc_LittC', '3p2_Pr_mc_AKGC4', '3p3_Pr_mc_AKGC4', '2b2_Al_mc_LittC', '2p2_Pl_mc_AKGC4', '3b4_Al_mc_AKGC4', '3p2_Ar_mc_AKGC4', '3p4_Tc_mc_AKGC4', '2p5_Tc_mc_AKGC4', '2p3_Pl_mc_AKGC4', '2b3_Al_mc_LittC', '1p3_Lr_mc_AKGC4', '1p2_Lr_mc_AKGC4', '1p2_Tc_mc_AKGC4', '2b3_Pl_mc_LittC', '2p2_Pr_mc_AKGC4', '1p4_Ar_mc_AKGC4', '1p3_Ll_mc_AKGC4', '1p4_Ll_mc_AKGC4', '2b2_Ll_mc_LittC', '1b3_Ar_mc_LittC', '2b3_Tc_mc_LittC', '2b2_Al_mc_AKGC4', '2b2_Lr_mc_AKGC4', '2b3_Ll_mc_LittC', '1b2_Pr_mc_LittC', '2p3_Tc_mc_AKGC4', '1b3_Al_mc_LittC', '1b1_Lr_sc_Medit', '2b2_Al_mc_AKGC4', '1b2_Ar_mc_LittC', '1b2_Lr_mc_LittC', '2p4_Tc_mc_AKGC4', '2b2_Pr_mc_AKGC4', '3b2_Ar_mc_AKGC4', '1b3_Pr_mc_LittC', '1b1_Tc_sc_Medit', '1b3_Tc_mc_AKGC4', '2b3_Ar_mc_AKGC4', '2b3_Al_mc_AKGC4', '1b2_Tc_mc_LittC', '8p3_Pr_mc_AKGC4', '2b4_Pl_mc_AKGC4', '1b1_Al_sc_Medit', '1b3_Pr_mc_AKGC4', '5b3_Pl_mc_AKGC4', '3p2_Al_mc_AKGC4', '8b3_Pl_mc_AKGC4', '2b4_Tc_mc_AKGC4', '8b3_Al_mc_AKGC4', '1b1_Pr_sc_Medit', '2b4_Al_mc_AKGC4', '8b3_Ll_mc_AKGC4', '2b4_Pl_mc_AKGC4', '2b4_Pr_mc_AKGC4', '4b4_Lr_mc_AKGC4', '1b3_Ll_mc_AKGC4', '1p4_Pr_mc_AKGC4', '1b1_Ar_sc_Medit', '1p2_Ll_mc_AKGC4', '2b2_Al_mc_AKGC4', '2b3_Pr_mc_AKGC4', '1p3_Al_mc_AKGC4', '2p3_Tc_mc_AKGC4', '1p4_Al_mc_AKGC4', '1b1_Pl_sc_Medit', '2b2_Pr_mc_AKGC4', '1b2_Ll_mc_AKGC4', '2b4_Lr_mc_AKGC4', '2b4_Ar_mc_AKGC4', '1b3_Ar_mc_LittC', '2b3_Tc_mc_AKGC4', '1p4_Tc_mc_AKGC4', '1p2_Lr_mc_AKGC4', '1b3_Pr_mc_AKGC4', '1b4_Pl_mc_AKGC4', '2b2_Pl_mc_AKGC4', '1b2_Lr_mc_AKGC4', '8b3_Ll_mc_AKGC4', '1b3_Pr_mc_AKGC4', '1p1_Pl_sc_Medit', '2b4_Tc_mc_AKGC4', '1b4_Tc_mc_AKGC4', '1b3_Pl_mc_AKGC4', '1b3_Ar_mc_AKGC4', '1b1_Lr_sc_Medit', '2b2_Ar_mc_AKGC4', '1p1_Al_sc_Medit', '1b3_Tc_mc_AKGC4', '1b4_Lr_mc_AKGC4', '1b3_Lr_mc_AKGC4', '1b4_Pr_mc_AKGC4', '8b3_Pl_mc_AKGC4', '2p3_Pl_mc_AKGC4', '1p3_Ll_mc_AKGC4', '2b5_Pr_mc_AKGC4', '1p3_Pr_mc_AKGC4', '2p3_Ar_mc_AKGC4', '1p4_Tc_mc_AKGC4', '1p2_Tc_mc_AKGC4', '1b4_Ar_mc_AKGC4', '1b4_Pr_mc_AKGC4', '1p2_Ll_mc_AKGC4', '1b3_Lr_mc_AKGC4', '1p3_Ar_mc_AKGC4', '1b5_Ll_mc_AKGC4', '1b1_Pl_sc_Litt3', '1b3_Lr_mc_AKGC4', '1b4_Pr_mc_AKGC4', '2b4_Pl_mc_AKGC4', '3b3_Al_mc_AKGC4', '1b6_Tc_mc_AKGC4', '2b2_Lr_mc_AKGC4', '1b2_Ar_mc_LittC', '2b3_Ar_mc_AKGC4', '1b2_Tc_mc_AKGC4', '2b3_Ll_mc_AKGC4', '2b2_Al_mc_AKGC4', '2b4_Pr_mc_AKGC4', '1b1_Pr_sc_Medit', '2p3_Pr_mc_AKGC4', '2p4_Lr_mc_AKGC4', '2b2_Ar_mc_LittC', '1b2_Tc_mc_AKGC4', '2p2_Al_mc_AKGC4', '1b1_Al_sc_Medit', '2p4_Pl_mc_AKGC4', '1b2_Pr_mc_AKGC4', '3b3_Tc_mc_AKGC4', '1b1_Pl_sc_Medit', '2b1_Ll_mc_LittC', '2b2_Tc_mc_LittC', '3b3_Lr_mc_AKGC4', '2b1_Pr_mc_LittC', '3b3_Ar_mc_AKGC4', '1b1_Ar_sc_Litt3', '1b1_Tc_sc_Medit', '7p5_Ll_mc_AKGC4', '1b1_Pl_sc_Medit', '7p5_Ar_mc_AKGC4', '1p3_Tc_mc_AKGC4', '1p2_Tc_mc_AKGC4', '2p3_Ar_mc_AKGC4', '1b1_Al_sc_Medit', '1b3_Al_sc_Medit', '2b3_Ar_mc_AKGC4', '1p4_Al_mc_AKGC4', '1p3_Al_mc_AKGC4', '4b2_Ar_mc_AKGC4', '4b2_Pr_mc_AKGC4', '2b3_Al_mc_AKGC4', '1p2_Lr_mc_AKGC4', '2b5_Ll_mc_AKGC4', '1p3_Ar_mc_AKGC4', '1b3_Ar_sc_Medit', '1b1_Tc_sc_Medit', '1b1_Ar_sc_Medit', '2p2_Ar_mc_AKGC4', '1b1_Ll_sc_Medit', '1p5_Pr_mc_AKGC4', '2p2_Tc_mc_AKGC4', '1b1_Al_sc_Medit', '2b4_Pl_mc_AKGC4', '2p2_Pr_mc_AKGC4', '1b1_Lr_sc_Medit', '1b1_Al_sc_Medit', '1p5_Tc_mc_AKGC4', '2b2_Pr_mc_AKGC4', '1p3_Ar_mc_AKGC4', '1p3_Ar_mc_AKGC4', '2b2_Tc_mc_AKGC4', '2p2_Pl_mc_AKGC4', '2b2_Tc_mc_LittC', '2p3_Tc_mc_AKGC4', '3b2_Pl_mc_AKGC4', '1p5_Ar_mc_AKGC4', '2b3_Al_mc_AKGC4', '2b2_Lr_mc_LittC', '1b1_Pl_sc_Medit', '1b1_Tc_sc_Medit', '1b1_Al_sc_Medit', '1b1_Pl_sc_LittC', '2b1_Lr_mc_LittC', '2b1_Pl_mc_LittC', '2b3_Ar_mc_LittC', '2b2_Ar_mc_LittC', '1b1_Al_sc_Medit', '2b5_Al_mc_AKGC4', '3p2_Pl_mc_AKGC4', '1b1_Lr_sc_Medit', '1b1_Lr_sc_Litt3', '1b1_Pr_sc_Litt3', '1b3_Tc_sc_Medit', '1b1_Al_sc_Litt3', '1b1_Pl_sc_Litt3', '3p2_Tc_mc_AKGC4', '1p1_Lr_sc_Medit', '1b3_Tc_mc_LittC', '1b2_Tc_mc_LittC', '1b4_Pr_mc_AKGC4', '1p2_Al_mc_AKGC4', '1p2_Pr_mc_AKGC4', '1p2_Tc_mc_AKGC4', '1p3_Tc_mc_AKGC4', '1p3_Lr_mc_AKGC4', '1p2_Ar_mc_AKGC4', '1p4_Pr_mc_AKGC4', '1b1_Ll_sc_Litt3', '1p3_Ll_mc_AKGC4', '1p3_Al_mc_AKGC4', '1b1_Ar_sc_Litt3', '3b4_Pr_mc_AKGC4', '3p3_Tc_mc_AKGC4', '2p5_Al_mc_AKGC4', '3b4_Ar_mc_AKGC4', '3p3_Al_mc_AKGC4', '3p2_Tc_mc_AKGC4', '2p3_Pl_mc_AKGC4', '2b2_Tc_mc_AKGC4', '2b2_Pl_mc_AKGC4', '1b1_Al_sc_Medit', '1p3_Ar_mc_AKGC4', '1p2_Ll_mc_AKGC4', '2p2_Ar_mc_AKGC4', '1b1_Al_sc_Medit', '3p2_Pl_mc_AKGC4', '2b4_Lr_mc_AKGC4', '8p3_Ar_mc_AKGC4', '1b1_Pr_mc_LittC', '2b2_Pl_mc_AKGC4', '1b4_Tc_mc_AKGC4', '1p3_Tc_mc_AKGC4', '2b3_Lr_mc_AKGC4', '3p2_Al_mc_AKGC4', '1p2_Pr_mc_AKGC4', '2b1_Tc_mc_LittC', '2b2_Ar_mc_AKGC4', '2b1_Al_mc_LittC', '2b4_Ll_mc_AKGC4', '2p2_Ll_mc_AKGC4', '2p2_Tc_mc_AKGC4', '1p4_Pr_mc_AKGC4', '2p4_Al_mc_AKGC4', '2p3_Pl_mc_AKGC4', '1b2_Al_sc_Medit', '2p2_Al_mc_AKGC4', '2p4_Pr_mc_AKGC4', '1b1_Pl_sc_Medit', '2b3_Ar_mc_AKGC4', '1p2_Pl_mc_AKGC4', '5b3_Pr_mc_AKGC4', '2p4_Al_mc_AKGC4', '2b3_Ll_mc_AKGC4', '2p2_Tc_mc_AKGC4', '3b3_Al_mc_AKGC4', '1b1_Al_sc_Medit', '3p2_Pl_mc_AKGC4', '5b3_Al_mc_AKGC4', '1b1_Al_sc_Medit', '4b4_Al_mc_AKGC4', '1p3_Ll_mc_AKGC4', '2p2_Ll_mc_AKGC4', '2b3_Lr_mc_AKGC4', '1b1_Al_sc_Medit', '2b3_Pl_mc_AKGC4', '2b4_Al_mc_AKGC4', '2b4_Pl_mc_AKGC4', '2p2_Ar_mc_AKGC4', '1b1_Al_sc_Medit', '2b2_Pl_mc_AKGC4', '1b2_Ar_mc_AKGC4', '2b2_Ar_mc_AKGC4', '2b3_Al_mc_AKGC4', '1b2_Ll_sc_Medit', '2b2_Tc_mc_AKGC4', '8b3_Ar_mc_AKGC4', '1b2_Lr_mc_AKGC4', '1p3_Pr_mc_AKGC4', '2b2_Al_mc_AKGC4', '2b2_Tc_mc_AKGC4', '2b5_Pl_mc_AKGC4', '2b5_Ar_mc_AKGC4', '1p2_Lr_mc_AKGC4', '1b3_Pl_mc_AKGC4', '2b3_Lr_mc_AKGC4', '1b2_Ar_mc_AKGC4', '1p4_Pr_mc_AKGC4', '1b1_Pr_sc_Litt3', '1b6_Al_mc_AKGC4', '1b1_Al_sc_Medit', '1b5_Al_mc_AKGC4', '1b5_Pr_mc_AKGC4', '1b6_Ar_mc_AKGC4', '1b4_Ll_mc_AKGC4', '1p4_Ar_mc_AKGC4', '1b3_Al_mc_AKGC4', '1p2_Pr_mc_AKGC4', '1b6_Lr_mc_AKGC4', '1b1_Tc_sc_Medit', '1b4_Al_mc_AKGC4', '1p4_Pl_mc_AKGC4', '2b3_Al_mc_AKGC4', '2b5_Lr_mc_AKGC4', '1b3_Ar_mc_AKGC4', '2b3_Pr_mc_AKGC4', '2b2_Al_mc_LittC', '1b1_Lr_sc_Litt3', '2b3_Al_mc_AKGC4', '2p3_Al_mc_AKGC4', '1b1_Al_sc_Medit', '2b4_Ar_mc_AKGC4', '1b1_Ar_mc_LittC', '7b3_Lr_mc_AKGC4', '1b4_Lr_mc_AKGC4', '2b3_Tc_mc_AKGC4', '1b1_Pr_sc_Litt3', '2p3_Pl_mc_AKGC4', '2b3_Pr_mc_AKGC4', '2p3_Ar_mc_AKGC4', '2b3_Al_mc_LittC', '2b3_Ll_mc_LittC', '1b1_Tc_sc_Medit', '1b4_Al_mc_AKGC4', '1b1_Ar_sc_Medit', '2b2_Pl_mc_AKGC4', '2p4_Pr_mc_AKGC4', '7p5_Pr_mc_AKGC4', '1p3_Pl_mc_AKGC4', '1b2_Al_sc_Medit', '3p4_Tc_mc_AKGC4', '1b3_Ll_mc_AKGC4', '1p4_Ar_mc_AKGC4', '1b3_Al_mc_AKGC4', '1b1_Ar_sc_Medit', '2b5_Ar_mc_AKGC4', '4b2_Pl_mc_AKGC4', '1p4_Tc_mc_AKGC4', '1p4_Pl_mc_AKGC4', '2b4_Pl_mc_AKGC4', '2b3_Ll_mc_AKGC4', '3p4_Al_mc_AKGC4', '7p5_Al_mc_AKGC4', '7p5_Tc_mc_AKGC4', '1p2_Ar_mc_AKGC4', '3p4_Pr_mc_AKGC4', '3p4_Ar_mc_AKGC4', '1b1_Tc_sc_Medit', '2b2_Al_mc_LittC', '3b2_Ar_mc_AKGC4', '2b3_Tc_mc_LittC', '1p2_Ar_mc_AKGC4', '1p1_Pr_sc_Litt3', '2p4_Tc_mc_AKGC4', '1b2_Ar_sc_Medit', '2b4_Ar_mc_AKGC4', '1b1_Lr_sc_Medit', '1p5_Pl_mc_AKGC4', '1p2_Al_mc_AKGC4', '2b3_Lr_mc_LittC', '2p2_Al_mc_AKGC4', '1b1_Tc_mc_LittC', '2b1_Ar_mc_LittC', '1p2_Pr_mc_AKGC4', '1p2_Pl_mc_AKGC4', '1b2_Al_mc_LittC', '1p3_Pl_mc_AKGC4', '1b1_Pl_sc_Medit', '2b1_Al_mc_LittC', '1b1_Pr_sc_Medit', '1b4_Ar_mc_AKGC4', '1b2_Tc_sc_Medit', '1b1_Ar_sc_Medit', '2b5_Pl_mc_AKGC4', '1b1_Al_sc_Litt3', '1b1_Pl_sc_Medit', '1b1_Al_sc_Medit', '2b3_Lr_mc_AKGC4', '1b2_Tc_sc_Medit', '2b2_Ar_mc_LittC', '2b4_Tc_mc_AKGC4', '1p2_Ll_mc_AKGC4', '2b1_Pl_mc_LittC', '1b4_Pl_mc_AKGC4', '2b3_Al_mc_LittC', '2b4_Ll_mc_AKGC4', '2b5_Ar_mc_AKGC4', '1b1_Lr_sc_Litt3', '2b3_Tc_mc_AKGC4', '1p4_Tc_mc_AKGC4', '2p4_Pr_mc_AKGC4', '1p3_Pl_mc_AKGC4', '1b1_Ll_sc_Medit', '1p4_Ll_mc_AKGC4', '2b3_Tc_mc_LittC', '3p2_Pl_mc_AKGC4', '2b4_Al_mc_AKGC4', '1p4_Pl_mc_AKGC4', '3p4_Pr_mc_AKGC4', '2p3_Pr_mc_AKGC4', '2b1_Lr_mc_LittC', '2b1_Ar_mc_LittC', '2b3_Ar_mc_LittC', '2b2_Ar_mc_LittC', '1p4_Lr_mc_AKGC4', '2p2_Pl_mc_AKGC4', '2p2_Al_mc_AKGC4', '1p4_Ar_mc_AKGC4', '2b4_Ar_mc_AKGC4', '2b4_Ll_mc_AKGC4', '3p2_Pr_mc_AKGC4', '2b3_Ll_mc_AKGC4', '2p2_Lr_mc_AKGC4', '1b1_Al_sc_Medit', '2p2_Ar_mc_AKGC4', '2b4_Ar_mc_AKGC4', '8p3_Lr_mc_AKGC4', '2p2_Pr_mc_AKGC4', '2b2_Pl_mc_AKGC4', '2b3_Pl_mc_AKGC4', '3p2_Tc_mc_AKGC4', '1b3_Al_mc_AKGC4', '3b3_Ll_mc_AKGC4', '1b2_Tc_mc_AKGC4', '1p4_Pl_mc_AKGC4', '2b4_Ll_mc_AKGC4', '2b3_Pr_mc_AKGC4', '1p2_Tc_mc_AKGC4', '2p3_Lr_mc_AKGC4', '1b1_Pr_sc_Medit', '1b3_Pl_mc_AKGC4', '1b2_Al_mc_AKGC4', '2b4_Lr_mc_AKGC4', '4b4_Pl_mc_AKGC4', '1b1_Al_sc_Medit', '1b2_Pl_mc_AKGC4', '2b3_Ar_mc_AKGC4', '1p2_Al_mc_AKGC4', '1p4_Ar_mc_AKGC4', '1b3_Lr_mc_AKGC4', '2b4_Ar_mc_AKGC4', '1b1_Al_sc_Medit', '1b1_Lr_sc_Medit', '1b4_Ll_mc_AKGC4', '1p1_Ar_sc_Medit', '1b3_Ar_mc_AKGC4', '2b5_Tc_mc_AKGC4', '2b2_Lr_mc_AKGC4', '1p1_Ll_sc_Medit', '2b2_Lr_mc_AKGC4', '2b2_Ll_mc_AKGC4', '1b3_Al_mc_AKGC4', '1b2_Al_mc_AKGC4', '2b2_Tc_mc_AKGC4', '2b2_Pl_mc_AKGC4', '1b2_Tc_mc_AKGC4', '1b5_Ar_mc_AKGC4', '1b4_Pl_mc_AKGC4', '2b4_Pr_mc_AKGC4', '1b4_Al_mc_AKGC4', '1b4_Ar_mc_AKGC4', '1b4_Pl_mc_AKGC4', '2p3_Al_mc_AKGC4', '1b3_Tc_mc_AKGC4', '2b4_Tc_mc_AKGC4', '2p3_Pr_mc_AKGC4', '1b4_Pl_mc_AKGC4', '2b3_Lr_mc_AKGC4', '2b2_Lr_mc_AKGC4', '2b4_Lr_mc_AKGC4', '2b3_Ar_mc_AKGC4', '1b1_Tc_mc_LittC', '1b3_Ll_mc_AKGC4', '1p3_Tc_mc_AKGC4', '1b1_Al_sc_Medit', '2b2_Pr_mc_AKGC4', '1b1_Tc_sc_Medit', '2p3_Tc_mc_AKGC4', '1b2_Ar_sc_Medit', '2p3_Lr_mc_AKGC4', '2b1_Pl_mc_LittC', '1b2_Lr_mc_LittC', '2p4_Ar_mc_AKGC4', '1b1_Tc_sc_Medit', '7b3_Pr_mc_AKGC4', '7b3_Pl_mc_AKGC4', '1b1_Al_sc_Litt3', '7b3_Ar_mc_AKGC4', '2p4_Tc_mc_AKGC4', '7b3_Al_mc_AKGC4', '2p2_Ar_mc_AKGC4', '3b4_Pl_mc_AKGC4', '3b4_Al_mc_AKGC4', '2b3_Pl_mc_AKGC4', '2p3_Pr_mc_AKGC4', '1b1_Al_sc_Medit', '1b3_Lr_mc_AKGC4', '3b2_Al_mc_AKGC4', '1p2_Al_mc_AKGC4', '1b1_Lr_sc_Medit', '4b2_Lr_mc_AKGC4', '1p2_Pr_mc_AKGC4', '7p5_Lr_mc_AKGC4', '2p3_Pl_mc_AKGC4', '1p2_Lr_mc_AKGC4', '1p2_Pl_mc_AKGC4', '3b4_Ar_mc_AKGC4', '1p4_Pr_mc_AKGC4', '1b1_Tc_sc_Medit', '1p1_Ar_sc_Litt3', '2b2_Ar_mc_LittC', '2b2_Ar_mc_LittC', '1b3_Tc_sc_Medit', '1b1_Ll_sc_Medit', '1p5_Al_mc_AKGC4', '2b3_Pr_mc_LittC', '2b1_Ar_mc_LittC', '2b2_Ar_mc_AKGC4', '3b4_Pl_mc_AKGC4', '3b2_Lr_mc_AKGC4', '2b1_Pr_mc_LittC', '2b4_Al_mc_AKGC4', '2b4_Ar_mc_AKGC4', '2b3_Al_mc_AKGC4', '2b3_Ar_mc_AKGC4', '2b3_Pr_mc_AKGC4', '2b4_Al_mc_AKGC4', '2b4_Pl_mc_AKGC4', '3p2_Ar_mc_AKGC4', '2b5_Tc_mc_AKGC4', '2b5_Ll_mc_AKGC4', '2b4_Ar_mc_AKGC4', '1b1_Ar_sc_Medit', '1b1_Tc_sc_Medit', '1b1_Ar_sc_Litt3', '1p1_Pr_sc_Litt3', '1p1_Ll_sc_Litt3', '1b1_Al_sc_Medit', '1b2_Pl_sc_Medit', '1b1_Pr_sc_Medit', '1b4_Al_mc_AKGC4', '1p1_Ll_sc_Medit', '2b1_Al_mc_LittC', '3p2_Lr_mc_AKGC4', '1b1_Ll_sc_Litt3', '1p1_Pr_sc_Medit', '1b4_Lr_mc_AKGC4', '1p1_Al_sc_Medit', '2b2_Tc_mc_LittC', '1p4_Tc_mc_AKGC4', '1p3_Pl_mc_AKGC4', '2b3_Al_mc_AKGC4', '2b1_Ar_mc_LittC', '1p4_Pl_mc_AKGC4', '1b1_Tc_sc_Medit', '2b2_Al_mc_AKGC4', '1b1_Ar_sc_Medit', '2b2_Ll_mc_AKGC4', '2b3_Ar_mc_AKGC4', '2b3_Tc_mc_LittC', '2b3_Ll_mc_AKGC4', '1p3_Pr_mc_AKGC4', '3p3_Pl_mc_AKGC4', '3p4_Pl_mc_AKGC4', '2b4_Lr_mc_AKGC4', '3p4_Al_mc_AKGC4', '2p2_Ar_mc_AKGC4', '2b4_Pl_mc_AKGC4', '2p3_Ar_mc_AKGC4', '3b3_Ll_mc_AKGC4', '3b4_Pl_mc_AKGC4', '2p2_Tc_mc_AKGC4', '2p5_Lr_mc_AKGC4', '2p5_Ar_mc_AKGC4', '2b3_Pr_mc_AKGC4', '2b2_Lr_mc_LittC', '2p4_Ar_mc_AKGC4', '1p2_Pl_mc_AKGC4', '3p2_Ar_mc_AKGC4', '2b2_Al_mc_LittC', '2p4_Pl_mc_AKGC4', '2b1_Pl_mc_LittC', '2b2_Pl_mc_LittC', '2b3_Pr_mc_LittC', '2b3_Ar_mc_LittC', '2p3_Tc_mc_AKGC4', '2p4_Tc_mc_AKGC4', '2b2_Tc_mc_LittC', '1p3_Al_mc_AKGC4', '1p2_Al_mc_AKGC4', '2b1_Al_mc_LittC', '2b2_Ar_mc_LittC', '1b1_Ar_sc_Medit', '1p2_Ar_mc_AKGC4', '3p4_Tc_mc_AKGC4', '2p2_Lr_mc_AKGC4', '2b2_Tc_mc_LittC', '8p3_Al_mc_AKGC4', '8p3_Pl_mc_AKGC4', '1b1_Al_sc_Medit', '1b1_Pl_mc_LittC', '2b4_Pr_mc_AKGC4', '1b2_Tc_mc_AKGC4', '1p3_Pr_mc_AKGC4', '2p3_Lr_mc_AKGC4', '2b4_Lr_mc_AKGC4', '1b1_Al_sc_Medit', '2p4_Lr_mc_AKGC4', '2p3_Ar_mc_AKGC4', '2p3_Al_mc_AKGC4', '2p2_Pl_mc_AKGC4', '2p3_Ll_mc_AKGC4', '2b4_Al_mc_AKGC4', '3p2_Lr_mc_AKGC4', '3p2_Ar_mc_AKGC4', '2p4_Ll_mc_AKGC4', '2p4_Ar_mc_AKGC4', '2p3_Pr_mc_AKGC4', '2p4_Pl_mc_AKGC4', '4b4_Ll_mc_AKGC4', '1b3_Ar_mc_AKGC4', '4b4_Pr_mc_AKGC4', '4b4_Ar_mc_AKGC4', '3p3_Ll_mc_AKGC4', '1b3_Tc_mc_AKGC4', '2b1_Al_mc_LittC', '3b3_Ar_mc_AKGC4', '5b3_Lr_mc_AKGC4', '1p2_Ar_mc_AKGC4', '1b1_Pl_sc_Medit', '1b1_Ar_sc_Medit', '1p3_Lr_mc_AKGC4', '8b3_Ar_mc_AKGC4', '1p2_Pr_mc_AKGC4', '1p3_Pl_mc_AKGC4', '1p3_Tc_mc_AKGC4', '1p3_Ar_mc_AKGC4', '1p4_Lr_mc_AKGC4', '1b2_Ar_mc_AKGC4', '1b1_Ll_sc_Medit', '1b2_Pr_mc_AKGC4', '8b3_Lr_mc_AKGC4', '2b2_Pr_mc_AKGC4', '2b2_Ar_mc_AKGC4', '8b3_Pr_mc_AKGC4', '2b2_Al_mc_AKGC4', '1b1_Ll_sc_Medit', '8b3_Al_mc_AKGC4', '1b3_Al_mc_AKGC4', '1b4_Ar_mc_AKGC4', '1b4_Al_mc_AKGC4', '1p1_Pr_sc_Medit', '2b2_Pr_mc_AKGC4', '1b3_Lr_mc_AKGC4', '1b3_Tc_mc_AKGC4', '1b3_Ll_mc_AKGC4', '1b4_Pr_mc_AKGC4', '1b2_Pr_mc_AKGC4', '1b4_Ar_mc_AKGC4', '1b2_Pl_mc_AKGC4', '1b1_Pr_sc_Medit', '2b2_Al_mc_AKGC4', '1b3_Ll_mc_AKGC4', '1p2_Pl_mc_AKGC4', '1p2_Ar_mc_AKGC4', '2b5_Al_mc_AKGC4', '1b5_Lr_mc_AKGC4', '1p4_Lr_mc_AKGC4', '1p3_Pl_mc_AKGC4', '1b4_Tc_mc_AKGC4', '1b1_Al_sc_Medit', '2p3_Tc_mc_AKGC4', '1p3_Lr_mc_AKGC4', '1b5_Pl_mc_AKGC4', '1b4_Lr_mc_AKGC4', '1p4_Ll_mc_AKGC4', '1b5_Tc_mc_AKGC4', '1b3_Tc_mc_AKGC4', '1b3_Al_mc_AKGC4', '1b2_Pr_mc_AKGC4', '1b1_Lr_sc_Litt3', '1b6_Ll_mc_AKGC4', '1b3_Ar_mc_AKGC4', '2b3_Tc_mc_AKGC4', '1b4_Lr_mc_AKGC4', '1b1_Al_sc_Litt3', '1b1_Ll_sc_Litt3', '1b4_Tc_mc_AKGC4', '1b3_Pr_mc_AKGC4', '1b3_Pl_mc_AKGC4', '1b2_Lr_mc_AKGC4', '1b1_Ar_sc_Litt3', '2b3_Pl_mc_AKGC4', '1b2_Pl_mc_AKGC4', '1b2_Al_mc_AKGC4', '1b3_Pl_mc_AKGC4', '1b3_Pr_mc_AKGC4', '3b3_Pr_mc_AKGC4', '1b1_Ar_sc_Medit', '2b2_Tc_mc_AKGC4', '2b2_Tc_mc_AKGC4', '1b3_Tc_mc_LittC', '1b6_Pl_mc_AKGC4', '2b4_Al_mc_AKGC4', '2b3_Pl_mc_AKGC4', '2b2_Ar_mc_AKGC4', '1b1_Pl_sc_Medit', '1b4_Lr_mc_AKGC4', '2b2_Ar_mc_AKGC4', '1b6_Pr_mc_AKGC4', '2b2_Pr_mc_AKGC4', '3b3_Pl_mc_AKGC4', '2p2_Pr_mc_AKGC4', '1b2_Ll_mc_AKGC4', '2p2_Pl_mc_AKGC4', '1b1_Ll_sc_Litt3', '7b3_Tc_mc_AKGC4', '1b2_Pl_mc_AKGC4', '2p2_Lr_mc_AKGC4', '2p4_Al_mc_AKGC4', '1b2_Ar_mc_AKGC4', '2p2_Tc_mc_AKGC4', '1b2_Al_mc_AKGC4', '2b3_Ar_mc_LittC', '1b1_Pl_sc_Litt3', '7b3_Ll_mc_AKGC4', '3p4_Pl_mc_AKGC4', '2b1_Al_mc_LittC', '2b1_Ar_mc_LittC', '3b4_Pr_mc_AKGC4', '2b5_Al_mc_AKGC4', '2b2_Pr_mc_AKGC4', '2p3_Tc_mc_AKGC4', '2p3_Al_mc_AKGC4', '1p2_Pr_mc_AKGC4', '4b2_Al_mc_AKGC4', '1b3_Ar_mc_AKGC4', '1p3_Pr_mc_AKGC4', '1b3_Pr_mc_AKGC4', '1b3_Pl_mc_AKGC4', '1p2_Tc_mc_AKGC4', '3b2_Pr_mc_AKGC4', '2b3_Ar_mc_AKGC4', '2b2_Ar_mc_AKGC4', '3b2_Tc_mc_AKGC4', '2b3_Pr_mc_AKGC4', '2b4_Al_mc_AKGC4', '1p2_Ar_mc_AKGC4', '3b2_Lr_mc_AKGC4', '2b2_Pl_mc_AKGC4', '2b4_Tc_mc_AKGC4', '2b2_Al_mc_AKGC4', '1b1_Ar_sc_Medit', '2b3_Tc_mc_AKGC4', '2p2_Tc_mc_AKGC4', '2b4_Pr_mc_AKGC4', '1p2_Pl_mc_AKGC4', '1p3_Pr_mc_AKGC4', '1b1_Pl_sc_Medit', '1b1_Ar_sc_Medit', '1p5_Ar_mc_AKGC4', '2b1_Tc_mc_LittC', '1p1_Pl_sc_Litt3', '2b2_Tc_mc_LittC', '1p3_Al_mc_AKGC4', '3p2_Ll_mc_AKGC4', '2b3_Ar_mc_LittC', '2b4_Lr_mc_AKGC4', '1b1_Pr_sc_Medit', 'name_differen', '3p2_Al_mc_AKGC4', '1b2_Al_sc_Medit', '1b1_Ar_sc_Medit', '2b4_Pr_mc_AKGC4', '2b3_Al_mc_LittC', '2b5_Pr_mc_AKGC4', '1b1_Ar_sc_Medit', '2b3_Pl_mc_AKGC4', '2b3_Ll_mc_AKGC4', '3p2_Pr_mc_AKGC4', '2b2_Pl_mc_LittC', 'name_for', '2b5_Lr_mc_AKGC4', '2b2_Pr_mc_AKGC4', '1b1_Ar_sc_Medit', '1p3_Ar_mc_AKGC4', '1b1_Ar_sc_Medit', '2b3_Pl_mc_AKGC4', '2b2_Lr_mc_AKGC4', '1p4_Lr_mc_AKGC4', '1b1_Pr_sc_Litt3', '1p1_Tc_sc_Medit', '1p4_Al_mc_AKGC4', '1b1_Pl_sc_Litt3', '1b1_Pr_sc_Medit', '1p1_Pl_sc_Litt3', '1b3_Tc_mc_LittC', '1b1_Lr_sc_Medit', '1p2_Pl_mc_AKGC4', '2b3_Lr_mc_AKGC4', '1p2_Lr_mc_AKGC4', '2b2_Al_mc_LittC', '2b1_Tc_mc_LittC', '2b2_Ar_mc_AKGC4', '2b3_Tc_mc_AKGC4', '2p2_Al_mc_AKGC4']\n"
          ]
        }
      ],
      "source": [
        "print(in_x)"
      ]
    },
    {
      "cell_type": "markdown",
      "metadata": {
        "id": "JrxYD6u1u6RK"
      },
      "source": [
        "check file names"
      ]
    },
    {
      "cell_type": "code",
      "execution_count": null,
      "metadata": {
        "colab": {
          "base_uri": "https://localhost:8080/"
        },
        "id": "PpOH9xG_qaLN",
        "outputId": "a186a46d-96d3-4aa5-ea84-2e6b9ccbcac0"
      },
      "outputs": [
        {
          "output_type": "stream",
          "name": "stdout",
          "text": [
            "['130_3p2_Al_mc_AKGC417L.txt', '130_2p5_Pl_mc_AKGC417L.txt', '130_3b4_Lr_mc_AKGC417L.txt', '130_2b4_Ll_mc_AKGC417L.txt', '130_3p2_Pr_mc_AKGC417L.txt', '133_2p3_Al_mc_AKGC417L.txt', '130_2p5_Pr_mc_AKGC417L.txt', '134_2b1_Ar_mc_LittC2SE.txt', '133_3p2_Pr_mc_AKGC417L.txt', '130_3p3_Pr_mc_AKGC417L.txt', '134_2b2_Al_mc_LittC2SE.txt', '133_2p2_Pl_mc_AKGC417L.txt', '130_3b4_Al_mc_AKGC417L.txt', '130_3p2_Ar_mc_AKGC417L.txt', '130_3p4_Tc_mc_AKGC417L.txt', '130_2p5_Tc_mc_AKGC417L.txt', '130_2p3_Pl_mc_AKGC417L.txt', '135_2b3_Al_mc_LittC2SE.txt', '138_1p3_Lr_mc_AKGC417L.txt', '138_1p2_Lr_mc_AKGC417L.txt', '138_1p2_Tc_mc_AKGC417L.txt', '135_2b3_Pl_mc_LittC2SE.txt', '138_2p2_Pr_mc_AKGC417L.txt', '138_1p4_Ar_mc_AKGC417L.txt', '138_1p3_Ll_mc_AKGC417L.txt', '138_1p4_Ll_mc_AKGC417L.txt', '140_2b2_Ll_mc_LittC2SE.txt', '141_1b3_Ar_mc_LittC2SE.txt', '140_2b3_Tc_mc_LittC2SE.txt', '147_2b2_Al_mc_AKGC417L.txt', '145_2b2_Lr_mc_AKGC417L.txt', '140_2b3_Ll_mc_LittC2SE.txt', '141_1b2_Pr_mc_LittC2SE.txt', '151_2p3_Tc_mc_AKGC417L.txt', '141_1b3_Al_mc_LittC2SE.txt', '149_1b1_Lr_sc_Meditron.txt', '145_2b2_Al_mc_AKGC417L.txt', '141_1b2_Ar_mc_LittC2SE.txt', '141_1b2_Lr_mc_LittC2SE.txt', '151_2p4_Tc_mc_AKGC417L.txt', '145_2b2_Pr_mc_AKGC417L.txt', '145_3b2_Ar_mc_AKGC417L.txt', '141_1b3_Pr_mc_LittC2SE.txt', '144_1b1_Tc_sc_Meditron.txt', '147_1b3_Tc_mc_AKGC417L.txt', '147_2b3_Ar_mc_AKGC417L.txt', '147_2b3_Al_mc_AKGC417L.txt', '141_1b2_Tc_mc_LittC2SE.txt', '146_8p3_Pr_mc_AKGC417L.txt', '147_2b4_Pl_mc_AKGC417L.txt', '152_1b1_Al_sc_Meditron.txt', '154_1b3_Pr_mc_AKGC417L.txt', '156_5b3_Pl_mc_AKGC417L.txt', '151_3p2_Al_mc_AKGC417L.txt', '156_8b3_Pl_mc_AKGC417L.txt', '154_2b4_Tc_mc_AKGC417L.txt', '156_8b3_Al_mc_AKGC417L.txt', '157_1b1_Pr_sc_Meditron.txt', '154_2b4_Al_mc_AKGC417L.txt', '156_8b3_Ll_mc_AKGC417L.txt', '154_2b4_Pl_mc_AKGC417L.txt', '154_2b4_Pr_mc_AKGC417L.txt', '154_4b4_Lr_mc_AKGC417L.txt', '154_1b3_Ll_mc_AKGC417L.txt', '158_1p4_Pr_mc_AKGC417L.txt', '159_1b1_Ar_sc_Meditron.txt', '158_1p2_Ll_mc_AKGC417L.txt', '162_2b2_Al_mc_AKGC417L.txt', '162_2b3_Pr_mc_AKGC417L.txt', '158_1p3_Al_mc_AKGC417L.txt', '158_2p3_Tc_mc_AKGC417L.txt', '158_1p4_Al_mc_AKGC417L.txt', '161_1b1_Pl_sc_Meditron.txt', '162_2b2_Pr_mc_AKGC417L.txt', '162_1b2_Ll_mc_AKGC417L.txt', '162_2b4_Lr_mc_AKGC417L.txt', '162_2b4_Ar_mc_AKGC417L.txt', '158_1b3_Ar_mc_LittC2SE.txt', '162_2b3_Tc_mc_AKGC417L.txt', '158_1p4_Tc_mc_AKGC417L.txt', '158_1p2_Lr_mc_AKGC417L.txt', '172_1b3_Pr_mc_AKGC417L.txt', '172_1b4_Pl_mc_AKGC417L.txt', '170_2b2_Pl_mc_AKGC417L.txt', '170_1b2_Lr_mc_AKGC417L.txt', '163_8b3_Ll_mc_AKGC417L.txt', '170_1b3_Pr_mc_AKGC417L.txt', '166_1p1_Pl_sc_Meditron.txt', '162_2b4_Tc_mc_AKGC417L.txt', '170_1b4_Tc_mc_AKGC417L.txt', '170_1b3_Pl_mc_AKGC417L.txt', '170_1b3_Ar_mc_AKGC417L.txt', '169_1b1_Lr_sc_Meditron.txt', '170_2b2_Ar_mc_AKGC417L.txt', '166_1p1_Al_sc_Meditron.txt', '170_1b3_Tc_mc_AKGC417L.txt', '170_1b4_Lr_mc_AKGC417L.txt', '172_1b3_Lr_mc_AKGC417L.txt', '172_1b4_Pr_mc_AKGC417L.txt', '163_8b3_Pl_mc_AKGC417L.txt', '174_2p3_Pl_mc_AKGC417L.txt', '174_1p3_Ll_mc_AKGC417L.txt', '172_2b5_Pr_mc_AKGC417L.txt', '174_1p3_Pr_mc_AKGC417L.txt', '174_2p3_Ar_mc_AKGC417L.txt', '174_1p4_Tc_mc_AKGC417L.txt', '174_1p2_Tc_mc_AKGC417L.txt', '176_1b4_Ar_mc_AKGC417L.txt', '176_1b4_Pr_mc_AKGC417L.txt', '174_1p2_Ll_mc_AKGC417L.txt', '176_1b3_Lr_mc_AKGC417L.txt', '174_1p3_Ar_mc_AKGC417L.txt', '172_1b5_Ll_mc_AKGC417L.txt', '175_1b1_Pl_sc_Litt3200.txt', '178_1b3_Lr_mc_AKGC417L.txt', '180_1b4_Pr_mc_AKGC417L.txt', '186_2b4_Pl_mc_AKGC417L.txt', '186_3b3_Al_mc_AKGC417L.txt', '178_1b6_Tc_mc_AKGC417L.txt', '186_2b2_Lr_mc_AKGC417L.txt', '181_1b2_Ar_mc_LittC2SE.txt', '176_2b3_Ar_mc_AKGC417L.txt', '178_1b2_Tc_mc_AKGC417L.txt', '176_2b3_Ll_mc_AKGC417L.txt', '186_2b2_Al_mc_AKGC417L.txt', '186_2b4_Pr_mc_AKGC417L.txt', '196_1b1_Pr_sc_Meditron.txt', '200_2p3_Pr_mc_AKGC417L.txt', '200_2p4_Lr_mc_AKGC417L.txt', '192_2b2_Ar_mc_LittC2SE.txt', '193_1b2_Tc_mc_AKGC417L.txt', '200_2p2_Al_mc_AKGC417L.txt', '188_1b1_Al_sc_Meditron.txt', '200_2p4_Pl_mc_AKGC417L.txt', '193_1b2_Pr_mc_AKGC417L.txt', '186_3b3_Tc_mc_AKGC417L.txt', '188_1b1_Pl_sc_Meditron.txt', '199_2b1_Ll_mc_LittC2SE.txt', '191_2b2_Tc_mc_LittC2SE.txt', '186_3b3_Lr_mc_AKGC417L.txt', '191_2b1_Pr_mc_LittC2SE.txt', '186_3b3_Ar_mc_AKGC417L.txt', '195_1b1_Ar_sc_Litt3200.txt', '190_1b1_Tc_sc_Meditron.txt', '204_7p5_Ll_mc_AKGC417L.txt', '206_1b1_Pl_sc_Meditron.txt', '204_7p5_Ar_mc_AKGC417L.txt', '203_1p3_Tc_mc_AKGC417L.txt', '203_1p2_Tc_mc_AKGC417L.txt', '203_2p3_Ar_mc_AKGC417L.txt', '201_1b1_Al_sc_Meditron.txt', '201_1b3_Al_sc_Meditron.txt', '205_2b3_Ar_mc_AKGC417L.txt', '203_1p4_Al_mc_AKGC417L.txt', '203_1p3_Al_mc_AKGC417L.txt', '205_4b2_Ar_mc_AKGC417L.txt', '205_4b2_Pr_mc_AKGC417L.txt', '205_2b3_Al_mc_AKGC417L.txt', '203_1p2_Lr_mc_AKGC417L.txt', '204_2b5_Ll_mc_AKGC417L.txt', '203_1p3_Ar_mc_AKGC417L.txt', '201_1b3_Ar_sc_Meditron.txt', '209_1b1_Tc_sc_Meditron.txt', '210_1b1_Ar_sc_Meditron.txt', '213_2p2_Ar_mc_AKGC417L.txt', '208_1b1_Ll_sc_Meditron.txt', '213_1p5_Pr_mc_AKGC417L.txt', '213_2p2_Tc_mc_AKGC417L.txt', '216_1b1_Al_sc_Meditron.txt', '207_2b4_Pl_mc_AKGC417L.txt', '213_2p2_Pr_mc_AKGC417L.txt', '218_1b1_Lr_sc_Meditron.txt', '218_1b1_Al_sc_Meditron.txt', '213_1p5_Tc_mc_AKGC417L.txt', '207_2b2_Pr_mc_AKGC417L.txt', '213_1p3_Ar_mc_AKGC417L.txt', '211_1p3_Ar_mc_AKGC417L.txt', '207_2b2_Tc_mc_AKGC417L.txt', '213_2p2_Pl_mc_AKGC417L.txt', '212_2b2_Tc_mc_LittC2SE.txt', '211_2p3_Tc_mc_AKGC417L.txt', '207_3b2_Pl_mc_AKGC417L.txt', '211_1p5_Ar_mc_AKGC417L.txt', '207_2b3_Al_mc_AKGC417L.txt', '221_2b2_Lr_mc_LittC2SE.txt', '225_1b1_Pl_sc_Meditron.txt', '105_1b1_Tc_sc_Meditron.txt', '226_1b1_Al_sc_Meditron.txt', '226_1b1_Pl_sc_LittC2SE.txt', '221_2b1_Lr_mc_LittC2SE.txt', '221_2b1_Pl_mc_LittC2SE.txt', '122_2b3_Ar_mc_LittC2SE.txt', '122_2b2_Ar_mc_LittC2SE.txt', '108_1b1_Al_sc_Meditron.txt', '107_2b5_Al_mc_AKGC417L.txt', '107_3p2_Pl_mc_AKGC417L.txt', '112_1b1_Lr_sc_Meditron.txt', '118_1b1_Lr_sc_Litt3200.txt', '118_1b1_Pr_sc_Litt3200.txt', '111_1b3_Tc_sc_Meditron.txt', '118_1b1_Al_sc_Litt3200.txt', '118_1b1_Pl_sc_Litt3200.txt', '107_3p2_Tc_mc_AKGC417L.txt', '110_1p1_Lr_sc_Meditron.txt', '117_1b3_Tc_mc_LittC2SE.txt', '117_1b2_Tc_mc_LittC2SE.txt', '114_1b4_Pr_mc_AKGC417L.txt', '130_1p2_Al_mc_AKGC417L.txt', '130_1p2_Pr_mc_AKGC417L.txt', '130_1p2_Tc_mc_AKGC417L.txt', '130_1p3_Tc_mc_AKGC417L.txt', '130_1p3_Lr_mc_AKGC417L.txt', '130_1p2_Ar_mc_AKGC417L.txt', '130_1p4_Pr_mc_AKGC417L.txt', '124_1b1_Ll_sc_Litt3200.txt', '130_1p3_Ll_mc_AKGC417L.txt', '130_1p3_Al_mc_AKGC417L.txt', '124_1b1_Ar_sc_Litt3200.txt', '130_3b4_Pr_mc_AKGC417L.txt', '130_3p3_Tc_mc_AKGC417L.txt', '130_2p5_Al_mc_AKGC417L.txt', '130_3b4_Ar_mc_AKGC417L.txt', '130_3p3_Al_mc_AKGC417L.txt', '130_3p2_Tc_mc_AKGC417L.txt', '133_2p3_Pl_mc_AKGC417L.txt', '130_2b2_Tc_mc_AKGC417L.txt', '130_2b2_Pl_mc_AKGC417L.txt', '131_1b1_Al_sc_Meditron.txt', '138_1p3_Ar_mc_AKGC417L.txt', '138_1p2_Ll_mc_AKGC417L.txt', '138_2p2_Ar_mc_AKGC417L.txt', '143_1b1_Al_sc_Meditron.txt', '133_3p2_Pl_mc_AKGC417L.txt', '146_2b4_Lr_mc_AKGC417L.txt', '146_8p3_Ar_mc_AKGC417L.txt', '141_1b1_Pr_mc_LittC2SE.txt', '147_2b2_Pl_mc_AKGC417L.txt', '147_1b4_Tc_mc_AKGC417L.txt', '138_1p3_Tc_mc_AKGC417L.txt', '147_2b3_Lr_mc_AKGC417L.txt', '133_3p2_Al_mc_AKGC417L.txt', '138_1p2_Pr_mc_AKGC417L.txt', '135_2b1_Tc_mc_LittC2SE.txt', '147_2b2_Ar_mc_AKGC417L.txt', '135_2b1_Al_mc_LittC2SE.txt', '147_2b4_Ll_mc_AKGC417L.txt', '138_2p2_Ll_mc_AKGC417L.txt', '138_2p2_Tc_mc_AKGC417L.txt', '138_1p4_Pr_mc_AKGC417L.txt', '133_2p4_Al_mc_AKGC417L.txt', '151_2p3_Pl_mc_AKGC417L.txt', '150_1b2_Al_sc_Meditron.txt', '151_2p2_Al_mc_AKGC417L.txt', '151_2p4_Pr_mc_AKGC417L.txt', '149_1b1_Pl_sc_Meditron.txt', '156_2b3_Ar_mc_AKGC417L.txt', '158_1p2_Pl_mc_AKGC417L.txt', '156_5b3_Pr_mc_AKGC417L.txt', '151_2p4_Al_mc_AKGC417L.txt', '156_2b3_Ll_mc_AKGC417L.txt', '151_2p2_Tc_mc_AKGC417L.txt', '154_3b3_Al_mc_AKGC417L.txt', '153_1b1_Al_sc_Meditron.txt', '151_3p2_Pl_mc_AKGC417L.txt', '156_5b3_Al_mc_AKGC417L.txt', '157_1b1_Al_sc_Meditron.txt', '154_4b4_Al_mc_AKGC417L.txt', '158_1p3_Ll_mc_AKGC417L.txt', '151_2p2_Ll_mc_AKGC417L.txt', '162_2b3_Lr_mc_AKGC417L.txt', '168_1b1_Al_sc_Meditron.txt', '162_2b3_Pl_mc_AKGC417L.txt', '162_2b4_Al_mc_AKGC417L.txt', '162_2b4_Pl_mc_AKGC417L.txt', '158_2p2_Ar_mc_AKGC417L.txt', '167_1b1_Al_sc_Meditron.txt', '162_2b2_Pl_mc_AKGC417L.txt', '170_1b2_Ar_mc_AKGC417L.txt', '163_2b2_Ar_mc_AKGC417L.txt', '162_2b3_Al_mc_AKGC417L.txt', '169_1b2_Ll_sc_Meditron.txt', '162_2b2_Tc_mc_AKGC417L.txt', '163_8b3_Ar_mc_AKGC417L.txt', '162_1b2_Lr_mc_AKGC417L.txt', '158_1p3_Pr_mc_AKGC417L.txt', '178_2b2_Al_mc_AKGC417L.txt', '170_2b2_Tc_mc_AKGC417L.txt', '172_2b5_Pl_mc_AKGC417L.txt', '172_2b5_Ar_mc_AKGC417L.txt', '174_1p2_Lr_mc_AKGC417L.txt', '172_1b3_Pl_mc_AKGC417L.txt', '176_2b3_Lr_mc_AKGC417L.txt', '178_1b2_Ar_mc_AKGC417L.txt', '174_1p4_Pr_mc_AKGC417L.txt', '175_1b1_Pr_sc_Litt3200.txt', '178_1b6_Al_mc_AKGC417L.txt', '171_1b1_Al_sc_Meditron.txt', '172_1b5_Al_mc_AKGC417L.txt', '172_1b5_Pr_mc_AKGC417L.txt', '178_1b6_Ar_mc_AKGC417L.txt', '176_1b4_Ll_mc_AKGC417L.txt', '174_1p4_Ar_mc_AKGC417L.txt', '176_1b3_Al_mc_AKGC417L.txt', '174_1p2_Pr_mc_AKGC417L.txt', '178_1b6_Lr_mc_AKGC417L.txt', '179_1b1_Tc_sc_Meditron.txt', '176_1b4_Al_mc_AKGC417L.txt', '174_1p4_Pl_mc_AKGC417L.txt', '176_2b3_Al_mc_AKGC417L.txt', '172_2b5_Lr_mc_AKGC417L.txt', '178_1b3_Ar_mc_AKGC417L.txt', '176_2b3_Pr_mc_AKGC417L.txt', '192_2b2_Al_mc_LittC2SE.txt', '195_1b1_Lr_sc_Litt3200.txt', '186_2b3_Al_mc_AKGC417L.txt', '200_2p3_Al_mc_AKGC417L.txt', '197_1b1_Al_sc_Meditron.txt', '186_2b4_Ar_mc_AKGC417L.txt', '181_1b1_Ar_mc_LittC2SE.txt', '193_7b3_Lr_mc_AKGC417L.txt', '193_1b4_Lr_mc_AKGC417L.txt', '186_2b3_Tc_mc_AKGC417L.txt', '195_1b1_Pr_sc_Litt3200.txt', '200_2p3_Pl_mc_AKGC417L.txt', '186_2b3_Pr_mc_AKGC417L.txt', '200_2p3_Ar_mc_AKGC417L.txt', '192_2b3_Al_mc_LittC2SE.txt', '199_2b3_Ll_mc_LittC2SE.txt', '183_1b1_Tc_sc_Meditron.txt', '180_1b4_Al_mc_AKGC417L.txt', '188_1b1_Ar_sc_Meditron.txt', '186_2b2_Pl_mc_AKGC417L.txt', '200_2p4_Pr_mc_AKGC417L.txt', '204_7p5_Pr_mc_AKGC417L.txt', '203_1p3_Pl_mc_AKGC417L.txt', '201_1b2_Al_sc_Meditron.txt', '200_3p4_Tc_mc_AKGC417L.txt', '205_1b3_Ll_mc_AKGC417L.txt', '203_1p4_Ar_mc_AKGC417L.txt', '205_1b3_Al_mc_AKGC417L.txt', '201_1b1_Ar_sc_Meditron.txt', '204_2b5_Ar_mc_AKGC417L.txt', '205_4b2_Pl_mc_AKGC417L.txt', '203_1p4_Tc_mc_AKGC417L.txt', '203_1p4_Pl_mc_AKGC417L.txt', '205_2b4_Pl_mc_AKGC417L.txt', '205_2b3_Ll_mc_AKGC417L.txt', '200_3p4_Al_mc_AKGC417L.txt', '204_7p5_Al_mc_AKGC417L.txt', '204_7p5_Tc_mc_AKGC417L.txt', '203_1p2_Ar_mc_AKGC417L.txt', '200_3p4_Pr_mc_AKGC417L.txt', '200_3p4_Ar_mc_AKGC417L.txt', '224_1b1_Tc_sc_Meditron.txt', '221_2b2_Al_mc_LittC2SE.txt', '207_3b2_Ar_mc_AKGC417L.txt', '219_2b3_Tc_mc_LittC2SE.txt', '211_1p2_Ar_mc_AKGC417L.txt', '218_1p1_Pr_sc_Litt3200.txt', '211_2p4_Tc_mc_AKGC417L.txt', '215_1b2_Ar_sc_Meditron.txt', '207_2b4_Ar_mc_AKGC417L.txt', '222_1b1_Lr_sc_Meditron.txt', '213_1p5_Pl_mc_AKGC417L.txt', '213_1p2_Al_mc_AKGC417L.txt', '221_2b3_Lr_mc_LittC2SE.txt', '213_2p2_Al_mc_AKGC417L.txt', '220_1b1_Tc_mc_LittC2SE.txt', '219_2b1_Ar_mc_LittC2SE.txt', '213_1p2_Pr_mc_AKGC417L.txt', '213_1p2_Pl_mc_AKGC417L.txt', '220_1b2_Al_mc_LittC2SE.txt', '213_1p3_Pl_mc_AKGC417L.txt', '216_1b1_Pl_sc_Meditron.txt', '221_2b1_Al_mc_LittC2SE.txt', '218_1b1_Pr_sc_Meditron.txt', '114_1b4_Ar_mc_AKGC417L.txt', '116_1b2_Tc_sc_Meditron.txt', '129_1b1_Ar_sc_Meditron.txt', '107_2b5_Pl_mc_AKGC417L.txt', '124_1b1_Al_sc_Litt3200.txt', '120_1b1_Pl_sc_Meditron.txt', '123_1b1_Al_sc_Meditron.txt', '107_2b3_Lr_mc_AKGC417L.txt', '111_1b2_Tc_sc_Meditron.txt', '103_2b2_Ar_mc_LittC2SE.txt', '107_2b4_Tc_mc_AKGC417L.txt', '130_1p2_Ll_mc_AKGC417L.txt', '106_2b1_Pl_mc_LittC2SE.txt', '114_1b4_Pl_mc_AKGC417L.txt', '122_2b3_Al_mc_LittC2SE.txt', '107_2b4_Ll_mc_AKGC417L.txt', '107_2b5_Ar_mc_AKGC417L.txt', '124_1b1_Lr_sc_Litt3200.txt', '107_2b3_Tc_mc_AKGC417L.txt', '138_1p4_Tc_mc_AKGC417L.txt', '133_2p4_Pr_mc_AKGC417L.txt', '138_1p3_Pl_mc_AKGC417L.txt', '137_1b1_Ll_sc_Meditron.txt', '130_1p4_Ll_mc_AKGC417L.txt', '135_2b3_Tc_mc_LittC2SE.txt', '130_3p2_Pl_mc_AKGC417L.txt', '130_2b4_Al_mc_AKGC417L.txt', '138_1p4_Pl_mc_AKGC417L.txt', '130_3p4_Pr_mc_AKGC417L.txt', '133_2p3_Pr_mc_AKGC417L.txt', '132_2b1_Lr_mc_LittC2SE.txt', '135_2b1_Ar_mc_LittC2SE.txt', '134_2b3_Ar_mc_LittC2SE.txt', '135_2b2_Ar_mc_LittC2SE.txt', '138_1p4_Lr_mc_AKGC417L.txt', '138_2p2_Pl_mc_AKGC417L.txt', '138_2p2_Al_mc_AKGC417L.txt', '130_1p4_Ar_mc_AKGC417L.txt', '130_2b4_Ar_mc_AKGC417L.txt', '146_2b4_Ll_mc_AKGC417L.txt', '151_3p2_Pr_mc_AKGC417L.txt', '147_2b3_Ll_mc_AKGC417L.txt', '151_2p2_Lr_mc_AKGC417L.txt', '148_1b1_Al_sc_Meditron.txt', '151_2p2_Ar_mc_AKGC417L.txt', '147_2b4_Ar_mc_AKGC417L.txt', '146_8p3_Lr_mc_AKGC417L.txt', '151_2p2_Pr_mc_AKGC417L.txt', '146_2b2_Pl_mc_AKGC417L.txt', '147_2b3_Pl_mc_AKGC417L.txt', '151_3p2_Tc_mc_AKGC417L.txt', '154_1b3_Al_mc_AKGC417L.txt', '154_3b3_Ll_mc_AKGC417L.txt', '162_1b2_Tc_mc_AKGC417L.txt', '158_1p4_Pl_mc_AKGC417L.txt', '154_2b4_Ll_mc_AKGC417L.txt', '156_2b3_Pr_mc_AKGC417L.txt', '158_1p2_Tc_mc_AKGC417L.txt', '158_2p3_Lr_mc_AKGC417L.txt', '159_1b1_Pr_sc_Meditron.txt', '154_1b3_Pl_mc_AKGC417L.txt', '162_1b2_Al_mc_AKGC417L.txt', '154_2b4_Lr_mc_AKGC417L.txt', '154_4b4_Pl_mc_AKGC417L.txt', '159_1b1_Al_sc_Meditron.txt', '162_1b2_Pl_mc_AKGC417L.txt', '162_2b3_Ar_mc_AKGC417L.txt', '158_1p2_Al_mc_AKGC417L.txt', '158_1p4_Ar_mc_AKGC417L.txt', '154_1b3_Lr_mc_AKGC417L.txt', '154_2b4_Ar_mc_AKGC417L.txt', '161_1b1_Al_sc_Meditron.txt', '157_1b1_Lr_sc_Meditron.txt', '172_1b4_Ll_mc_AKGC417L.txt', '166_1p1_Ar_sc_Meditron.txt', '172_1b3_Ar_mc_AKGC417L.txt', '172_2b5_Tc_mc_AKGC417L.txt', '170_2b2_Lr_mc_AKGC417L.txt', '166_1p1_Ll_sc_Meditron.txt', '163_2b2_Lr_mc_AKGC417L.txt', '163_2b2_Ll_mc_AKGC417L.txt', '172_1b3_Al_mc_AKGC417L.txt', '170_1b2_Al_mc_AKGC417L.txt', '163_2b2_Tc_mc_AKGC417L.txt', '163_2b2_Pl_mc_AKGC417L.txt', '170_1b2_Tc_mc_AKGC417L.txt', '172_1b5_Ar_mc_AKGC417L.txt', '170_1b4_Pl_mc_AKGC417L.txt', '162_2b4_Pr_mc_AKGC417L.txt', '170_1b4_Al_mc_AKGC417L.txt', '180_1b4_Ar_mc_AKGC417L.txt', '176_1b4_Pl_mc_AKGC417L.txt', '174_2p3_Al_mc_AKGC417L.txt', '178_1b3_Tc_mc_AKGC417L.txt', '186_2b4_Tc_mc_AKGC417L.txt', '174_2p3_Pr_mc_AKGC417L.txt', '180_1b4_Pl_mc_AKGC417L.txt', '186_2b3_Lr_mc_AKGC417L.txt', '178_2b2_Lr_mc_AKGC417L.txt', '186_2b4_Lr_mc_AKGC417L.txt', '186_2b3_Ar_mc_AKGC417L.txt', '181_1b1_Tc_mc_LittC2SE.txt', '176_1b3_Ll_mc_AKGC417L.txt', '174_1p3_Tc_mc_AKGC417L.txt', '179_1b1_Al_sc_Meditron.txt', '186_2b2_Pr_mc_AKGC417L.txt', '197_1b1_Tc_sc_Meditron.txt', '200_2p3_Tc_mc_AKGC417L.txt', '201_1b2_Ar_sc_Meditron.txt', '200_2p3_Lr_mc_AKGC417L.txt', '191_2b1_Pl_mc_LittC2SE.txt', '189_1b2_Lr_mc_LittC2SE.txt', '200_2p4_Ar_mc_AKGC417L.txt', '188_1b1_Tc_sc_Meditron.txt', '193_7b3_Pr_mc_AKGC417L.txt', '193_7b3_Pl_mc_AKGC417L.txt', '195_1b1_Al_sc_Litt3200.txt', '193_7b3_Ar_mc_AKGC417L.txt', '200_2p4_Tc_mc_AKGC417L.txt', '193_7b3_Al_mc_AKGC417L.txt', '200_2p2_Ar_mc_AKGC417L.txt', '205_3b4_Pl_mc_AKGC417L.txt', '205_3b4_Al_mc_AKGC417L.txt', '207_2b3_Pl_mc_AKGC417L.txt', '203_2p3_Pr_mc_AKGC417L.txt', '210_1b1_Al_sc_Meditron.txt', '205_1b3_Lr_mc_AKGC417L.txt', '207_3b2_Al_mc_AKGC417L.txt', '203_1p2_Al_mc_AKGC417L.txt', '206_1b1_Lr_sc_Meditron.txt', '205_4b2_Lr_mc_AKGC417L.txt', '211_1p2_Pr_mc_AKGC417L.txt', '204_7p5_Lr_mc_AKGC417L.txt', '203_2p3_Pl_mc_AKGC417L.txt', '213_1p2_Lr_mc_AKGC417L.txt', '203_1p2_Pl_mc_AKGC417L.txt', '205_3b4_Ar_mc_AKGC417L.txt', '203_1p4_Pr_mc_AKGC417L.txt', '217_1b1_Tc_sc_Meditron.txt', '218_1p1_Ar_sc_Litt3200.txt', '221_2b2_Ar_mc_LittC2SE.txt', '219_2b2_Ar_mc_LittC2SE.txt', '215_1b3_Tc_sc_Meditron.txt', '226_1b1_Ll_sc_Meditron.txt', '213_1p5_Al_mc_AKGC417L.txt', '221_2b3_Pr_mc_LittC2SE.txt', '221_2b1_Ar_mc_LittC2SE.txt', '145_2b2_Ar_mc_AKGC417L.txt', '145_3b4_Pl_mc_AKGC417L.txt', '145_3b2_Lr_mc_AKGC417L.txt', '106_2b1_Pr_mc_LittC2SE.txt', '146_2b4_Al_mc_AKGC417L.txt', '146_2b4_Ar_mc_AKGC417L.txt', '107_2b3_Al_mc_AKGC417L.txt', '107_2b3_Ar_mc_AKGC417L.txt', '107_2b3_Pr_mc_AKGC417L.txt', '107_2b4_Al_mc_AKGC417L.txt', '107_2b4_Pl_mc_AKGC417L.txt', '107_3p2_Ar_mc_AKGC417L.txt', '107_2b5_Tc_mc_AKGC417L.txt', '107_2b5_Ll_mc_AKGC417L.txt', '107_2b4_Ar_mc_AKGC417L.txt', '120_1b1_Ar_sc_Meditron.txt', '121_1b1_Tc_sc_Meditron.txt', '118_1b1_Ar_sc_Litt3200.txt', '112_1p1_Pr_sc_Litt3200.txt', '112_1p1_Ll_sc_Litt3200.txt', '120_1b1_Al_sc_Meditron.txt', '116_1b2_Pl_sc_Meditron.txt', '110_1b1_Pr_sc_Meditron.txt', '114_1b4_Al_mc_AKGC417L.txt', '110_1p1_Ll_sc_Meditron.txt', '122_2b1_Al_mc_LittC2SE.txt', '107_3p2_Lr_mc_AKGC417L.txt', '118_1b1_Ll_sc_Litt3200.txt', '110_1p1_Pr_sc_Meditron.txt', '114_1b4_Lr_mc_AKGC417L.txt', '110_1p1_Al_sc_Meditron.txt', '122_2b2_Tc_mc_LittC2SE.txt', '130_1p4_Tc_mc_AKGC417L.txt', '130_1p3_Pl_mc_AKGC417L.txt', '130_2b3_Al_mc_AKGC417L.txt', '122_2b1_Ar_mc_LittC2SE.txt', '130_1p4_Pl_mc_AKGC417L.txt', '125_1b1_Tc_sc_Meditron.txt', '130_2b2_Al_mc_AKGC417L.txt', '127_1b1_Ar_sc_Meditron.txt', '130_2b2_Ll_mc_AKGC417L.txt', '130_2b3_Ar_mc_AKGC417L.txt', '122_2b3_Tc_mc_LittC2SE.txt', '130_2b3_Ll_mc_AKGC417L.txt', '130_1p3_Pr_mc_AKGC417L.txt', '130_3p3_Pl_mc_AKGC417L.txt', '130_3p4_Pl_mc_AKGC417L.txt', '130_2b4_Lr_mc_AKGC417L.txt', '130_3p4_Al_mc_AKGC417L.txt', '133_2p2_Ar_mc_AKGC417L.txt', '130_2b4_Pl_mc_AKGC417L.txt', '133_2p3_Ar_mc_AKGC417L.txt', '130_3b3_Ll_mc_AKGC417L.txt', '130_3b4_Pl_mc_AKGC417L.txt', '133_2p2_Tc_mc_AKGC417L.txt', '130_2p5_Lr_mc_AKGC417L.txt', '130_2p5_Ar_mc_AKGC417L.txt', '130_2b3_Pr_mc_AKGC417L.txt', '132_2b2_Lr_mc_LittC2SE.txt', '133_2p4_Ar_mc_AKGC417L.txt', '138_1p2_Pl_mc_AKGC417L.txt', '133_3p2_Ar_mc_AKGC417L.txt', '135_2b2_Al_mc_LittC2SE.txt', '133_2p4_Pl_mc_AKGC417L.txt', '135_2b1_Pl_mc_LittC2SE.txt', '135_2b2_Pl_mc_LittC2SE.txt', '135_2b3_Pr_mc_LittC2SE.txt', '135_2b3_Ar_mc_LittC2SE.txt', '133_2p3_Tc_mc_AKGC417L.txt', '133_2p4_Tc_mc_AKGC417L.txt', '135_2b2_Tc_mc_LittC2SE.txt', '138_1p3_Al_mc_AKGC417L.txt', '138_1p2_Al_mc_AKGC417L.txt', '134_2b1_Al_mc_LittC2SE.txt', '134_2b2_Ar_mc_LittC2SE.txt', '137_1b1_Ar_sc_Meditron.txt', '138_1p2_Ar_mc_AKGC417L.txt', '133_3p4_Tc_mc_AKGC417L.txt', '138_2p2_Lr_mc_AKGC417L.txt', '140_2b2_Tc_mc_LittC2SE.txt', '146_8p3_Al_mc_AKGC417L.txt', '146_8p3_Pl_mc_AKGC417L.txt', '144_1b1_Al_sc_Meditron.txt', '142_1b1_Pl_mc_LittC2SE.txt', '146_2b4_Pr_mc_AKGC417L.txt', '147_1b2_Tc_mc_AKGC417L.txt', '138_1p3_Pr_mc_AKGC417L.txt', '151_2p3_Lr_mc_AKGC417L.txt', '147_2b4_Lr_mc_AKGC417L.txt', '149_1b1_Al_sc_Meditron.txt', '151_2p4_Lr_mc_AKGC417L.txt', '151_2p3_Ar_mc_AKGC417L.txt', '151_2p3_Al_mc_AKGC417L.txt', '151_2p2_Pl_mc_AKGC417L.txt', '151_2p3_Ll_mc_AKGC417L.txt', '147_2b4_Al_mc_AKGC417L.txt', '151_3p2_Lr_mc_AKGC417L.txt', '151_3p2_Ar_mc_AKGC417L.txt', '151_2p4_Ll_mc_AKGC417L.txt', '151_2p4_Ar_mc_AKGC417L.txt', '151_2p3_Pr_mc_AKGC417L.txt', '151_2p4_Pl_mc_AKGC417L.txt', '154_4b4_Ll_mc_AKGC417L.txt', '154_1b3_Ar_mc_AKGC417L.txt', '154_4b4_Pr_mc_AKGC417L.txt', '154_4b4_Ar_mc_AKGC417L.txt', '151_3p3_Ll_mc_AKGC417L.txt', '154_1b3_Tc_mc_AKGC417L.txt', '155_2b1_Al_mc_LittC2SE.txt', '154_3b3_Ar_mc_AKGC417L.txt', '156_5b3_Lr_mc_AKGC417L.txt', '158_1p2_Ar_mc_AKGC417L.txt', '157_1b1_Pl_sc_Meditron.txt', '157_1b1_Ar_sc_Meditron.txt', '158_1p3_Lr_mc_AKGC417L.txt', '156_8b3_Ar_mc_AKGC417L.txt', '158_1p2_Pr_mc_AKGC417L.txt', '158_1p3_Pl_mc_AKGC417L.txt', '158_1p3_Tc_mc_AKGC417L.txt', '158_1p3_Ar_mc_AKGC417L.txt', '158_1p4_Lr_mc_AKGC417L.txt', '162_1b2_Ar_mc_AKGC417L.txt', '159_1b1_Ll_sc_Meditron.txt', '162_1b2_Pr_mc_AKGC417L.txt', '163_8b3_Lr_mc_AKGC417L.txt', '163_2b2_Pr_mc_AKGC417L.txt', '162_2b2_Ar_mc_AKGC417L.txt', '163_8b3_Pr_mc_AKGC417L.txt', '163_2b2_Al_mc_AKGC417L.txt', '164_1b1_Ll_sc_Meditron.txt', '163_8b3_Al_mc_AKGC417L.txt', '170_1b3_Al_mc_AKGC417L.txt', '172_1b4_Ar_mc_AKGC417L.txt', '172_1b4_Al_mc_AKGC417L.txt', '166_1p1_Pr_sc_Meditron.txt', '170_2b2_Pr_mc_AKGC417L.txt', '170_1b3_Lr_mc_AKGC417L.txt', '172_1b3_Tc_mc_AKGC417L.txt', '172_1b3_Ll_mc_AKGC417L.txt', '170_1b4_Pr_mc_AKGC417L.txt', '170_1b2_Pr_mc_AKGC417L.txt', '170_1b4_Ar_mc_AKGC417L.txt', '170_1b2_Pl_mc_AKGC417L.txt', '167_1b1_Pr_sc_Meditron.txt', '170_2b2_Al_mc_AKGC417L.txt', '170_1b3_Ll_mc_AKGC417L.txt', '174_1p2_Pl_mc_AKGC417L.txt', '174_1p2_Ar_mc_AKGC417L.txt', '172_2b5_Al_mc_AKGC417L.txt', '172_1b5_Lr_mc_AKGC417L.txt', '174_1p4_Lr_mc_AKGC417L.txt', '174_1p3_Pl_mc_AKGC417L.txt', '172_1b4_Tc_mc_AKGC417L.txt', '173_1b1_Al_sc_Meditron.txt', '174_2p3_Tc_mc_AKGC417L.txt', '174_1p3_Lr_mc_AKGC417L.txt', '172_1b5_Pl_mc_AKGC417L.txt', '172_1b4_Lr_mc_AKGC417L.txt', '174_1p4_Ll_mc_AKGC417L.txt', '172_1b5_Tc_mc_AKGC417L.txt', '176_1b3_Tc_mc_AKGC417L.txt', '178_1b3_Al_mc_AKGC417L.txt', '178_1b2_Pr_mc_AKGC417L.txt', '175_1b1_Lr_sc_Litt3200.txt', '178_1b6_Ll_mc_AKGC417L.txt', '176_1b3_Ar_mc_AKGC417L.txt', '176_2b3_Tc_mc_AKGC417L.txt', '176_1b4_Lr_mc_AKGC417L.txt', '175_1b1_Al_sc_Litt3200.txt', '175_1b1_Ll_sc_Litt3200.txt', '176_1b4_Tc_mc_AKGC417L.txt', '178_1b3_Pr_mc_AKGC417L.txt', '178_1b3_Pl_mc_AKGC417L.txt', '178_1b2_Lr_mc_AKGC417L.txt', '175_1b1_Ar_sc_Litt3200.txt', '176_2b3_Pl_mc_AKGC417L.txt', '178_1b2_Pl_mc_AKGC417L.txt', '178_1b2_Al_mc_AKGC417L.txt', '176_1b3_Pl_mc_AKGC417L.txt', '176_1b3_Pr_mc_AKGC417L.txt', '186_3b3_Pr_mc_AKGC417L.txt', '184_1b1_Ar_sc_Meditron.txt', '186_2b2_Tc_mc_AKGC417L.txt', '178_2b2_Tc_mc_AKGC417L.txt', '181_1b3_Tc_mc_LittC2SE.txt', '178_1b6_Pl_mc_AKGC417L.txt', '186_2b4_Al_mc_AKGC417L.txt', '186_2b3_Pl_mc_AKGC417L.txt', '178_2b2_Ar_mc_AKGC417L.txt', '183_1b1_Pl_sc_Meditron.txt', '180_1b4_Lr_mc_AKGC417L.txt', '186_2b2_Ar_mc_AKGC417L.txt', '178_1b6_Pr_mc_AKGC417L.txt', '178_2b2_Pr_mc_AKGC417L.txt', '186_3b3_Pl_mc_AKGC417L.txt', '200_2p2_Pr_mc_AKGC417L.txt', '193_1b2_Ll_mc_AKGC417L.txt', '200_2p2_Pl_mc_AKGC417L.txt', '195_1b1_Ll_sc_Litt3200.txt', '193_7b3_Tc_mc_AKGC417L.txt', '193_1b2_Pl_mc_AKGC417L.txt', '200_2p2_Lr_mc_AKGC417L.txt', '200_2p4_Al_mc_AKGC417L.txt', '193_1b2_Ar_mc_AKGC417L.txt', '200_2p2_Tc_mc_AKGC417L.txt', '193_1b2_Al_mc_AKGC417L.txt', '192_2b3_Ar_mc_LittC2SE.txt', '195_1b1_Pl_sc_Litt3200.txt', '193_7b3_Ll_mc_AKGC417L.txt', '200_3p4_Pl_mc_AKGC417L.txt', '192_2b1_Al_mc_LittC2SE.txt', '192_2b1_Ar_mc_LittC2SE.txt', '205_3b4_Pr_mc_AKGC417L.txt', '204_2b5_Al_mc_AKGC417L.txt', '205_2b2_Pr_mc_AKGC417L.txt', '203_2p3_Tc_mc_AKGC417L.txt', '203_2p3_Al_mc_AKGC417L.txt', '203_1p2_Pr_mc_AKGC417L.txt', '205_4b2_Al_mc_AKGC417L.txt', '205_1b3_Ar_mc_AKGC417L.txt', '203_1p3_Pr_mc_AKGC417L.txt', '205_1b3_Pr_mc_AKGC417L.txt', '205_1b3_Pl_mc_AKGC417L.txt', '213_1p2_Tc_mc_AKGC417L.txt', '207_3b2_Pr_mc_AKGC417L.txt', '207_2b3_Ar_mc_AKGC417L.txt', '207_2b2_Ar_mc_AKGC417L.txt', '207_3b2_Tc_mc_AKGC417L.txt', '207_2b3_Pr_mc_AKGC417L.txt', '207_2b4_Al_mc_AKGC417L.txt', '213_1p2_Ar_mc_AKGC417L.txt', '207_3b2_Lr_mc_AKGC417L.txt', '207_2b2_Pl_mc_AKGC417L.txt', '207_2b4_Tc_mc_AKGC417L.txt', '207_2b2_Al_mc_AKGC417L.txt', '206_1b1_Ar_sc_Meditron.txt', '207_2b3_Tc_mc_AKGC417L.txt', '211_2p2_Tc_mc_AKGC417L.txt', '207_2b4_Pr_mc_AKGC417L.txt', '211_1p2_Pl_mc_AKGC417L.txt', '213_1p3_Pr_mc_AKGC417L.txt', '218_1b1_Pl_sc_Meditron.txt', '218_1b1_Ar_sc_Meditron.txt', '213_1p5_Ar_mc_AKGC417L.txt', '219_2b1_Tc_mc_LittC2SE.txt', '218_1p1_Pl_sc_Litt3200.txt', '219_2b2_Tc_mc_LittC2SE.txt', '213_1p3_Al_mc_AKGC417L.txt', '107_3p2_Ll_mc_AKGC417L.txt', '221_2b3_Ar_mc_LittC2SE.txt', '107_2b4_Lr_mc_AKGC417L.txt', '222_1b1_Pr_sc_Meditron.txt', 'filename_differences.txt', '107_3p2_Al_mc_AKGC417L.txt', '224_1b2_Al_sc_Meditron.txt', '222_1b1_Ar_sc_Meditron.txt', '107_2b4_Pr_mc_AKGC417L.txt', '221_2b3_Al_mc_LittC2SE.txt', '107_2b5_Pr_mc_AKGC417L.txt', '112_1b1_Ar_sc_Meditron.txt', '107_2b3_Pl_mc_AKGC417L.txt', '107_2b3_Ll_mc_AKGC417L.txt', '107_3p2_Pr_mc_AKGC417L.txt', '221_2b2_Pl_mc_LittC2SE.txt', 'filename_format.txt', '107_2b5_Lr_mc_AKGC417L.txt', '130_2b2_Pr_mc_AKGC417L.txt', '119_1b1_Ar_sc_Meditron.txt', '130_1p3_Ar_mc_AKGC417L.txt', '115_1b1_Ar_sc_Meditron.txt', '130_2b3_Pl_mc_AKGC417L.txt', '130_2b2_Lr_mc_AKGC417L.txt', '130_1p4_Lr_mc_AKGC417L.txt', '124_1b1_Pr_sc_Litt3200.txt', '121_1p1_Tc_sc_Meditron.txt', '130_1p4_Al_mc_AKGC417L.txt', '124_1b1_Pl_sc_Litt3200.txt', '120_1b1_Pr_sc_Meditron.txt', '112_1p1_Pl_sc_Litt3200.txt', '128_1b3_Tc_mc_LittC2SE.txt', '120_1b1_Lr_sc_Meditron.txt', '130_1p2_Pl_mc_AKGC417L.txt', '130_2b3_Lr_mc_AKGC417L.txt', '130_1p2_Lr_mc_AKGC417L.txt', '122_2b2_Al_mc_LittC2SE.txt', '122_2b1_Tc_mc_LittC2SE.txt', '130_2b2_Ar_mc_AKGC417L.txt', '130_2b3_Tc_mc_AKGC417L.txt', '133_2p2_Al_mc_AKGC417L.txt']\n"
          ]
        }
      ],
      "source": [
        "folder = dataset_dir\n",
        "file_names = [pos_txt for pos_txt in os.listdir(folder) if pos_txt.endswith(\".txt\")]\n",
        "print(file_names)"
      ]
    },
    {
      "cell_type": "code",
      "execution_count": null,
      "metadata": {
        "id": "tkd3TUN7qvAY"
      },
      "outputs": [],
      "source": [
        "import numpy as np\n",
        "import scipy.signal as sps\n",
        "from scipy.io import wavfile"
      ]
    },
    {
      "cell_type": "code",
      "execution_count": null,
      "metadata": {
        "id": "I6xea0_7q35C"
      },
      "outputs": [],
      "source": [
        "number_of_samples = 57600\n",
        "x, y = [], []"
      ]
    },
    {
      "cell_type": "code",
      "execution_count": null,
      "metadata": {
        "id": "jnO_JHee6RYv"
      },
      "outputs": [],
      "source": [
        "import os\n",
        "import numpy as np\n",
        "from scipy.io import wavfile # for signal processing.\n",
        "from scipy import signal as sps"
      ]
    },
    {
      "cell_type": "markdown",
      "metadata": {
        "id": "2XlZoqjivEyj"
      },
      "source": [
        "1. Reads .txt files and extracts numerical data.\n",
        "2. Reads corresponding .wav audio files.\n",
        "3. Stores extracted information for further processing."
      ]
    },
    {
      "cell_type": "code",
      "execution_count": null,
      "metadata": {
        "colab": {
          "base_uri": "https://localhost:8080/"
        },
        "id": "XNF5G0ePmvBF",
        "outputId": "b6417233-9ec4-46a4-c5e7-fe63f7934cfb"
      },
      "outputs": [
        {
          "output_type": "stream",
          "name": "stdout",
          "text": [
            "[INFO] processed 10/812\n",
            "[INFO] processed 20/812\n",
            "[INFO] processed 30/812\n",
            "[INFO] processed 40/812\n",
            "[INFO] processed 50/812\n",
            "[INFO] processed 60/812\n",
            "[INFO] processed 70/812\n",
            "[INFO] processed 80/812\n",
            "[INFO] processed 90/812\n",
            "[INFO] processed 100/812\n",
            "[INFO] processed 110/812\n",
            "[INFO] processed 120/812\n",
            "[INFO] processed 130/812\n",
            "[INFO] processed 140/812\n",
            "[INFO] processed 150/812\n",
            "[INFO] processed 160/812\n",
            "[INFO] processed 170/812\n",
            "[INFO] processed 180/812\n",
            "[INFO] processed 190/812\n",
            "[INFO] processed 200/812\n",
            "[INFO] processed 210/812\n",
            "[INFO] processed 220/812\n",
            "[INFO] processed 230/812\n",
            "[INFO] processed 240/812\n",
            "[INFO] processed 250/812\n",
            "[INFO] processed 260/812\n",
            "[INFO] processed 270/812\n",
            "[INFO] processed 280/812\n",
            "[INFO] processed 290/812\n",
            "[INFO] processed 300/812\n",
            "[INFO] processed 310/812\n",
            "[INFO] processed 320/812\n",
            "[INFO] processed 330/812\n",
            "[INFO] processed 340/812\n",
            "[INFO] processed 350/812\n",
            "[INFO] processed 360/812\n",
            "[INFO] processed 370/812\n",
            "[INFO] processed 380/812\n",
            "[INFO] processed 390/812\n",
            "[INFO] processed 400/812\n",
            "[INFO] processed 410/812\n",
            "[INFO] processed 420/812\n",
            "[INFO] processed 430/812\n",
            "[INFO] processed 440/812\n",
            "[INFO] processed 450/812\n",
            "[INFO] processed 460/812\n",
            "[INFO] processed 470/812\n",
            "[INFO] processed 480/812\n",
            "[INFO] processed 490/812\n",
            "[INFO] processed 500/812\n",
            "[INFO] processed 510/812\n",
            "[INFO] processed 520/812\n",
            "[INFO] processed 530/812\n",
            "[INFO] processed 540/812\n",
            "[INFO] processed 550/812\n",
            "[INFO] processed 560/812\n",
            "[INFO] processed 570/812\n",
            "[INFO] processed 580/812\n",
            "[INFO] processed 590/812\n",
            "[INFO] processed 600/812\n",
            "[INFO] processed 610/812\n",
            "[INFO] processed 620/812\n",
            "[INFO] processed 630/812\n",
            "[INFO] processed 640/812\n",
            "[INFO] processed 650/812\n",
            "[INFO] processed 660/812\n",
            "[INFO] processed 670/812\n",
            "[INFO] processed 680/812\n",
            "[INFO] processed 690/812\n",
            "[INFO] processed 700/812\n",
            "[INFO] processed 710/812\n",
            "[INFO] processed 720/812\n",
            "[INFO] processed 730/812\n",
            "[INFO] processed 740/812\n",
            "[INFO] processed 750/812\n",
            "[INFO] processed 760/812\n",
            "[INFO] processed 770/812\n",
            "[INFO] processed 780/812\n",
            "[INFO] processed 790/812\n",
            "[INFO] processed 800/812\n",
            "[INFO] processed 810/812\n",
            "[INFO] processed 812/812\n"
          ]
        }
      ],
      "source": [
        "file_names = [pos_txt for pos_txt in os.listdir(dataset_dir) if pos_txt.endswith(\".txt\")]\n",
        "total_files = len(file_names)\n",
        "for i, file_name in enumerate(file_names):\n",
        "    if (file_name==\"filename_differences.txt\" or file_name==\"filename_format.txt\" or file_name==\"script.sh\"):\n",
        "      continue\n",
        "    txt_file = open(os.path.join(dataset_dir, file_name)).readlines()\n",
        "    txt_data = []\n",
        "    for row in txt_file:\n",
        "        data_i = []\n",
        "        for data_ij in row.split():\n",
        "            data_i.append(float(data_ij))\n",
        "        txt_data.append(data_i)\n",
        "    sampling_rate, audio_data = wavfile.read(os.path.join(dataset_dir, os.path.splitext(file_name)[0]+'.wav'))\n",
        "\n",
        "    '''\n",
        "    Extracts audio segments based on timestamps in .txt files.\n",
        "    Ensures each segment has the required number of samples.\n",
        "    Appends the processed data to x and labels to y.\n",
        "    '''\n",
        "\n",
        "    for row in txt_data:\n",
        "        audio_data_i = audio_data[..., round(row[0]*sampling_rate):round(row[1]*sampling_rate)]/22e6\n",
        "        audio_data_i = sps.resample(audio_data_i, number_of_samples)\n",
        "        audio_data_i = np.reshape(audio_data_i, (round(number_of_samples**0.5),round(number_of_samples**0.5)))\n",
        "        f, t, spec = sps.spectrogram(audio_data_i, fs=sampling_rate, nperseg=64, noverlap=32)\n",
        "        spec_db = 20*np.log10(spec+1e-6)\n",
        "        spec_norm = (spec_db - np.min(spec_db)) / (np.max(spec_db) - np.min(spec_db))\n",
        "        x.append(audio_data_i)\n",
        "        y.append(row[2:])\n",
        "    if (i+1)%10==0 or i==total_files-1:\n",
        "        print(\"[INFO] processed {}/{}\".format(i+1, total_files))"
      ]
    },
    {
      "cell_type": "code",
      "execution_count": null,
      "metadata": {
        "colab": {
          "base_uri": "https://localhost:8080/"
        },
        "id": "eIbrNkXGx4gv",
        "outputId": "0980afc7-e588-4e5b-ca3e-7ca7d4868dcb"
      },
      "outputs": [
        {
          "output_type": "stream",
          "name": "stdout",
          "text": [
            "[[1.0, 0.0], [1.0, 0.0], [1.0, 0.0], [1.0, 0.0], [1.0, 0.0], [1.0, 0.0], [1.0, 0.0], [1.0, 0.0], [1.0, 0.0], [1.0, 0.0], [1.0, 0.0], [1.0, 0.0], [1.0, 1.0], [1.0, 0.0], [1.0, 1.0], [1.0, 0.0], [1.0, 0.0], [1.0, 0.0], [1.0, 0.0], [1.0, 0.0], [1.0, 0.0], [1.0, 0.0], [1.0, 0.0], [0.0, 0.0], [1.0, 0.0], [1.0, 0.0], [1.0, 0.0], [1.0, 0.0], [1.0, 0.0], [1.0, 0.0], [1.0, 0.0], [1.0, 0.0], [1.0, 0.0], [1.0, 0.0], [1.0, 0.0], [1.0, 0.0], [1.0, 0.0], [1.0, 0.0], [1.0, 0.0], [0.0, 0.0], [0.0, 0.0], [0.0, 0.0], [0.0, 0.0], [0.0, 0.0], [0.0, 0.0], [0.0, 0.0], [0.0, 0.0], [1.0, 0.0], [1.0, 1.0], [1.0, 0.0], [1.0, 0.0], [1.0, 0.0], [1.0, 0.0], [1.0, 0.0], [1.0, 0.0], [1.0, 0.0], [1.0, 0.0], [1.0, 0.0], [0.0, 0.0], [0.0, 0.0], [0.0, 0.0], [0.0, 0.0], [0.0, 0.0], [0.0, 1.0], [0.0, 1.0], [1.0, 1.0], [0.0, 1.0], [0.0, 1.0], [0.0, 1.0], [1.0, 1.0], [0.0, 1.0], [1.0, 0.0], [1.0, 0.0], [1.0, 0.0], [1.0, 1.0], [1.0, 0.0], [1.0, 0.0], [1.0, 0.0], [0.0, 0.0], [0.0, 0.0], [0.0, 0.0], [0.0, 0.0], [0.0, 0.0], [0.0, 0.0], [0.0, 0.0], [1.0, 0.0], [1.0, 0.0], [1.0, 0.0], [1.0, 0.0], [1.0, 0.0], [1.0, 0.0], [1.0, 0.0], [1.0, 0.0], [0.0, 0.0], [0.0, 0.0], [0.0, 0.0], [0.0, 0.0], [0.0, 0.0], [0.0, 0.0], [0.0, 0.0], [1.0, 0.0], [0.0, 0.0], [1.0, 0.0], [1.0, 0.0], [0.0, 0.0], [0.0, 0.0], [1.0, 1.0], [1.0, 1.0], [1.0, 1.0], [1.0, 1.0], [1.0, 1.0], [1.0, 0.0], [1.0, 0.0], [1.0, 0.0], [0.0, 0.0], [1.0, 0.0], [1.0, 0.0], [1.0, 0.0], [1.0, 0.0], [1.0, 0.0], [1.0, 0.0], [1.0, 1.0], [1.0, 0.0], [0.0, 0.0], [0.0, 0.0], [1.0, 0.0], [1.0, 0.0], [1.0, 0.0], [1.0, 0.0], [1.0, 0.0], [1.0, 0.0], [1.0, 0.0], [1.0, 0.0], [1.0, 0.0], [1.0, 0.0], [0.0, 0.0], [0.0, 0.0], [0.0, 0.0], [0.0, 0.0], [0.0, 0.0], [0.0, 0.0], [0.0, 0.0], [0.0, 0.0], [0.0, 0.0], [1.0, 0.0], [1.0, 0.0], [1.0, 0.0], [1.0, 0.0], [1.0, 0.0], [1.0, 1.0], [1.0, 0.0], [1.0, 0.0], [1.0, 0.0], [1.0, 0.0], [0.0, 0.0], [0.0, 0.0], [0.0, 0.0], [0.0, 1.0], [0.0, 0.0], [0.0, 0.0], [0.0, 0.0], [0.0, 0.0], [0.0, 0.0], [0.0, 0.0], [0.0, 0.0], [0.0, 0.0], [0.0, 0.0], [0.0, 0.0], [1.0, 0.0], [1.0, 0.0], [1.0, 1.0], [1.0, 0.0], [1.0, 0.0], [1.0, 0.0], [1.0, 1.0], [1.0, 0.0], [1.0, 0.0], [1.0, 0.0], [1.0, 0.0], [0.0, 0.0], [1.0, 0.0], [1.0, 0.0], [1.0, 0.0], [1.0, 0.0], [1.0, 0.0], [1.0, 0.0], [1.0, 0.0], [1.0, 0.0], [0.0, 0.0], [1.0, 0.0], [0.0, 0.0], [0.0, 0.0], [0.0, 0.0], [0.0, 0.0], [0.0, 0.0], [0.0, 0.0], [1.0, 0.0], [0.0, 0.0], [0.0, 0.0], [0.0, 0.0], [0.0, 0.0], [0.0, 0.0], [0.0, 1.0], [0.0, 0.0], [0.0, 1.0], [0.0, 1.0], [0.0, 0.0], [0.0, 1.0], [0.0, 1.0], [0.0, 1.0], [0.0, 1.0], [0.0, 0.0], [0.0, 0.0], [0.0, 1.0], [0.0, 1.0], [0.0, 0.0], [0.0, 1.0], [0.0, 1.0], [0.0, 1.0], [0.0, 0.0], [0.0, 0.0], [0.0, 0.0], [0.0, 0.0], [0.0, 0.0], [0.0, 0.0], [0.0, 0.0], [0.0, 0.0], [0.0, 1.0], [0.0, 1.0], [0.0, 1.0], [0.0, 0.0], [0.0, 0.0], [0.0, 0.0], [0.0, 0.0], [0.0, 0.0], [0.0, 0.0], [1.0, 1.0], [1.0, 1.0], [0.0, 1.0], [1.0, 1.0], [0.0, 1.0], [0.0, 0.0], [0.0, 0.0], [0.0, 0.0], [0.0, 1.0], [0.0, 0.0], [0.0, 1.0], [0.0, 0.0], [0.0, 1.0], [0.0, 1.0], [0.0, 1.0], [0.0, 1.0], [0.0, 0.0], [0.0, 0.0], [0.0, 0.0], [0.0, 0.0], [0.0, 0.0], [0.0, 0.0], [0.0, 0.0], [0.0, 0.0], [1.0, 0.0], [1.0, 0.0], [0.0, 0.0], [0.0, 0.0], [0.0, 0.0], [0.0, 0.0], [0.0, 0.0], [0.0, 0.0], [0.0, 0.0], [0.0, 0.0], [0.0, 0.0], [0.0, 0.0], [0.0, 0.0], [0.0, 0.0], [0.0, 0.0], [0.0, 1.0], [1.0, 1.0], [0.0, 1.0], [0.0, 0.0], [0.0, 0.0], [0.0, 1.0], [0.0, 1.0], [0.0, 1.0], [0.0, 1.0], [0.0, 0.0], [0.0, 1.0], [0.0, 1.0], [0.0, 0.0], [0.0, 1.0], [0.0, 0.0], [0.0, 0.0], [0.0, 0.0], [0.0, 0.0], [0.0, 0.0], [0.0, 0.0], [0.0, 0.0], [0.0, 0.0], [0.0, 0.0], [0.0, 0.0], [0.0, 0.0], [0.0, 0.0], [1.0, 1.0], [1.0, 1.0], [1.0, 1.0], [1.0, 1.0], [1.0, 1.0], [1.0, 1.0], [0.0, 0.0], [0.0, 0.0], [0.0, 0.0], [0.0, 0.0], [0.0, 0.0], [0.0, 0.0], [0.0, 0.0], [0.0, 0.0], [0.0, 0.0], [0.0, 0.0], [0.0, 0.0], [0.0, 0.0], [1.0, 0.0], [1.0, 0.0], [0.0, 0.0], [0.0, 0.0], [0.0, 0.0], [0.0, 0.0], [0.0, 0.0], [0.0, 0.0], [0.0, 0.0], [0.0, 0.0], [0.0, 1.0], [0.0, 0.0], [0.0, 0.0], [0.0, 0.0], [0.0, 0.0], [0.0, 1.0], [0.0, 0.0], [0.0, 1.0], [0.0, 0.0], [0.0, 0.0], [0.0, 0.0], [0.0, 0.0], [0.0, 0.0], [0.0, 0.0], [0.0, 0.0], [0.0, 0.0], [0.0, 0.0], [0.0, 0.0], [0.0, 0.0], [0.0, 0.0], [0.0, 0.0], [0.0, 0.0], [0.0, 0.0], [0.0, 1.0], [0.0, 0.0], [0.0, 0.0], [0.0, 0.0], [0.0, 0.0], [0.0, 0.0], [0.0, 0.0], [0.0, 0.0], [0.0, 0.0], [0.0, 0.0], [0.0, 0.0], [0.0, 0.0], [1.0, 0.0], [0.0, 0.0], [1.0, 0.0], [1.0, 0.0], [1.0, 0.0], [1.0, 0.0], [0.0, 0.0], [0.0, 0.0], [0.0, 0.0], [1.0, 0.0], [1.0, 0.0], [1.0, 0.0], [1.0, 1.0], [1.0, 1.0], [1.0, 1.0], [1.0, 1.0], [1.0, 1.0], [1.0, 1.0], [1.0, 0.0], [1.0, 1.0], [1.0, 0.0], [1.0, 0.0], [1.0, 1.0], [1.0, 0.0], [1.0, 0.0], [1.0, 0.0], [0.0, 0.0], [1.0, 0.0], [0.0, 1.0], [1.0, 1.0], [1.0, 1.0], [1.0, 1.0], [1.0, 0.0], [1.0, 1.0], [1.0, 1.0], [0.0, 0.0], [0.0, 0.0], [0.0, 0.0], [0.0, 0.0], [0.0, 0.0], [0.0, 0.0], [0.0, 0.0], [0.0, 0.0], [1.0, 1.0], [1.0, 1.0], [1.0, 1.0], [1.0, 1.0], [0.0, 1.0], [0.0, 1.0], [0.0, 1.0], [1.0, 0.0], [1.0, 0.0], [1.0, 0.0], [1.0, 0.0], [1.0, 0.0], [0.0, 0.0], [1.0, 0.0], [0.0, 0.0], [0.0, 0.0], [0.0, 0.0], [0.0, 0.0], [1.0, 0.0], [1.0, 0.0], [1.0, 0.0], [1.0, 0.0], [0.0, 0.0], [0.0, 0.0], [1.0, 0.0], [1.0, 0.0], [1.0, 0.0], [1.0, 0.0], [1.0, 0.0], [1.0, 0.0], [1.0, 1.0], [1.0, 1.0], [1.0, 1.0], [1.0, 1.0], [1.0, 1.0], [1.0, 1.0], [1.0, 1.0], [1.0, 0.0], [1.0, 0.0], [1.0, 0.0], [1.0, 0.0], [1.0, 0.0], [1.0, 0.0], [1.0, 0.0], [0.0, 0.0], [0.0, 0.0], [1.0, 0.0], [0.0, 0.0], [0.0, 0.0], [1.0, 0.0], [0.0, 0.0], [1.0, 0.0], [1.0, 0.0], [1.0, 0.0], [1.0, 0.0], [1.0, 0.0], [1.0, 0.0], [1.0, 0.0], [1.0, 0.0], [1.0, 0.0], [0.0, 0.0], [1.0, 0.0], [1.0, 0.0], [1.0, 0.0], [1.0, 0.0], [1.0, 0.0], [1.0, 0.0], [1.0, 0.0], [1.0, 0.0], [1.0, 0.0], [1.0, 0.0], [1.0, 0.0], [0.0, 0.0], [0.0, 1.0], [1.0, 1.0], [1.0, 1.0], [1.0, 1.0], [1.0, 1.0], [1.0, 1.0], [0.0, 1.0], [1.0, 1.0], [1.0, 1.0], [0.0, 0.0], [0.0, 0.0], [0.0, 0.0], [0.0, 0.0], [0.0, 0.0], [0.0, 0.0], [0.0, 0.0], [0.0, 0.0], [0.0, 0.0], [1.0, 0.0], [1.0, 0.0], [1.0, 0.0], [1.0, 1.0], [1.0, 0.0], [1.0, 0.0], [0.0, 0.0], [0.0, 0.0], [0.0, 0.0], [0.0, 0.0], [0.0, 0.0], [0.0, 0.0], [0.0, 0.0], [0.0, 0.0], [0.0, 0.0], [0.0, 0.0], [0.0, 1.0], [1.0, 1.0], [1.0, 1.0], [1.0, 0.0], [1.0, 1.0], [1.0, 1.0], [0.0, 1.0], [0.0, 1.0], [0.0, 0.0], [0.0, 1.0], [1.0, 1.0], [0.0, 1.0], [0.0, 1.0], [0.0, 1.0], [1.0, 1.0], [0.0, 1.0], [0.0, 1.0], [0.0, 1.0], [0.0, 1.0], [0.0, 1.0], [0.0, 1.0], [1.0, 1.0], [1.0, 1.0], [1.0, 0.0], [0.0, 0.0], [1.0, 0.0], [1.0, 0.0], [0.0, 0.0], [1.0, 1.0], [0.0, 0.0], [0.0, 0.0], [0.0, 0.0], [0.0, 0.0], [0.0, 1.0], [0.0, 1.0], [0.0, 1.0], [0.0, 1.0], [0.0, 1.0], [0.0, 1.0], [0.0, 1.0], [0.0, 0.0], [0.0, 0.0], [0.0, 0.0], [0.0, 0.0], [0.0, 0.0], [0.0, 0.0], [0.0, 0.0], [0.0, 0.0], [0.0, 0.0], [0.0, 0.0], [0.0, 0.0], [0.0, 0.0], [0.0, 0.0], [0.0, 0.0], [0.0, 0.0], [0.0, 0.0], [0.0, 0.0], [0.0, 0.0], [1.0, 0.0], [0.0, 0.0], [1.0, 0.0], [1.0, 0.0], [1.0, 0.0], [1.0, 0.0], [1.0, 0.0], [0.0, 0.0], [0.0, 0.0], [0.0, 0.0], [0.0, 0.0], [0.0, 0.0], [1.0, 0.0], [1.0, 0.0], [0.0, 0.0], [0.0, 0.0], [1.0, 0.0], [0.0, 0.0], [0.0, 0.0], [1.0, 0.0], [0.0, 0.0], [1.0, 1.0], [1.0, 1.0], [1.0, 1.0], [1.0, 1.0], [0.0, 0.0], [0.0, 0.0], [0.0, 0.0], [0.0, 1.0], [1.0, 0.0], [1.0, 0.0], [1.0, 0.0], [1.0, 0.0], [1.0, 0.0], [1.0, 0.0], [1.0, 0.0], [1.0, 0.0], [0.0, 1.0], [0.0, 1.0], [0.0, 1.0], [0.0, 0.0], [1.0, 1.0], [0.0, 0.0], [0.0, 0.0], [0.0, 0.0], [0.0, 0.0], [0.0, 0.0], [0.0, 0.0], [0.0, 0.0], [0.0, 0.0], [0.0, 0.0], [0.0, 0.0], [0.0, 0.0], [0.0, 0.0], [0.0, 0.0], [0.0, 0.0], [0.0, 0.0], [0.0, 0.0], [0.0, 0.0], [0.0, 0.0], [1.0, 0.0], [0.0, 0.0], [0.0, 0.0], [0.0, 0.0], [0.0, 0.0], [0.0, 0.0], [0.0, 0.0], [0.0, 0.0], [0.0, 0.0], [0.0, 0.0], [0.0, 0.0], [0.0, 0.0], [0.0, 0.0], [0.0, 0.0], [0.0, 0.0], [0.0, 0.0], [0.0, 0.0], [0.0, 0.0], [0.0, 0.0], [0.0, 0.0], [0.0, 0.0], [0.0, 0.0], [1.0, 0.0], [1.0, 0.0], [1.0, 0.0], [1.0, 0.0], [1.0, 0.0], [1.0, 0.0], [0.0, 0.0], [1.0, 0.0], [1.0, 0.0], [1.0, 0.0], [1.0, 0.0], [0.0, 0.0], [0.0, 0.0], [0.0, 0.0], [0.0, 0.0], [0.0, 0.0], [0.0, 0.0], [0.0, 0.0], [1.0, 0.0], [1.0, 0.0], [1.0, 0.0], [1.0, 0.0], [1.0, 0.0], [1.0, 0.0], [0.0, 0.0], [0.0, 0.0], [0.0, 0.0], [0.0, 0.0], [0.0, 0.0], [0.0, 0.0], [1.0, 0.0], [1.0, 0.0], [0.0, 0.0], [1.0, 0.0], [1.0, 0.0], [1.0, 0.0], [0.0, 0.0], [0.0, 0.0], [1.0, 0.0], [1.0, 0.0], [1.0, 0.0], [0.0, 0.0], [0.0, 0.0], [0.0, 0.0], [0.0, 0.0], [0.0, 0.0], [0.0, 0.0], [0.0, 0.0], [0.0, 0.0], [0.0, 0.0], [0.0, 0.0], [0.0, 0.0], [0.0, 0.0], [0.0, 0.0], [1.0, 0.0], [1.0, 0.0], [0.0, 0.0], [1.0, 0.0], [1.0, 0.0], [1.0, 0.0], [0.0, 0.0], [0.0, 0.0], [0.0, 0.0], [0.0, 0.0], [0.0, 0.0], [0.0, 0.0], [0.0, 0.0], [0.0, 0.0], [0.0, 0.0], [0.0, 0.0], [0.0, 0.0], [0.0, 0.0], [0.0, 0.0], [0.0, 0.0], [0.0, 0.0], [0.0, 0.0], [0.0, 0.0], [0.0, 0.0], [0.0, 0.0], [0.0, 0.0], [0.0, 0.0], [0.0, 1.0], [0.0, 1.0], [0.0, 1.0], [0.0, 0.0], [0.0, 0.0], [0.0, 0.0], [0.0, 0.0], [0.0, 0.0], [0.0, 0.0], [0.0, 0.0], [0.0, 0.0], [1.0, 0.0], [1.0, 0.0], [1.0, 0.0], [1.0, 0.0], [1.0, 0.0], [1.0, 0.0], [1.0, 0.0], [1.0, 0.0], [1.0, 0.0], [1.0, 0.0], [0.0, 0.0], [0.0, 0.0], [0.0, 0.0], [1.0, 1.0], [0.0, 0.0], [1.0, 1.0], [1.0, 0.0], [1.0, 1.0], [1.0, 0.0], [1.0, 0.0], [1.0, 0.0], [1.0, 0.0], [1.0, 0.0], [1.0, 0.0], [1.0, 0.0], [0.0, 0.0], [1.0, 0.0], [1.0, 0.0], [0.0, 0.0], [1.0, 0.0], [1.0, 0.0], [0.0, 0.0], [1.0, 0.0], [1.0, 0.0], [1.0, 0.0], [1.0, 0.0], [1.0, 0.0], [1.0, 0.0], [1.0, 0.0], [1.0, 0.0], [1.0, 0.0], [1.0, 0.0], [1.0, 0.0], [1.0, 0.0], [1.0, 0.0], [1.0, 0.0], [0.0, 1.0], [1.0, 0.0], [1.0, 0.0], [1.0, 0.0], [1.0, 0.0], [0.0, 0.0], [1.0, 0.0], [1.0, 0.0], [1.0, 0.0], [1.0, 0.0], [1.0, 0.0], [1.0, 0.0], [1.0, 0.0], [1.0, 0.0], [1.0, 0.0], [1.0, 0.0], [1.0, 0.0], [0.0, 1.0], [1.0, 0.0], [0.0, 0.0], [1.0, 0.0], [0.0, 0.0], [0.0, 0.0], [0.0, 1.0], [0.0, 1.0], [0.0, 1.0], [0.0, 1.0], [0.0, 0.0], [0.0, 0.0], [0.0, 0.0], [0.0, 0.0], [0.0, 0.0], [1.0, 1.0], [1.0, 1.0], [1.0, 1.0], [1.0, 1.0], [1.0, 1.0], [1.0, 0.0], [1.0, 0.0], [0.0, 0.0], [1.0, 0.0], [1.0, 0.0], [1.0, 0.0], [0.0, 0.0], [0.0, 0.0], [1.0, 0.0], [0.0, 0.0], [0.0, 0.0], [0.0, 0.0], [0.0, 0.0], [0.0, 0.0], [0.0, 0.0], [0.0, 0.0], [0.0, 0.0], [0.0, 0.0], [0.0, 0.0], [0.0, 0.0], [1.0, 0.0], [1.0, 0.0], [1.0, 0.0], [1.0, 0.0], [1.0, 0.0], [1.0, 0.0], [1.0, 0.0], [0.0, 0.0], [0.0, 0.0], [0.0, 0.0], [1.0, 0.0], [1.0, 0.0], [1.0, 0.0], [1.0, 0.0], [1.0, 0.0], [1.0, 0.0], [0.0, 0.0], [0.0, 1.0], [0.0, 1.0], [0.0, 1.0], [0.0, 0.0], [0.0, 0.0], [0.0, 0.0], [0.0, 1.0], [0.0, 1.0], [0.0, 0.0], [0.0, 0.0], [0.0, 0.0], [1.0, 0.0], [1.0, 0.0], [1.0, 0.0], [1.0, 0.0], [1.0, 0.0], [1.0, 0.0], [1.0, 0.0], [0.0, 1.0], [0.0, 0.0], [0.0, 0.0], [0.0, 0.0], [0.0, 0.0], [1.0, 0.0], [1.0, 0.0], [1.0, 0.0], [1.0, 0.0], [1.0, 0.0], [0.0, 0.0], [0.0, 0.0], [0.0, 0.0], [0.0, 0.0], [0.0, 0.0], [0.0, 0.0], [0.0, 0.0], [0.0, 0.0], [0.0, 0.0], [0.0, 0.0], [0.0, 0.0], [0.0, 0.0], [0.0, 0.0], [0.0, 0.0], [0.0, 0.0], [0.0, 1.0], [0.0, 1.0], [0.0, 1.0], [0.0, 1.0], [0.0, 1.0], [0.0, 1.0], [0.0, 1.0], [0.0, 0.0], [0.0, 1.0], [0.0, 1.0], [0.0, 0.0], [0.0, 0.0], [0.0, 1.0], [0.0, 1.0], [0.0, 1.0], [0.0, 1.0], [0.0, 1.0], [0.0, 1.0], [0.0, 1.0], [0.0, 0.0], [0.0, 0.0], [0.0, 0.0], [0.0, 0.0], [0.0, 0.0], [0.0, 0.0], [0.0, 0.0], [0.0, 0.0], [0.0, 0.0], [0.0, 0.0], [0.0, 0.0], [0.0, 0.0], [0.0, 0.0], [0.0, 0.0], [0.0, 0.0], [0.0, 0.0], [0.0, 0.0], [0.0, 0.0], [0.0, 0.0], [0.0, 0.0], [0.0, 0.0], [0.0, 0.0], [0.0, 0.0], [1.0, 0.0], [0.0, 0.0], [0.0, 1.0], [0.0, 1.0], [0.0, 1.0], [0.0, 1.0], [0.0, 1.0], [0.0, 1.0], [0.0, 1.0], [0.0, 1.0], [0.0, 1.0], [0.0, 1.0], [0.0, 1.0], [0.0, 1.0], [0.0, 0.0], [0.0, 0.0], [0.0, 0.0], [0.0, 0.0], [0.0, 0.0], [0.0, 0.0], [0.0, 0.0], [0.0, 0.0], [0.0, 0.0], [0.0, 0.0], [0.0, 0.0], [0.0, 0.0], [0.0, 0.0], [0.0, 0.0], [0.0, 0.0], [0.0, 0.0], [0.0, 0.0], [0.0, 0.0], [0.0, 0.0], [0.0, 0.0], [0.0, 0.0], [1.0, 0.0], [1.0, 0.0], [1.0, 0.0], [1.0, 0.0], [0.0, 0.0], [0.0, 0.0], [0.0, 0.0], [0.0, 0.0], [0.0, 0.0], [0.0, 0.0], [0.0, 0.0], [0.0, 0.0], [0.0, 0.0], [0.0, 0.0], [0.0, 0.0], [0.0, 0.0], [0.0, 0.0], [0.0, 0.0], [0.0, 0.0], [0.0, 0.0], [1.0, 0.0], [0.0, 0.0], [0.0, 0.0], [0.0, 0.0], [0.0, 0.0], [0.0, 0.0], [0.0, 0.0], [0.0, 0.0], [0.0, 0.0], [0.0, 0.0], [0.0, 0.0], [0.0, 0.0], [1.0, 0.0], [0.0, 0.0], [1.0, 0.0], [1.0, 0.0], [0.0, 1.0], [0.0, 0.0], [0.0, 1.0], [0.0, 0.0], [0.0, 0.0], [0.0, 0.0], [0.0, 0.0], [0.0, 0.0], [0.0, 0.0], [0.0, 0.0], [0.0, 0.0], [0.0, 0.0], [0.0, 0.0], [0.0, 0.0], [0.0, 0.0], [0.0, 0.0], [0.0, 0.0], [0.0, 0.0], [0.0, 0.0], [0.0, 0.0], [0.0, 0.0], [0.0, 0.0], [0.0, 0.0], [0.0, 0.0], [0.0, 0.0], [0.0, 0.0], [0.0, 0.0], [0.0, 0.0], [0.0, 1.0], [0.0, 1.0], [0.0, 1.0], [0.0, 1.0], [0.0, 1.0], [0.0, 1.0], [0.0, 1.0], [0.0, 1.0], [0.0, 0.0], [0.0, 0.0], [0.0, 0.0], [0.0, 0.0], [0.0, 0.0], [0.0, 0.0], [0.0, 0.0], [0.0, 0.0], [0.0, 1.0], [0.0, 0.0], [0.0, 0.0], [0.0, 0.0], [0.0, 0.0], [0.0, 0.0], [0.0, 0.0], [0.0, 0.0], [0.0, 0.0], [0.0, 0.0], [0.0, 0.0], [0.0, 0.0], [0.0, 0.0], [0.0, 1.0], [0.0, 1.0], [0.0, 0.0], [0.0, 0.0], [0.0, 0.0], [0.0, 0.0], [0.0, 0.0], [1.0, 0.0], [1.0, 0.0], [1.0, 0.0], [1.0, 0.0], [1.0, 0.0], [0.0, 0.0], [1.0, 0.0], [0.0, 1.0], [1.0, 1.0], [1.0, 1.0], [0.0, 1.0], [0.0, 0.0], [0.0, 1.0], [0.0, 1.0], [1.0, 1.0], [1.0, 1.0], [0.0, 1.0], [0.0, 1.0], [1.0, 0.0], [1.0, 0.0], [1.0, 0.0], [1.0, 0.0], [0.0, 0.0], [0.0, 0.0], [1.0, 0.0], [1.0, 0.0], [1.0, 0.0], [0.0, 0.0], [0.0, 0.0], [0.0, 0.0], [0.0, 0.0], [0.0, 0.0], [1.0, 0.0], [1.0, 0.0], [1.0, 0.0], [0.0, 0.0], [1.0, 0.0], [1.0, 0.0], [1.0, 0.0], [1.0, 0.0], [1.0, 0.0], [0.0, 0.0], [1.0, 0.0], [1.0, 0.0], [1.0, 0.0], [0.0, 0.0], [1.0, 0.0], [1.0, 0.0], [1.0, 0.0], [0.0, 0.0], [1.0, 0.0], [1.0, 0.0], [0.0, 0.0], [0.0, 0.0], [1.0, 0.0], [1.0, 0.0], [0.0, 0.0], [1.0, 1.0], [1.0, 1.0], [1.0, 0.0], [1.0, 1.0], [1.0, 0.0], [1.0, 0.0], [1.0, 1.0], [1.0, 1.0], [0.0, 0.0], [1.0, 0.0], [0.0, 0.0], [0.0, 0.0], [0.0, 0.0], [0.0, 0.0], [0.0, 0.0], [0.0, 0.0], [0.0, 0.0], [1.0, 0.0], [1.0, 0.0], [1.0, 0.0], [1.0, 1.0], [1.0, 0.0], [1.0, 0.0], [1.0, 0.0], [1.0, 0.0], [1.0, 0.0], [1.0, 0.0], [0.0, 1.0], [0.0, 1.0], [0.0, 1.0], [0.0, 1.0], [0.0, 1.0], [0.0, 1.0], [0.0, 1.0], [0.0, 0.0], [0.0, 0.0], [0.0, 0.0], [0.0, 0.0], [0.0, 0.0], [0.0, 0.0], [0.0, 0.0], [0.0, 0.0], [0.0, 0.0], [1.0, 0.0], [0.0, 0.0], [0.0, 0.0], [0.0, 0.0], [0.0, 0.0], [0.0, 0.0], [0.0, 0.0], [0.0, 0.0], [1.0, 0.0], [0.0, 0.0], [0.0, 0.0], [0.0, 0.0], [0.0, 0.0], [0.0, 0.0], [0.0, 0.0], [0.0, 0.0], [0.0, 0.0], [0.0, 0.0], [0.0, 0.0], [0.0, 0.0], [0.0, 0.0], [0.0, 0.0], [0.0, 0.0], [0.0, 0.0], [0.0, 0.0], [0.0, 0.0], [0.0, 0.0], [0.0, 0.0], [0.0, 0.0], [1.0, 0.0], [0.0, 0.0], [0.0, 0.0], [0.0, 0.0], [1.0, 0.0], [0.0, 0.0], [0.0, 0.0], [0.0, 0.0], [0.0, 0.0], [0.0, 0.0], [0.0, 0.0], [0.0, 0.0], [1.0, 0.0], [0.0, 0.0], [1.0, 0.0], [1.0, 0.0], [1.0, 0.0], [0.0, 0.0], [0.0, 0.0], [0.0, 0.0], [0.0, 0.0], [0.0, 0.0], [0.0, 0.0], [0.0, 0.0], [0.0, 0.0], [1.0, 0.0], [1.0, 0.0], [1.0, 0.0], [0.0, 0.0], [0.0, 0.0], [0.0, 0.0], [0.0, 0.0], [0.0, 0.0], [0.0, 0.0], [1.0, 0.0], [1.0, 0.0], [1.0, 0.0], [1.0, 0.0], [1.0, 0.0], [1.0, 0.0], [1.0, 0.0], [1.0, 0.0], [1.0, 0.0], [1.0, 0.0], [1.0, 0.0], [0.0, 0.0], [1.0, 0.0], [1.0, 0.0], [1.0, 1.0], [1.0, 1.0], [1.0, 1.0], [0.0, 1.0], [0.0, 1.0], [1.0, 1.0], [0.0, 0.0], [0.0, 0.0], [0.0, 0.0], [0.0, 0.0], [0.0, 0.0], [0.0, 1.0], [1.0, 0.0], [1.0, 0.0], [1.0, 0.0], [1.0, 0.0], [1.0, 1.0], [1.0, 1.0], [1.0, 1.0], [1.0, 1.0], [0.0, 0.0], [1.0, 1.0], [0.0, 0.0], [0.0, 0.0], [0.0, 0.0], [0.0, 0.0], [0.0, 0.0], [0.0, 0.0], [0.0, 0.0], [0.0, 0.0], [0.0, 0.0], [0.0, 0.0], [0.0, 0.0], [0.0, 0.0], [0.0, 0.0], [0.0, 0.0], [0.0, 0.0], [0.0, 0.0], [0.0, 0.0], [0.0, 0.0], [0.0, 0.0], [0.0, 0.0], [0.0, 0.0], [0.0, 0.0], [0.0, 0.0], [0.0, 0.0], [0.0, 0.0], [0.0, 0.0], [0.0, 0.0], [0.0, 0.0], [0.0, 0.0], [0.0, 0.0], [0.0, 0.0], [0.0, 0.0], [0.0, 0.0], [0.0, 0.0], [0.0, 0.0], [0.0, 0.0], [0.0, 0.0], [0.0, 0.0], [0.0, 0.0], [1.0, 0.0], [1.0, 0.0], [1.0, 0.0], [0.0, 0.0], [1.0, 0.0], [0.0, 0.0], [1.0, 0.0], [0.0, 0.0], [1.0, 0.0], [0.0, 0.0], [1.0, 0.0], [0.0, 0.0], [0.0, 0.0], [0.0, 0.0], [0.0, 0.0], [0.0, 0.0], [0.0, 0.0], [0.0, 0.0], [0.0, 0.0], [0.0, 0.0], [0.0, 0.0], [0.0, 0.0], [0.0, 0.0], [0.0, 0.0], [0.0, 0.0], [0.0, 0.0], [0.0, 0.0], [0.0, 0.0], [0.0, 0.0], [0.0, 0.0], [0.0, 0.0], [0.0, 0.0], [0.0, 0.0], [0.0, 0.0], [0.0, 0.0], [0.0, 0.0], [0.0, 0.0], [0.0, 0.0], [0.0, 0.0], [0.0, 0.0], [0.0, 0.0], [0.0, 0.0], [0.0, 0.0], [0.0, 0.0], [0.0, 0.0], [0.0, 0.0], [0.0, 0.0], [0.0, 0.0], [0.0, 0.0], [0.0, 0.0], [0.0, 0.0], [0.0, 0.0], [0.0, 0.0], [0.0, 0.0], [1.0, 0.0], [1.0, 0.0], [0.0, 0.0], [0.0, 0.0], [0.0, 0.0], [0.0, 0.0], [1.0, 1.0], [1.0, 1.0], [1.0, 1.0], [1.0, 1.0], [0.0, 0.0], [0.0, 0.0], [0.0, 0.0], [0.0, 0.0], [0.0, 0.0], [0.0, 0.0], [0.0, 0.0], [0.0, 0.0], [0.0, 0.0], [0.0, 0.0], [0.0, 0.0], [0.0, 0.0], [0.0, 0.0], [0.0, 0.0], [0.0, 0.0], [0.0, 0.0], [0.0, 0.0], [0.0, 0.0], [0.0, 0.0], [0.0, 0.0], [0.0, 0.0], [0.0, 0.0], [0.0, 0.0], [0.0, 0.0], [1.0, 0.0], [1.0, 0.0], [0.0, 0.0], [0.0, 0.0], [0.0, 0.0], [0.0, 0.0], [0.0, 0.0], [0.0, 0.0], [0.0, 0.0], [0.0, 0.0], [1.0, 0.0], [1.0, 0.0], [0.0, 0.0], [1.0, 0.0], [1.0, 0.0], [0.0, 0.0], [0.0, 0.0], [1.0, 0.0], [0.0, 0.0], [1.0, 1.0], [1.0, 1.0], [0.0, 1.0], [1.0, 1.0], [1.0, 1.0], [0.0, 1.0], [0.0, 1.0], [0.0, 1.0], [0.0, 1.0], [0.0, 1.0], [0.0, 0.0], [0.0, 1.0], [0.0, 0.0], [0.0, 0.0], [0.0, 0.0], [0.0, 0.0], [0.0, 0.0], [0.0, 0.0], [0.0, 0.0], [0.0, 0.0], [0.0, 0.0], [0.0, 0.0], [0.0, 0.0], [0.0, 0.0], [0.0, 0.0], [0.0, 0.0], [0.0, 0.0], [0.0, 0.0], [0.0, 0.0], [0.0, 0.0], [0.0, 0.0], [1.0, 0.0], [1.0, 0.0], [1.0, 0.0], [1.0, 0.0], [1.0, 0.0], [1.0, 0.0], [1.0, 0.0], [1.0, 0.0], [1.0, 0.0], [1.0, 0.0], [1.0, 0.0], [1.0, 0.0], [1.0, 0.0], [1.0, 0.0], [1.0, 0.0], [1.0, 0.0], [1.0, 1.0], [1.0, 0.0], [1.0, 1.0], [1.0, 0.0], [1.0, 0.0], [0.0, 0.0], [0.0, 1.0], [0.0, 1.0], [0.0, 1.0], [0.0, 1.0], [0.0, 1.0], [0.0, 1.0], [0.0, 1.0], [0.0, 1.0], [0.0, 1.0], [0.0, 1.0], [0.0, 1.0], [0.0, 0.0], [0.0, 0.0], [0.0, 0.0], [0.0, 1.0], [0.0, 1.0], [0.0, 1.0], [0.0, 0.0], [0.0, 0.0], [0.0, 0.0], [0.0, 0.0], [0.0, 0.0], [0.0, 0.0], [0.0, 0.0], [0.0, 0.0], [0.0, 0.0], [0.0, 0.0], [0.0, 0.0], [0.0, 1.0], [0.0, 1.0], [0.0, 1.0], [0.0, 1.0], [0.0, 1.0], [0.0, 1.0], [0.0, 1.0], [0.0, 0.0], [0.0, 0.0], [0.0, 0.0], [0.0, 0.0], [0.0, 0.0], [0.0, 0.0], [1.0, 1.0], [1.0, 1.0], [1.0, 1.0], [1.0, 1.0], [1.0, 1.0], [1.0, 1.0], [0.0, 1.0], [0.0, 1.0], [0.0, 0.0], [1.0, 0.0], [1.0, 0.0], [1.0, 0.0], [1.0, 0.0], [1.0, 0.0], [1.0, 0.0], [1.0, 0.0], [0.0, 1.0], [0.0, 1.0], [0.0, 1.0], [0.0, 1.0], [0.0, 1.0], [0.0, 0.0], [0.0, 0.0], [0.0, 0.0], [0.0, 0.0], [0.0, 0.0], [0.0, 0.0], [0.0, 0.0], [0.0, 1.0], [1.0, 1.0], [1.0, 1.0], [1.0, 1.0], [1.0, 0.0], [1.0, 1.0], [1.0, 0.0], [0.0, 0.0], [0.0, 0.0], [1.0, 1.0], [1.0, 0.0], [1.0, 1.0], [0.0, 0.0], [0.0, 1.0], [0.0, 0.0], [1.0, 0.0], [1.0, 1.0], [1.0, 0.0], [1.0, 1.0], [1.0, 1.0], [0.0, 0.0], [1.0, 0.0], [1.0, 0.0], [1.0, 1.0], [1.0, 0.0], [1.0, 1.0], [1.0, 1.0], [1.0, 1.0], [0.0, 1.0], [0.0, 1.0], [0.0, 1.0], [0.0, 1.0], [0.0, 1.0], [0.0, 0.0], [0.0, 1.0], [0.0, 0.0], [0.0, 1.0], [0.0, 0.0], [0.0, 1.0], [0.0, 0.0], [1.0, 0.0], [1.0, 0.0], [1.0, 1.0], [1.0, 0.0], [1.0, 1.0], [1.0, 1.0], [1.0, 1.0], [0.0, 0.0], [0.0, 0.0], [0.0, 0.0], [0.0, 0.0], [0.0, 0.0], [0.0, 0.0], [0.0, 0.0], [0.0, 0.0], [0.0, 0.0], [0.0, 0.0], [0.0, 0.0], [0.0, 0.0], [0.0, 0.0], [0.0, 0.0], [0.0, 0.0], [0.0, 0.0], [0.0, 0.0], [0.0, 1.0], [0.0, 1.0], [1.0, 1.0], [0.0, 1.0], [0.0, 1.0], [0.0, 0.0], [1.0, 1.0], [1.0, 1.0], [1.0, 1.0], [1.0, 1.0], [1.0, 1.0], [0.0, 0.0], [0.0, 1.0], [0.0, 1.0], [0.0, 1.0], [0.0, 1.0], [0.0, 1.0], [0.0, 1.0], [0.0, 0.0], [1.0, 0.0], [1.0, 0.0], [1.0, 0.0], [1.0, 0.0], [1.0, 0.0], [0.0, 0.0], [1.0, 0.0], [1.0, 0.0], [1.0, 0.0], [1.0, 0.0], [1.0, 0.0], [1.0, 1.0], [1.0, 0.0], [1.0, 0.0], [1.0, 0.0], [1.0, 0.0], [1.0, 0.0], [1.0, 0.0], [1.0, 0.0], [1.0, 0.0], [1.0, 0.0], [1.0, 0.0], [1.0, 1.0], [0.0, 0.0], [0.0, 0.0], [0.0, 0.0], [0.0, 0.0], [0.0, 0.0], [1.0, 0.0], [1.0, 0.0], [1.0, 0.0], [1.0, 0.0], [1.0, 0.0], [1.0, 0.0], [1.0, 1.0], [1.0, 0.0], [1.0, 0.0], [1.0, 0.0], [1.0, 0.0], [1.0, 0.0], [1.0, 0.0], [1.0, 0.0], [1.0, 0.0], [1.0, 0.0], [0.0, 0.0], [1.0, 0.0], [1.0, 0.0], [1.0, 0.0], [1.0, 0.0], [0.0, 0.0], [0.0, 0.0], [0.0, 0.0], [0.0, 0.0], [0.0, 0.0], [0.0, 0.0], [0.0, 0.0], [0.0, 0.0], [0.0, 0.0], [1.0, 0.0], [1.0, 0.0], [1.0, 0.0], [1.0, 0.0], [1.0, 0.0], [1.0, 0.0], [1.0, 0.0], [1.0, 0.0], [0.0, 0.0], [0.0, 0.0], [0.0, 1.0], [0.0, 0.0], [0.0, 0.0], [0.0, 0.0], [0.0, 0.0], [0.0, 0.0], [0.0, 0.0], [0.0, 1.0], [0.0, 0.0], [1.0, 0.0], [1.0, 0.0], [1.0, 0.0], [1.0, 0.0], [1.0, 0.0], [1.0, 0.0], [1.0, 0.0], [1.0, 0.0], [1.0, 0.0], [1.0, 0.0], [0.0, 0.0], [1.0, 0.0], [1.0, 1.0], [1.0, 0.0], [1.0, 0.0], [1.0, 0.0], [1.0, 1.0], [0.0, 0.0], [0.0, 0.0], [0.0, 0.0], [0.0, 0.0], [0.0, 0.0], [0.0, 0.0], [0.0, 0.0], [0.0, 0.0], [0.0, 0.0], [0.0, 0.0], [0.0, 0.0], [0.0, 0.0], [0.0, 0.0], [0.0, 0.0], [0.0, 0.0], [0.0, 0.0], [0.0, 0.0], [0.0, 0.0], [1.0, 1.0], [0.0, 1.0], [0.0, 0.0], [0.0, 1.0], [0.0, 0.0], [0.0, 1.0], [0.0, 1.0], [0.0, 0.0], [0.0, 0.0], [0.0, 0.0], [0.0, 0.0], [0.0, 0.0], [0.0, 0.0], [0.0, 0.0], [0.0, 0.0], [1.0, 0.0], [1.0, 0.0], [1.0, 0.0], [1.0, 0.0], [1.0, 0.0], [1.0, 0.0], [0.0, 0.0], [0.0, 0.0], [0.0, 0.0], [0.0, 1.0], [0.0, 1.0], [1.0, 1.0], [0.0, 1.0], [0.0, 0.0], [0.0, 1.0], [0.0, 1.0], [0.0, 1.0], [0.0, 0.0], [0.0, 1.0], [0.0, 1.0], [0.0, 0.0], [0.0, 1.0], [0.0, 1.0], [0.0, 1.0], [0.0, 1.0], [0.0, 1.0], [0.0, 1.0], [0.0, 0.0], [0.0, 1.0], [0.0, 0.0], [0.0, 0.0], [0.0, 1.0], [0.0, 0.0], [1.0, 0.0], [0.0, 1.0], [1.0, 0.0], [0.0, 0.0], [0.0, 0.0], [0.0, 0.0], [0.0, 0.0], [0.0, 0.0], [0.0, 0.0], [0.0, 0.0], [0.0, 0.0], [0.0, 1.0], [0.0, 0.0], [0.0, 1.0], [0.0, 1.0], [0.0, 1.0], [0.0, 1.0], [0.0, 1.0], [1.0, 1.0], [1.0, 1.0], [1.0, 0.0], [1.0, 0.0], [1.0, 0.0], [0.0, 0.0], [0.0, 0.0], [0.0, 0.0], [0.0, 0.0], [0.0, 0.0], [0.0, 0.0], [0.0, 0.0], [0.0, 0.0], [0.0, 0.0], [0.0, 1.0], [0.0, 1.0], [0.0, 1.0], [0.0, 0.0], [0.0, 0.0], [0.0, 0.0], [0.0, 0.0], [0.0, 0.0], [0.0, 0.0], [0.0, 0.0], [0.0, 0.0], [0.0, 0.0], [0.0, 0.0], [0.0, 0.0], [0.0, 0.0], [0.0, 0.0], [0.0, 0.0], [0.0, 0.0], [0.0, 0.0], [0.0, 0.0], [0.0, 0.0], [1.0, 0.0], [0.0, 0.0], [0.0, 0.0], [0.0, 0.0], [0.0, 0.0], [1.0, 0.0], [0.0, 0.0], [1.0, 0.0], [0.0, 0.0], [1.0, 0.0], [0.0, 0.0], [0.0, 0.0], [1.0, 0.0], [1.0, 0.0], [1.0, 0.0], [1.0, 0.0], [1.0, 0.0], [0.0, 0.0], [0.0, 0.0], [0.0, 0.0], [0.0, 0.0], [0.0, 0.0], [0.0, 1.0], [0.0, 1.0], [0.0, 0.0], [0.0, 1.0], [0.0, 1.0], [0.0, 1.0], [0.0, 1.0], [0.0, 0.0], [0.0, 1.0], [1.0, 0.0], [1.0, 0.0], [1.0, 0.0], [1.0, 0.0], [0.0, 0.0], [1.0, 0.0], [1.0, 0.0], [1.0, 0.0], [1.0, 0.0], [0.0, 0.0], [1.0, 0.0], [0.0, 0.0], [0.0, 0.0], [0.0, 0.0], [0.0, 1.0], [0.0, 0.0], [0.0, 0.0], [1.0, 1.0], [0.0, 1.0], [1.0, 1.0], [0.0, 0.0], [1.0, 0.0], [0.0, 1.0], [0.0, 0.0], [0.0, 1.0], [0.0, 0.0], [0.0, 0.0], [0.0, 0.0], [0.0, 0.0], [0.0, 1.0], [0.0, 0.0], [0.0, 0.0], [0.0, 0.0], [0.0, 1.0], [0.0, 1.0], [0.0, 1.0], [0.0, 1.0], [0.0, 0.0], [1.0, 0.0], [0.0, 1.0], [0.0, 0.0], [0.0, 0.0], [0.0, 0.0], [0.0, 0.0], [0.0, 0.0], [0.0, 0.0], [0.0, 1.0], [1.0, 1.0], [1.0, 0.0], [0.0, 0.0], [1.0, 0.0], [1.0, 0.0], [1.0, 1.0], [1.0, 1.0], [1.0, 0.0], [1.0, 1.0], [0.0, 1.0], [0.0, 1.0], [0.0, 0.0], [0.0, 0.0], [1.0, 1.0], [1.0, 1.0], [1.0, 1.0], [1.0, 1.0], [1.0, 1.0], [1.0, 1.0], [1.0, 1.0], [1.0, 1.0], [1.0, 1.0], [0.0, 0.0], [0.0, 0.0], [1.0, 0.0], [1.0, 0.0], [0.0, 1.0], [0.0, 0.0], [1.0, 1.0], [1.0, 1.0], [1.0, 1.0], [1.0, 1.0], [1.0, 1.0], [1.0, 1.0], [0.0, 0.0], [0.0, 1.0], [0.0, 0.0], [0.0, 0.0], [0.0, 0.0], [0.0, 1.0], [0.0, 0.0], [0.0, 0.0], [1.0, 0.0], [0.0, 0.0], [1.0, 0.0], [0.0, 0.0], [0.0, 0.0], [0.0, 0.0], [0.0, 0.0], [0.0, 0.0], [0.0, 0.0], [0.0, 0.0], [0.0, 0.0], [0.0, 0.0], [1.0, 0.0], [1.0, 1.0], [1.0, 0.0], [1.0, 0.0], [1.0, 0.0], [1.0, 0.0], [0.0, 1.0], [1.0, 1.0], [1.0, 1.0], [1.0, 1.0], [1.0, 1.0], [1.0, 1.0], [1.0, 1.0], [1.0, 1.0], [1.0, 1.0], [0.0, 0.0], [0.0, 0.0], [0.0, 0.0], [0.0, 0.0], [0.0, 0.0], [0.0, 0.0], [0.0, 0.0], [1.0, 0.0], [0.0, 0.0], [0.0, 0.0], [0.0, 0.0], [1.0, 0.0], [0.0, 0.0], [0.0, 0.0], [0.0, 0.0], [1.0, 0.0], [1.0, 1.0], [1.0, 0.0], [1.0, 0.0], [1.0, 0.0], [1.0, 0.0], [0.0, 0.0], [1.0, 0.0], [1.0, 0.0], [0.0, 0.0], [0.0, 1.0], [0.0, 1.0], [0.0, 1.0], [1.0, 0.0], [0.0, 1.0], [1.0, 1.0], [1.0, 1.0], [0.0, 1.0], [0.0, 0.0], [0.0, 1.0], [1.0, 1.0], [1.0, 1.0], [1.0, 0.0], [1.0, 0.0], [1.0, 1.0], [0.0, 0.0], [0.0, 0.0], [0.0, 0.0], [0.0, 0.0], [0.0, 0.0], [0.0, 0.0], [0.0, 0.0], [0.0, 0.0], [0.0, 0.0], [0.0, 0.0], [0.0, 0.0], [0.0, 0.0], [0.0, 0.0], [0.0, 0.0], [0.0, 0.0], [0.0, 0.0], [0.0, 0.0], [0.0, 0.0], [0.0, 0.0], [0.0, 0.0], [0.0, 0.0], [0.0, 0.0], [0.0, 0.0], [1.0, 0.0], [1.0, 1.0], [0.0, 1.0], [0.0, 0.0], [1.0, 1.0], [1.0, 0.0], [1.0, 0.0], [1.0, 0.0], [1.0, 0.0], [0.0, 0.0], [0.0, 0.0], [0.0, 0.0], [0.0, 0.0], [0.0, 0.0], [0.0, 0.0], [0.0, 0.0], [0.0, 0.0], [0.0, 0.0], [0.0, 0.0], [0.0, 0.0], [0.0, 0.0], [0.0, 0.0], [0.0, 0.0], [0.0, 0.0], [0.0, 0.0], [0.0, 0.0], [0.0, 0.0], [0.0, 0.0], [0.0, 0.0], [0.0, 0.0], [0.0, 0.0], [0.0, 0.0], [0.0, 0.0], [0.0, 0.0], [0.0, 0.0], [0.0, 0.0], [0.0, 0.0], [0.0, 0.0], [0.0, 0.0], [0.0, 0.0], [1.0, 0.0], [1.0, 0.0], [1.0, 0.0], [1.0, 0.0], [0.0, 0.0], [1.0, 0.0], [1.0, 0.0], [0.0, 0.0], [0.0, 0.0], [0.0, 0.0], [0.0, 0.0], [0.0, 0.0], [0.0, 0.0], [0.0, 0.0], [0.0, 0.0], [0.0, 0.0], [0.0, 0.0], [0.0, 0.0], [0.0, 0.0], [0.0, 0.0], [0.0, 1.0], [0.0, 1.0], [0.0, 1.0], [1.0, 1.0], [0.0, 1.0], [1.0, 1.0], [0.0, 1.0], [1.0, 1.0], [0.0, 1.0], [1.0, 0.0], [1.0, 0.0], [1.0, 0.0], [0.0, 0.0], [1.0, 0.0], [0.0, 0.0], [1.0, 0.0], [1.0, 0.0], [1.0, 0.0], [0.0, 0.0], [0.0, 0.0], [0.0, 0.0], [0.0, 0.0], [0.0, 0.0], [0.0, 0.0], [0.0, 1.0], [0.0, 0.0], [1.0, 0.0], [1.0, 0.0], [1.0, 0.0], [0.0, 0.0], [0.0, 0.0], [0.0, 1.0], [0.0, 0.0], [0.0, 0.0], [0.0, 0.0], [0.0, 0.0], [0.0, 1.0], [0.0, 1.0], [0.0, 1.0], [1.0, 0.0], [1.0, 0.0], [1.0, 0.0], [1.0, 0.0], [1.0, 0.0], [0.0, 0.0], [0.0, 0.0], [1.0, 0.0], [0.0, 0.0], [1.0, 0.0], [0.0, 0.0], [0.0, 0.0], [1.0, 0.0], [1.0, 0.0], [1.0, 0.0], [1.0, 0.0], [1.0, 0.0], [1.0, 0.0], [1.0, 1.0], [0.0, 1.0], [0.0, 1.0], [0.0, 0.0], [0.0, 1.0], [0.0, 1.0], [0.0, 0.0], [0.0, 1.0], [1.0, 0.0], [0.0, 0.0], [0.0, 0.0], [1.0, 0.0], [1.0, 0.0], [1.0, 0.0], [1.0, 0.0], [1.0, 0.0], [1.0, 0.0], [0.0, 0.0], [0.0, 1.0], [0.0, 1.0], [0.0, 1.0], [0.0, 0.0], [0.0, 0.0], [0.0, 0.0], [0.0, 0.0], [0.0, 0.0], [0.0, 0.0], [0.0, 0.0], [0.0, 0.0], [0.0, 0.0], [0.0, 0.0], [0.0, 0.0], [0.0, 0.0], [0.0, 0.0], [0.0, 0.0], [0.0, 0.0], [0.0, 0.0], [0.0, 0.0], [0.0, 0.0], [0.0, 1.0], [1.0, 0.0], [0.0, 0.0], [0.0, 0.0], [0.0, 0.0], [0.0, 0.0], [0.0, 0.0], [0.0, 1.0], [1.0, 0.0], [0.0, 0.0], [0.0, 1.0], [0.0, 0.0], [0.0, 0.0], [1.0, 0.0], [1.0, 0.0], [1.0, 0.0], [1.0, 0.0], [1.0, 0.0], [1.0, 0.0], [1.0, 0.0], [1.0, 0.0], [1.0, 0.0], [1.0, 0.0], [1.0, 0.0], [1.0, 0.0], [1.0, 0.0], [1.0, 0.0], [0.0, 0.0], [0.0, 0.0], [1.0, 0.0], [1.0, 0.0], [1.0, 0.0], [0.0, 0.0], [1.0, 0.0], [1.0, 0.0], [1.0, 0.0], [1.0, 0.0], [1.0, 0.0], [0.0, 1.0], [1.0, 0.0], [1.0, 0.0], [1.0, 0.0], [1.0, 0.0], [0.0, 0.0], [0.0, 0.0], [0.0, 0.0], [0.0, 0.0], [0.0, 0.0], [0.0, 0.0], [0.0, 0.0], [0.0, 0.0], [0.0, 0.0], [0.0, 0.0], [1.0, 0.0], [0.0, 0.0], [0.0, 1.0], [1.0, 0.0], [0.0, 0.0], [0.0, 0.0], [1.0, 0.0], [1.0, 0.0], [1.0, 0.0], [1.0, 0.0], [1.0, 0.0], [1.0, 0.0], [1.0, 0.0], [1.0, 0.0], [1.0, 0.0], [1.0, 0.0], [0.0, 0.0], [1.0, 0.0], [1.0, 0.0], [1.0, 0.0], [1.0, 0.0], [1.0, 0.0], [1.0, 0.0], [0.0, 0.0], [1.0, 0.0], [0.0, 0.0], [0.0, 0.0], [0.0, 1.0], [0.0, 0.0], [1.0, 0.0], [1.0, 0.0], [1.0, 1.0], [1.0, 0.0], [1.0, 0.0], [0.0, 0.0], [1.0, 0.0], [1.0, 0.0], [1.0, 0.0], [1.0, 0.0], [1.0, 0.0], [1.0, 0.0], [0.0, 1.0], [1.0, 1.0], [0.0, 1.0], [1.0, 1.0], [0.0, 1.0], [0.0, 1.0], [0.0, 1.0], [0.0, 1.0], [1.0, 1.0], [0.0, 1.0], [0.0, 1.0], [1.0, 1.0], [0.0, 1.0], [0.0, 1.0], [0.0, 1.0], [1.0, 0.0], [1.0, 0.0], [0.0, 0.0], [0.0, 0.0], [0.0, 0.0], [0.0, 0.0], [1.0, 0.0], [0.0, 0.0], [0.0, 0.0], [0.0, 0.0], [0.0, 0.0], [0.0, 0.0], [0.0, 0.0], [1.0, 0.0], [1.0, 0.0], [1.0, 0.0], [1.0, 0.0], [1.0, 0.0], [0.0, 0.0], [0.0, 0.0], [0.0, 0.0], [0.0, 0.0], [1.0, 0.0], [1.0, 0.0], [1.0, 0.0], [1.0, 0.0], [1.0, 0.0], [1.0, 0.0], [1.0, 0.0], [1.0, 0.0], [0.0, 1.0], [0.0, 1.0], [0.0, 1.0], [0.0, 1.0], [0.0, 1.0], [0.0, 1.0], [0.0, 1.0], [0.0, 1.0], [0.0, 1.0], [0.0, 1.0], [0.0, 0.0], [0.0, 0.0], [0.0, 0.0], [0.0, 0.0], [0.0, 1.0], [0.0, 0.0], [0.0, 0.0], [0.0, 0.0], [0.0, 0.0], [0.0, 0.0], [0.0, 0.0], [0.0, 1.0], [0.0, 0.0], [0.0, 0.0], [0.0, 0.0], [0.0, 0.0], [0.0, 0.0], [0.0, 0.0], [0.0, 0.0], [0.0, 0.0], [0.0, 0.0], [0.0, 1.0], [1.0, 0.0], [0.0, 0.0], [0.0, 0.0], [1.0, 0.0], [1.0, 0.0], [1.0, 0.0], [1.0, 0.0], [1.0, 0.0], [0.0, 0.0], [0.0, 0.0], [0.0, 0.0], [1.0, 0.0], [0.0, 1.0], [0.0, 1.0], [0.0, 1.0], [0.0, 1.0], [0.0, 1.0], [0.0, 1.0], [1.0, 0.0], [1.0, 0.0], [1.0, 0.0], [1.0, 0.0], [1.0, 0.0], [1.0, 0.0], [1.0, 0.0], [1.0, 0.0], [0.0, 0.0], [0.0, 0.0], [0.0, 0.0], [0.0, 0.0], [0.0, 0.0], [1.0, 1.0], [1.0, 1.0], [1.0, 1.0], [1.0, 1.0], [1.0, 1.0], [0.0, 1.0], [0.0, 0.0], [0.0, 0.0], [0.0, 0.0], [0.0, 0.0], [0.0, 0.0], [0.0, 0.0], [0.0, 0.0], [0.0, 0.0], [0.0, 0.0], [0.0, 0.0], [0.0, 0.0], [0.0, 0.0], [0.0, 0.0], [0.0, 0.0], [0.0, 0.0], [0.0, 0.0], [0.0, 0.0], [1.0, 0.0], [1.0, 0.0], [1.0, 0.0], [1.0, 0.0], [1.0, 0.0], [1.0, 0.0], [0.0, 0.0], [0.0, 0.0], [0.0, 0.0], [0.0, 0.0], [0.0, 0.0], [0.0, 0.0], [0.0, 0.0], [0.0, 0.0], [0.0, 0.0], [0.0, 0.0], [0.0, 0.0], [0.0, 0.0], [1.0, 0.0], [1.0, 0.0], [1.0, 0.0], [1.0, 0.0], [1.0, 0.0], [1.0, 0.0], [1.0, 0.0], [1.0, 0.0], [1.0, 0.0], [0.0, 1.0], [1.0, 1.0], [1.0, 1.0], [1.0, 1.0], [1.0, 1.0], [1.0, 1.0], [0.0, 0.0], [1.0, 0.0], [0.0, 0.0], [0.0, 0.0], [0.0, 0.0], [0.0, 0.0], [1.0, 0.0], [1.0, 0.0], [1.0, 0.0], [1.0, 0.0], [1.0, 0.0], [0.0, 0.0], [1.0, 0.0], [1.0, 0.0], [1.0, 0.0], [1.0, 0.0], [1.0, 0.0], [1.0, 0.0], [0.0, 0.0], [1.0, 0.0], [0.0, 0.0], [0.0, 0.0], [0.0, 0.0], [1.0, 0.0], [0.0, 0.0], [0.0, 0.0], [0.0, 0.0], [0.0, 1.0], [0.0, 1.0], [0.0, 1.0], [0.0, 1.0], [0.0, 1.0], [0.0, 1.0], [0.0, 0.0], [0.0, 1.0], [0.0, 1.0], [0.0, 0.0], [0.0, 0.0], [0.0, 0.0], [0.0, 0.0], [0.0, 0.0], [0.0, 0.0], [0.0, 0.0], [0.0, 0.0], [0.0, 0.0], [0.0, 0.0], [1.0, 0.0], [1.0, 0.0], [0.0, 0.0], [0.0, 0.0], [0.0, 0.0], [1.0, 0.0], [1.0, 1.0], [0.0, 0.0], [1.0, 0.0], [1.0, 0.0], [1.0, 0.0], [1.0, 0.0], [1.0, 0.0], [1.0, 0.0], [1.0, 1.0], [1.0, 0.0], [0.0, 0.0], [1.0, 0.0], [1.0, 0.0], [1.0, 0.0], [1.0, 0.0], [1.0, 0.0], [1.0, 0.0], [1.0, 0.0], [1.0, 0.0], [0.0, 0.0], [0.0, 0.0], [0.0, 0.0], [0.0, 0.0], [0.0, 0.0], [0.0, 0.0], [0.0, 0.0], [0.0, 0.0], [0.0, 0.0], [0.0, 0.0], [0.0, 0.0], [0.0, 0.0], [0.0, 0.0], [0.0, 0.0], [0.0, 0.0], [0.0, 0.0], [0.0, 0.0], [0.0, 0.0], [0.0, 0.0], [0.0, 0.0], [1.0, 0.0], [1.0, 0.0], [1.0, 0.0], [1.0, 0.0], [1.0, 0.0], [1.0, 0.0], [1.0, 0.0], [1.0, 0.0], [1.0, 0.0], [1.0, 0.0], [0.0, 0.0], [0.0, 0.0], [0.0, 0.0], [0.0, 0.0], [0.0, 0.0], [0.0, 0.0], [0.0, 0.0], [0.0, 0.0], [0.0, 0.0], [0.0, 0.0], [0.0, 0.0], [0.0, 0.0], [0.0, 0.0], [0.0, 0.0], [0.0, 0.0], [0.0, 1.0], [0.0, 1.0], [0.0, 1.0], [0.0, 1.0], [0.0, 1.0], [0.0, 0.0], [0.0, 0.0], [0.0, 0.0], [0.0, 0.0], [0.0, 0.0], [0.0, 0.0], [0.0, 0.0], [0.0, 0.0], [0.0, 0.0], [0.0, 0.0], [0.0, 0.0], [0.0, 0.0], [0.0, 0.0], [0.0, 0.0], [0.0, 0.0], [0.0, 0.0], [0.0, 0.0], [0.0, 0.0], [0.0, 0.0], [0.0, 0.0], [0.0, 0.0], [0.0, 0.0], [0.0, 0.0], [0.0, 0.0], [0.0, 0.0], [0.0, 0.0], [0.0, 0.0], [0.0, 0.0], [1.0, 0.0], [1.0, 0.0], [0.0, 0.0], [1.0, 1.0], [1.0, 1.0], [1.0, 1.0], [1.0, 1.0], [0.0, 0.0], [0.0, 0.0], [0.0, 0.0], [0.0, 0.0], [0.0, 0.0], [0.0, 0.0], [0.0, 0.0], [0.0, 0.0], [0.0, 0.0], [0.0, 0.0], [0.0, 0.0], [0.0, 0.0], [0.0, 0.0], [0.0, 0.0], [0.0, 0.0], [0.0, 0.0], [0.0, 1.0], [0.0, 1.0], [0.0, 1.0], [0.0, 1.0], [1.0, 0.0], [1.0, 0.0], [1.0, 0.0], [1.0, 0.0], [1.0, 0.0], [1.0, 0.0], [0.0, 0.0], [1.0, 0.0], [0.0, 0.0], [0.0, 0.0], [1.0, 0.0], [0.0, 0.0], [1.0, 0.0], [0.0, 0.0], [1.0, 0.0], [1.0, 0.0], [1.0, 0.0], [1.0, 0.0], [1.0, 0.0], [1.0, 0.0], [1.0, 0.0], [1.0, 0.0], [0.0, 0.0], [1.0, 0.0], [0.0, 0.0], [0.0, 0.0], [1.0, 0.0], [0.0, 0.0], [0.0, 0.0], [0.0, 0.0], [0.0, 0.0], [0.0, 0.0], [0.0, 0.0], [0.0, 0.0], [0.0, 0.0], [0.0, 0.0], [0.0, 0.0], [0.0, 1.0], [1.0, 1.0], [1.0, 1.0], [1.0, 1.0], [1.0, 1.0], [0.0, 0.0], [0.0, 0.0], [0.0, 0.0], [0.0, 0.0], [0.0, 0.0], [0.0, 0.0], [0.0, 0.0], [0.0, 0.0], [0.0, 0.0], [0.0, 0.0], [0.0, 0.0], [0.0, 0.0], [1.0, 0.0], [1.0, 0.0], [0.0, 0.0], [0.0, 0.0], [0.0, 0.0], [0.0, 0.0], [0.0, 0.0], [0.0, 0.0], [1.0, 0.0], [1.0, 0.0], [1.0, 0.0], [1.0, 0.0], [0.0, 0.0], [0.0, 0.0], [0.0, 0.0], [1.0, 0.0], [0.0, 0.0], [1.0, 0.0], [1.0, 0.0], [0.0, 0.0], [0.0, 0.0], [0.0, 0.0], [0.0, 0.0], [0.0, 0.0], [0.0, 0.0], [0.0, 0.0], [0.0, 0.0], [0.0, 0.0], [0.0, 0.0], [0.0, 0.0], [0.0, 0.0], [0.0, 0.0], [0.0, 0.0], [0.0, 1.0], [0.0, 1.0], [0.0, 1.0], [0.0, 1.0], [0.0, 1.0], [0.0, 1.0], [0.0, 1.0], [0.0, 1.0], [0.0, 0.0], [0.0, 0.0], [0.0, 1.0], [1.0, 1.0], [1.0, 1.0], [1.0, 1.0], [1.0, 1.0], [1.0, 0.0], [1.0, 1.0], [0.0, 1.0], [1.0, 1.0], [1.0, 0.0], [1.0, 1.0], [1.0, 1.0], [1.0, 0.0], [1.0, 1.0], [1.0, 1.0], [1.0, 1.0], [1.0, 1.0], [1.0, 1.0], [1.0, 1.0], [1.0, 1.0], [0.0, 1.0], [0.0, 0.0], [0.0, 0.0], [0.0, 1.0], [1.0, 1.0], [1.0, 1.0], [1.0, 1.0], [1.0, 0.0], [1.0, 1.0], [0.0, 0.0], [0.0, 0.0], [0.0, 0.0], [0.0, 0.0], [0.0, 0.0], [0.0, 0.0], [1.0, 0.0], [0.0, 0.0], [1.0, 0.0], [1.0, 0.0], [1.0, 0.0], [1.0, 0.0], [0.0, 0.0], [0.0, 0.0], [0.0, 0.0], [0.0, 0.0], [0.0, 0.0], [0.0, 0.0], [0.0, 0.0], [0.0, 0.0], [0.0, 0.0], [0.0, 0.0], [1.0, 1.0], [0.0, 1.0], [0.0, 1.0], [0.0, 1.0], [0.0, 1.0], [0.0, 1.0], [0.0, 1.0], [0.0, 0.0], [0.0, 0.0], [0.0, 0.0], [0.0, 0.0], [0.0, 0.0], [0.0, 0.0], [0.0, 0.0], [0.0, 0.0], [0.0, 0.0], [0.0, 0.0], [0.0, 0.0], [0.0, 0.0], [0.0, 0.0], [0.0, 0.0], [0.0, 0.0], [0.0, 0.0], [1.0, 0.0], [1.0, 0.0], [1.0, 0.0], [1.0, 0.0], [0.0, 0.0], [1.0, 0.0], [1.0, 0.0], [1.0, 0.0], [1.0, 0.0], [1.0, 0.0], [1.0, 0.0], [1.0, 0.0], [1.0, 0.0], [1.0, 0.0], [1.0, 0.0], [0.0, 0.0], [0.0, 0.0], [0.0, 0.0], [0.0, 0.0], [0.0, 0.0], [0.0, 0.0], [0.0, 0.0], [0.0, 0.0], [0.0, 0.0], [1.0, 0.0], [1.0, 0.0], [1.0, 0.0], [1.0, 0.0], [1.0, 0.0], [1.0, 0.0], [1.0, 0.0], [0.0, 0.0], [0.0, 0.0], [0.0, 0.0], [0.0, 0.0], [0.0, 0.0], [0.0, 0.0], [0.0, 0.0], [0.0, 0.0], [0.0, 1.0], [0.0, 0.0], [0.0, 1.0], [0.0, 1.0], [0.0, 1.0], [0.0, 0.0], [0.0, 0.0], [0.0, 0.0], [0.0, 0.0], [0.0, 0.0], [0.0, 0.0], [0.0, 0.0], [0.0, 0.0], [0.0, 0.0], [1.0, 1.0], [1.0, 1.0], [1.0, 1.0], [1.0, 1.0], [1.0, 1.0], [1.0, 1.0], [1.0, 1.0], [1.0, 0.0], [1.0, 0.0], [0.0, 0.0], [1.0, 0.0], [1.0, 0.0], [1.0, 0.0], [1.0, 0.0], [1.0, 0.0], [1.0, 0.0], [1.0, 1.0], [1.0, 1.0], [1.0, 1.0], [1.0, 1.0], [1.0, 0.0], [1.0, 1.0], [1.0, 0.0], [0.0, 0.0], [0.0, 1.0], [0.0, 0.0], [0.0, 0.0], [0.0, 0.0], [1.0, 0.0], [1.0, 0.0], [1.0, 0.0], [1.0, 0.0], [1.0, 0.0], [1.0, 0.0], [1.0, 0.0], [1.0, 0.0], [0.0, 0.0], [0.0, 0.0], [1.0, 0.0], [0.0, 0.0], [1.0, 1.0], [1.0, 0.0], [0.0, 0.0], [0.0, 1.0], [0.0, 0.0], [0.0, 0.0], [0.0, 0.0], [0.0, 0.0], [0.0, 0.0], [0.0, 0.0], [0.0, 0.0], [0.0, 0.0], [0.0, 0.0], [0.0, 0.0], [0.0, 0.0], [0.0, 0.0], [0.0, 0.0], [1.0, 0.0], [0.0, 0.0], [0.0, 0.0], [0.0, 0.0], [1.0, 0.0], [0.0, 0.0], [0.0, 0.0], [0.0, 0.0], [0.0, 0.0], [0.0, 0.0], [1.0, 0.0], [0.0, 0.0], [0.0, 0.0], [0.0, 0.0], [0.0, 0.0], [0.0, 0.0], [0.0, 0.0], [0.0, 0.0], [0.0, 1.0], [1.0, 0.0], [1.0, 0.0], [1.0, 0.0], [1.0, 0.0], [0.0, 0.0], [0.0, 0.0], [0.0, 0.0], [0.0, 0.0], [0.0, 0.0], [0.0, 0.0], [0.0, 0.0], [0.0, 0.0], [0.0, 0.0], [0.0, 1.0], [0.0, 1.0], [0.0, 1.0], [0.0, 1.0], [0.0, 1.0], [0.0, 1.0], [0.0, 1.0], [0.0, 0.0], [0.0, 0.0], [0.0, 0.0], [0.0, 0.0], [0.0, 0.0], [0.0, 0.0], [0.0, 0.0], [0.0, 0.0], [0.0, 0.0], [1.0, 0.0], [1.0, 0.0], [1.0, 0.0], [1.0, 0.0], [1.0, 0.0], [1.0, 0.0], [1.0, 0.0], [0.0, 0.0], [1.0, 0.0], [1.0, 0.0], [1.0, 0.0], [1.0, 0.0], [1.0, 0.0], [1.0, 0.0], [1.0, 0.0], [1.0, 0.0], [1.0, 1.0], [1.0, 0.0], [1.0, 0.0], [1.0, 0.0], [0.0, 0.0], [1.0, 1.0], [1.0, 1.0], [1.0, 0.0], [1.0, 0.0], [1.0, 0.0], [1.0, 0.0], [1.0, 0.0], [1.0, 0.0], [0.0, 0.0], [0.0, 0.0], [0.0, 0.0], [0.0, 0.0], [1.0, 0.0], [0.0, 0.0], [0.0, 0.0], [0.0, 0.0], [1.0, 0.0], [1.0, 0.0], [0.0, 0.0], [1.0, 0.0], [1.0, 0.0], [1.0, 0.0], [1.0, 0.0], [1.0, 0.0], [1.0, 0.0], [0.0, 0.0], [0.0, 0.0], [0.0, 0.0], [0.0, 0.0], [0.0, 0.0], [0.0, 0.0], [0.0, 0.0], [0.0, 0.0], [0.0, 0.0], [0.0, 0.0], [0.0, 0.0], [0.0, 0.0], [0.0, 1.0], [0.0, 0.0], [0.0, 0.0], [0.0, 0.0], [0.0, 0.0], [0.0, 0.0], [0.0, 0.0], [0.0, 0.0], [0.0, 0.0], [0.0, 0.0], [0.0, 0.0], [1.0, 0.0], [1.0, 0.0], [1.0, 0.0], [1.0, 0.0], [1.0, 0.0], [1.0, 0.0], [1.0, 0.0], [1.0, 0.0], [1.0, 0.0], [1.0, 0.0], [1.0, 0.0], [0.0, 0.0], [1.0, 0.0], [1.0, 0.0], [1.0, 0.0], [1.0, 0.0], [1.0, 0.0], [1.0, 0.0], [1.0, 0.0], [0.0, 1.0], [0.0, 1.0], [0.0, 1.0], [0.0, 1.0], [0.0, 0.0], [0.0, 1.0], [0.0, 0.0], [1.0, 0.0], [1.0, 0.0], [1.0, 0.0], [1.0, 0.0], [1.0, 0.0], [1.0, 0.0], [1.0, 0.0], [1.0, 0.0], [1.0, 0.0], [0.0, 0.0], [0.0, 0.0], [0.0, 0.0], [0.0, 0.0], [0.0, 0.0], [0.0, 0.0], [1.0, 1.0], [1.0, 1.0], [0.0, 0.0], [0.0, 0.0], [0.0, 0.0], [0.0, 0.0], [0.0, 0.0], [0.0, 0.0], [0.0, 0.0], [0.0, 0.0], [0.0, 0.0], [0.0, 1.0], [0.0, 0.0], [0.0, 0.0], [1.0, 0.0], [0.0, 0.0], [0.0, 0.0], [0.0, 0.0], [0.0, 0.0], [0.0, 0.0], [0.0, 0.0], [0.0, 0.0], [0.0, 0.0], [0.0, 0.0], [0.0, 0.0], [0.0, 0.0], [0.0, 0.0], [0.0, 0.0], [0.0, 0.0], [0.0, 0.0], [0.0, 0.0], [0.0, 0.0], [0.0, 0.0], [0.0, 0.0], [0.0, 0.0], [0.0, 0.0], [0.0, 0.0], [0.0, 0.0], [0.0, 0.0], [0.0, 0.0], [0.0, 1.0], [0.0, 1.0], [0.0, 1.0], [0.0, 1.0], [0.0, 1.0], [0.0, 1.0], [0.0, 1.0], [0.0, 1.0], [0.0, 1.0], [0.0, 0.0], [0.0, 0.0], [0.0, 0.0], [0.0, 0.0], [0.0, 0.0], [0.0, 0.0], [0.0, 0.0], [1.0, 1.0], [1.0, 1.0], [1.0, 1.0], [0.0, 1.0], [0.0, 1.0], [0.0, 1.0], [0.0, 1.0], [0.0, 0.0], [0.0, 0.0], [0.0, 1.0], [0.0, 0.0], [0.0, 0.0], [0.0, 0.0], [0.0, 0.0], [1.0, 0.0], [1.0, 0.0], [1.0, 0.0], [1.0, 0.0], [0.0, 0.0], [0.0, 0.0], [1.0, 0.0], [1.0, 0.0], [0.0, 0.0], [1.0, 0.0], [1.0, 0.0], [1.0, 0.0], [1.0, 0.0], [1.0, 0.0], [1.0, 0.0], [1.0, 0.0], [0.0, 0.0], [1.0, 0.0], [1.0, 0.0], [1.0, 0.0], [0.0, 1.0], [1.0, 1.0], [1.0, 0.0], [0.0, 0.0], [1.0, 0.0], [1.0, 0.0], [0.0, 0.0], [1.0, 1.0], [1.0, 1.0], [1.0, 0.0], [1.0, 0.0], [1.0, 0.0], [1.0, 0.0], [1.0, 0.0], [1.0, 0.0], [1.0, 0.0], [1.0, 0.0], [1.0, 0.0], [1.0, 0.0], [1.0, 0.0], [1.0, 0.0], [1.0, 0.0], [1.0, 0.0], [1.0, 0.0], [0.0, 0.0], [0.0, 0.0], [0.0, 0.0], [0.0, 0.0], [0.0, 0.0], [0.0, 0.0], [1.0, 0.0], [1.0, 0.0], [1.0, 1.0], [1.0, 0.0], [1.0, 0.0], [1.0, 0.0], [1.0, 0.0], [1.0, 0.0], [1.0, 1.0], [1.0, 1.0], [1.0, 1.0], [1.0, 1.0], [0.0, 0.0], [0.0, 0.0], [0.0, 0.0], [0.0, 0.0], [0.0, 0.0], [0.0, 0.0], [0.0, 0.0], [0.0, 0.0], [0.0, 0.0], [1.0, 0.0], [1.0, 0.0], [1.0, 0.0], [1.0, 0.0], [1.0, 0.0], [1.0, 0.0], [1.0, 0.0], [1.0, 0.0], [1.0, 0.0], [1.0, 0.0], [0.0, 0.0], [0.0, 0.0], [0.0, 0.0], [0.0, 0.0], [0.0, 0.0], [1.0, 0.0], [1.0, 0.0], [1.0, 0.0], [1.0, 0.0], [1.0, 0.0], [1.0, 0.0], [1.0, 0.0], [1.0, 0.0], [1.0, 0.0], [1.0, 0.0], [0.0, 0.0], [0.0, 0.0], [0.0, 0.0], [0.0, 0.0], [1.0, 0.0], [1.0, 0.0], [0.0, 0.0], [0.0, 0.0], [0.0, 0.0], [0.0, 1.0], [0.0, 0.0], [0.0, 0.0], [0.0, 0.0], [0.0, 0.0], [0.0, 0.0], [0.0, 0.0], [0.0, 0.0], [0.0, 0.0], [0.0, 0.0], [0.0, 0.0], [0.0, 0.0], [0.0, 0.0], [0.0, 0.0], [0.0, 0.0], [0.0, 0.0], [0.0, 0.0], [1.0, 1.0], [1.0, 1.0], [0.0, 0.0], [1.0, 1.0], [0.0, 0.0], [0.0, 0.0], [0.0, 0.0], [0.0, 0.0], [1.0, 1.0], [1.0, 0.0], [1.0, 0.0], [0.0, 0.0], [1.0, 0.0], [1.0, 0.0], [0.0, 0.0], [1.0, 0.0], [1.0, 0.0], [1.0, 0.0], [0.0, 0.0], [0.0, 0.0], [0.0, 0.0], [0.0, 0.0], [1.0, 0.0], [0.0, 0.0], [0.0, 0.0], [0.0, 0.0], [0.0, 0.0], [0.0, 0.0], [0.0, 0.0], [0.0, 0.0], [0.0, 0.0], [0.0, 0.0], [0.0, 0.0], [1.0, 0.0], [1.0, 0.0], [0.0, 0.0], [1.0, 1.0], [1.0, 1.0], [0.0, 1.0], [0.0, 1.0], [0.0, 0.0], [1.0, 0.0], [0.0, 0.0], [1.0, 0.0], [0.0, 0.0], [1.0, 0.0], [1.0, 0.0], [0.0, 0.0], [1.0, 0.0], [1.0, 0.0], [1.0, 0.0], [1.0, 0.0], [1.0, 0.0], [0.0, 0.0], [0.0, 0.0], [1.0, 1.0], [1.0, 1.0], [0.0, 1.0], [1.0, 0.0], [0.0, 0.0], [0.0, 0.0], [0.0, 0.0], [0.0, 0.0], [0.0, 0.0], [0.0, 0.0], [0.0, 0.0], [0.0, 0.0], [0.0, 0.0], [0.0, 0.0], [0.0, 0.0], [0.0, 0.0], [0.0, 0.0], [0.0, 0.0], [0.0, 0.0], [0.0, 0.0], [0.0, 0.0], [0.0, 0.0], [0.0, 0.0], [0.0, 0.0], [0.0, 0.0], [0.0, 0.0], [0.0, 0.0], [0.0, 0.0], [0.0, 0.0], [0.0, 0.0], [0.0, 0.0], [0.0, 0.0], [0.0, 0.0], [0.0, 0.0], [0.0, 0.0], [0.0, 0.0], [0.0, 0.0], [0.0, 0.0], [0.0, 0.0], [0.0, 0.0], [0.0, 0.0], [0.0, 0.0], [0.0, 1.0], [0.0, 0.0], [0.0, 0.0], [0.0, 0.0], [0.0, 0.0], [0.0, 0.0], [0.0, 0.0], [0.0, 0.0], [1.0, 0.0], [1.0, 0.0], [1.0, 0.0], [1.0, 0.0], [1.0, 0.0], [1.0, 0.0], [1.0, 0.0], [1.0, 0.0], [1.0, 0.0], [1.0, 0.0], [1.0, 0.0], [1.0, 0.0], [1.0, 0.0], [1.0, 0.0], [1.0, 0.0], [0.0, 0.0], [0.0, 0.0], [1.0, 0.0], [0.0, 0.0], [0.0, 0.0], [0.0, 0.0], [0.0, 0.0], [0.0, 0.0], [0.0, 0.0], [0.0, 0.0], [1.0, 0.0], [0.0, 0.0], [1.0, 0.0], [1.0, 0.0], [0.0, 0.0], [0.0, 0.0], [1.0, 0.0], [1.0, 0.0], [0.0, 0.0], [0.0, 0.0], [0.0, 0.0], [0.0, 0.0], [0.0, 0.0], [0.0, 0.0], [0.0, 0.0], [0.0, 0.0], [1.0, 0.0], [0.0, 0.0], [0.0, 0.0], [0.0, 0.0], [0.0, 0.0], [0.0, 0.0], [0.0, 0.0], [0.0, 0.0], [0.0, 0.0], [0.0, 0.0], [0.0, 0.0], [1.0, 0.0], [1.0, 0.0], [0.0, 0.0], [0.0, 0.0], [0.0, 0.0], [0.0, 0.0], [0.0, 0.0], [0.0, 0.0], [0.0, 0.0], [0.0, 0.0], [0.0, 0.0], [0.0, 1.0], [0.0, 0.0], [0.0, 0.0], [0.0, 0.0], [0.0, 0.0], [0.0, 0.0], [1.0, 0.0], [1.0, 0.0], [1.0, 0.0], [1.0, 0.0], [1.0, 0.0], [1.0, 0.0], [0.0, 1.0], [0.0, 0.0], [0.0, 0.0], [0.0, 0.0], [0.0, 0.0], [0.0, 0.0], [0.0, 0.0], [0.0, 0.0], [0.0, 0.0], [0.0, 0.0], [1.0, 1.0], [1.0, 1.0], [1.0, 1.0], [1.0, 1.0], [1.0, 1.0], [1.0, 0.0], [1.0, 0.0], [1.0, 0.0], [1.0, 0.0], [1.0, 0.0], [1.0, 0.0], [1.0, 0.0], [1.0, 0.0], [0.0, 0.0], [0.0, 0.0], [0.0, 0.0], [0.0, 0.0], [0.0, 0.0], [1.0, 0.0], [0.0, 0.0], [0.0, 0.0], [0.0, 0.0], [0.0, 0.0], [0.0, 0.0], [0.0, 0.0], [0.0, 0.0], [1.0, 0.0], [1.0, 0.0], [1.0, 0.0], [1.0, 0.0], [1.0, 1.0], [1.0, 1.0], [1.0, 1.0], [1.0, 1.0], [1.0, 1.0], [1.0, 0.0], [1.0, 0.0], [1.0, 0.0], [1.0, 0.0], [1.0, 0.0], [1.0, 0.0], [0.0, 0.0], [0.0, 0.0], [0.0, 0.0], [0.0, 0.0], [0.0, 0.0], [0.0, 0.0], [0.0, 0.0], [0.0, 0.0], [0.0, 0.0], [0.0, 0.0], [1.0, 0.0], [1.0, 0.0], [1.0, 0.0], [1.0, 0.0], [1.0, 0.0], [0.0, 0.0], [1.0, 0.0], [1.0, 0.0], [1.0, 0.0], [1.0, 0.0], [0.0, 0.0], [0.0, 0.0], [0.0, 0.0], [0.0, 0.0], [0.0, 0.0], [1.0, 0.0], [1.0, 0.0], [1.0, 0.0], [1.0, 0.0], [1.0, 0.0], [0.0, 0.0], [1.0, 0.0], [1.0, 0.0], [1.0, 0.0], [0.0, 0.0], [1.0, 0.0], [1.0, 1.0], [1.0, 0.0], [0.0, 0.0], [0.0, 0.0], [0.0, 0.0], [0.0, 0.0], [0.0, 0.0], [1.0, 0.0], [1.0, 0.0], [1.0, 0.0], [1.0, 0.0], [1.0, 0.0], [0.0, 0.0], [1.0, 0.0], [0.0, 0.0], [0.0, 0.0], [0.0, 1.0], [1.0, 0.0], [0.0, 0.0], [1.0, 0.0], [0.0, 0.0], [0.0, 1.0], [1.0, 1.0], [0.0, 1.0], [0.0, 1.0], [0.0, 1.0], [0.0, 1.0], [0.0, 0.0], [0.0, 0.0], [0.0, 0.0], [0.0, 0.0], [0.0, 0.0], [0.0, 0.0], [0.0, 0.0], [0.0, 0.0], [0.0, 0.0], [0.0, 0.0], [0.0, 0.0], [1.0, 0.0], [1.0, 0.0], [0.0, 0.0], [0.0, 0.0], [0.0, 0.0], [0.0, 0.0], [0.0, 0.0], [0.0, 0.0], [0.0, 0.0], [0.0, 0.0], [0.0, 0.0], [0.0, 0.0], [0.0, 0.0], [0.0, 0.0], [0.0, 0.0], [0.0, 0.0], [0.0, 0.0], [0.0, 0.0], [0.0, 0.0], [0.0, 0.0], [0.0, 0.0], [0.0, 0.0], [0.0, 0.0], [0.0, 0.0], [0.0, 0.0], [0.0, 0.0], [0.0, 0.0], [0.0, 0.0], [0.0, 0.0], [0.0, 0.0], [0.0, 0.0], [0.0, 0.0], [0.0, 0.0], [0.0, 0.0], [1.0, 0.0], [1.0, 0.0], [1.0, 0.0], [1.0, 0.0], [1.0, 0.0], [1.0, 0.0], [1.0, 0.0], [1.0, 0.0], [0.0, 1.0], [0.0, 0.0], [0.0, 1.0], [0.0, 0.0], [0.0, 0.0], [0.0, 1.0], [0.0, 0.0], [0.0, 1.0], [0.0, 1.0], [0.0, 0.0], [0.0, 0.0], [0.0, 0.0], [0.0, 0.0], [1.0, 0.0], [1.0, 0.0], [1.0, 0.0], [1.0, 0.0], [0.0, 0.0], [1.0, 0.0], [1.0, 0.0], [0.0, 0.0], [0.0, 0.0], [0.0, 0.0], [0.0, 0.0], [0.0, 0.0], [0.0, 0.0], [0.0, 0.0], [0.0, 0.0], [0.0, 0.0], [0.0, 0.0], [0.0, 0.0], [0.0, 0.0], [0.0, 0.0], [0.0, 0.0], [0.0, 0.0], [0.0, 0.0], [0.0, 0.0], [0.0, 0.0], [0.0, 0.0], [1.0, 0.0], [0.0, 0.0], [1.0, 0.0], [1.0, 0.0], [1.0, 0.0], [1.0, 0.0], [1.0, 0.0], [0.0, 0.0], [0.0, 0.0], [0.0, 0.0], [1.0, 0.0], [0.0, 0.0], [1.0, 0.0], [0.0, 0.0], [0.0, 0.0], [0.0, 0.0], [1.0, 0.0], [0.0, 0.0], [1.0, 0.0], [0.0, 0.0], [0.0, 0.0], [0.0, 0.0], [0.0, 0.0], [0.0, 0.0], [0.0, 0.0], [0.0, 0.0], [0.0, 0.0], [1.0, 0.0], [0.0, 0.0], [0.0, 0.0], [0.0, 0.0], [0.0, 0.0], [0.0, 0.0], [0.0, 0.0], [0.0, 0.0], [0.0, 0.0], [0.0, 0.0], [0.0, 0.0], [1.0, 0.0], [1.0, 0.0], [0.0, 0.0], [0.0, 0.0], [0.0, 0.0], [0.0, 0.0], [0.0, 0.0], [0.0, 0.0], [0.0, 0.0], [0.0, 0.0], [0.0, 0.0], [0.0, 0.0], [0.0, 0.0], [0.0, 0.0], [1.0, 0.0], [1.0, 0.0], [1.0, 0.0], [1.0, 0.0], [1.0, 0.0], [1.0, 1.0], [1.0, 0.0], [1.0, 0.0], [1.0, 0.0], [0.0, 0.0], [0.0, 0.0], [0.0, 1.0], [0.0, 1.0], [0.0, 1.0], [0.0, 1.0], [0.0, 1.0], [0.0, 1.0], [0.0, 1.0], [1.0, 0.0], [0.0, 0.0], [0.0, 0.0], [0.0, 0.0], [0.0, 0.0], [0.0, 0.0], [0.0, 0.0], [0.0, 0.0], [0.0, 0.0], [0.0, 0.0], [0.0, 0.0], [0.0, 0.0], [0.0, 0.0], [0.0, 0.0], [0.0, 0.0], [0.0, 0.0], [0.0, 0.0], [0.0, 0.0], [0.0, 0.0], [0.0, 0.0], [0.0, 0.0], [0.0, 0.0], [0.0, 0.0], [0.0, 0.0], [0.0, 0.0], [0.0, 0.0], [0.0, 0.0], [1.0, 0.0], [0.0, 0.0], [0.0, 0.0], [0.0, 0.0], [0.0, 0.0], [0.0, 0.0], [0.0, 0.0], [0.0, 0.0], [0.0, 0.0], [0.0, 0.0], [1.0, 0.0], [1.0, 0.0], [1.0, 0.0], [0.0, 0.0], [1.0, 0.0], [1.0, 0.0], [1.0, 0.0], [1.0, 0.0], [1.0, 0.0], [0.0, 0.0], [0.0, 0.0], [0.0, 0.0], [1.0, 0.0], [0.0, 0.0], [0.0, 0.0], [1.0, 0.0], [0.0, 0.0], [1.0, 0.0], [0.0, 0.0], [0.0, 0.0], [0.0, 0.0], [0.0, 0.0], [0.0, 0.0], [0.0, 0.0], [0.0, 0.0], [0.0, 0.0], [0.0, 0.0], [0.0, 0.0], [0.0, 0.0], [0.0, 0.0], [0.0, 0.0], [0.0, 0.0], [0.0, 0.0], [0.0, 0.0], [0.0, 0.0], [0.0, 0.0], [0.0, 0.0], [0.0, 1.0], [0.0, 1.0], [0.0, 1.0], [0.0, 0.0], [1.0, 1.0], [1.0, 1.0], [1.0, 1.0], [1.0, 1.0], [0.0, 1.0], [0.0, 0.0], [0.0, 0.0], [1.0, 0.0], [0.0, 0.0], [0.0, 0.0], [0.0, 0.0], [0.0, 0.0], [0.0, 0.0], [0.0, 0.0], [0.0, 0.0], [0.0, 0.0], [0.0, 0.0], [1.0, 0.0], [1.0, 0.0], [1.0, 0.0], [0.0, 0.0], [1.0, 0.0], [1.0, 0.0], [1.0, 0.0], [0.0, 0.0], [0.0, 0.0], [0.0, 0.0], [0.0, 0.0], [0.0, 0.0], [0.0, 0.0], [0.0, 0.0], [0.0, 0.0], [0.0, 1.0], [0.0, 1.0], [1.0, 1.0], [1.0, 1.0], [1.0, 1.0], [0.0, 1.0], [1.0, 1.0], [0.0, 1.0], [1.0, 1.0], [1.0, 1.0], [1.0, 0.0], [0.0, 0.0], [1.0, 0.0], [1.0, 0.0], [0.0, 0.0], [0.0, 0.0], [0.0, 0.0], [0.0, 0.0], [0.0, 0.0], [0.0, 0.0], [1.0, 0.0], [1.0, 0.0], [1.0, 0.0], [1.0, 0.0], [1.0, 0.0], [1.0, 0.0], [0.0, 1.0], [0.0, 1.0], [0.0, 0.0], [0.0, 1.0], [0.0, 1.0], [0.0, 1.0], [0.0, 1.0], [0.0, 1.0], [0.0, 0.0], [0.0, 0.0], [0.0, 0.0], [0.0, 0.0], [0.0, 0.0], [0.0, 0.0], [0.0, 0.0], [0.0, 0.0], [0.0, 0.0], [0.0, 0.0], [0.0, 0.0], [0.0, 0.0], [0.0, 0.0], [1.0, 0.0], [1.0, 0.0], [1.0, 0.0], [1.0, 0.0], [1.0, 0.0], [1.0, 0.0], [1.0, 0.0], [0.0, 0.0], [1.0, 0.0], [1.0, 1.0], [1.0, 1.0], [1.0, 1.0], [1.0, 1.0], [1.0, 1.0], [1.0, 1.0], [1.0, 1.0], [0.0, 0.0], [1.0, 0.0], [1.0, 1.0], [0.0, 0.0], [1.0, 0.0], [1.0, 1.0], [1.0, 0.0], [1.0, 1.0], [1.0, 0.0], [1.0, 0.0], [1.0, 1.0], [1.0, 0.0], [0.0, 1.0], [1.0, 0.0], [1.0, 0.0], [1.0, 0.0], [1.0, 0.0], [0.0, 0.0], [1.0, 0.0], [0.0, 0.0], [0.0, 0.0], [1.0, 0.0], [0.0, 0.0], [0.0, 0.0], [0.0, 1.0], [0.0, 1.0], [0.0, 1.0], [1.0, 1.0], [0.0, 1.0], [1.0, 1.0], [1.0, 1.0], [1.0, 1.0], [0.0, 1.0], [0.0, 0.0], [0.0, 0.0], [1.0, 0.0], [1.0, 0.0], [0.0, 0.0], [0.0, 0.0], [0.0, 0.0], [0.0, 0.0], [0.0, 0.0], [1.0, 0.0], [1.0, 0.0], [1.0, 0.0], [1.0, 0.0], [1.0, 0.0], [0.0, 0.0], [1.0, 0.0], [1.0, 0.0], [1.0, 0.0], [1.0, 0.0], [1.0, 0.0], [1.0, 0.0], [1.0, 0.0], [1.0, 0.0], [1.0, 0.0], [0.0, 0.0], [0.0, 0.0], [0.0, 0.0], [0.0, 0.0], [0.0, 0.0], [0.0, 0.0], [0.0, 0.0], [0.0, 0.0], [0.0, 0.0], [0.0, 0.0], [0.0, 0.0], [0.0, 0.0], [0.0, 0.0], [0.0, 0.0], [0.0, 0.0], [0.0, 0.0], [0.0, 0.0], [0.0, 0.0], [0.0, 0.0], [0.0, 0.0], [0.0, 0.0], [0.0, 0.0], [0.0, 0.0], [0.0, 0.0], [0.0, 0.0], [0.0, 0.0], [0.0, 1.0], [0.0, 1.0], [0.0, 1.0], [0.0, 1.0], [0.0, 1.0], [0.0, 1.0], [0.0, 1.0], [0.0, 1.0], [0.0, 0.0], [0.0, 0.0], [0.0, 1.0], [0.0, 1.0], [0.0, 1.0], [0.0, 1.0], [0.0, 1.0], [0.0, 1.0], [0.0, 1.0], [0.0, 1.0], [0.0, 0.0], [0.0, 0.0], [0.0, 0.0], [0.0, 1.0], [0.0, 1.0], [0.0, 1.0], [0.0, 0.0], [0.0, 1.0], [0.0, 1.0], [0.0, 0.0], [0.0, 0.0], [0.0, 0.0], [0.0, 0.0], [0.0, 0.0], [0.0, 0.0], [0.0, 0.0], [0.0, 0.0], [0.0, 0.0], [0.0, 0.0], [0.0, 0.0], [0.0, 0.0], [0.0, 0.0], [0.0, 0.0], [0.0, 0.0], [0.0, 0.0], [0.0, 0.0], [0.0, 0.0], [0.0, 0.0], [0.0, 0.0], [0.0, 0.0], [0.0, 1.0], [0.0, 1.0], [0.0, 0.0], [1.0, 0.0], [1.0, 0.0], [0.0, 0.0], [0.0, 0.0], [0.0, 0.0], [0.0, 0.0], [0.0, 0.0], [0.0, 0.0], [0.0, 0.0], [0.0, 0.0], [0.0, 0.0], [0.0, 0.0], [0.0, 0.0], [0.0, 0.0], [0.0, 0.0], [0.0, 1.0], [1.0, 1.0], [1.0, 1.0], [1.0, 1.0], [1.0, 0.0], [1.0, 1.0], [1.0, 0.0], [0.0, 1.0], [0.0, 1.0], [0.0, 0.0], [0.0, 0.0], [0.0, 1.0], [0.0, 0.0], [0.0, 0.0], [0.0, 0.0], [0.0, 1.0], [0.0, 1.0], [0.0, 0.0], [0.0, 0.0], [0.0, 0.0], [0.0, 1.0], [0.0, 1.0], [0.0, 1.0], [0.0, 1.0], [0.0, 1.0], [1.0, 0.0], [1.0, 0.0], [1.0, 0.0], [1.0, 1.0], [0.0, 0.0], [0.0, 1.0], [0.0, 0.0], [0.0, 1.0], [0.0, 0.0], [0.0, 0.0], [0.0, 0.0], [0.0, 0.0], [0.0, 0.0], [0.0, 0.0], [0.0, 0.0], [0.0, 0.0], [0.0, 0.0], [0.0, 0.0], [0.0, 0.0], [0.0, 0.0], [0.0, 0.0], [0.0, 0.0], [0.0, 0.0], [0.0, 0.0], [0.0, 0.0], [1.0, 1.0], [1.0, 1.0], [1.0, 1.0], [1.0, 1.0], [1.0, 0.0], [1.0, 1.0], [1.0, 0.0], [1.0, 1.0], [1.0, 1.0], [1.0, 1.0], [1.0, 0.0], [0.0, 0.0], [1.0, 0.0], [1.0, 0.0], [0.0, 0.0], [0.0, 1.0], [0.0, 1.0], [0.0, 1.0], [0.0, 1.0], [0.0, 1.0], [0.0, 1.0], [0.0, 1.0], [0.0, 1.0], [0.0, 1.0], [0.0, 1.0], [0.0, 1.0], [0.0, 0.0], [0.0, 1.0], [0.0, 1.0], [0.0, 1.0], [0.0, 1.0], [0.0, 1.0], [0.0, 1.0], [0.0, 0.0], [0.0, 0.0], [1.0, 0.0], [1.0, 0.0], [1.0, 0.0], [1.0, 0.0], [1.0, 0.0], [1.0, 0.0], [1.0, 0.0], [1.0, 0.0], [0.0, 0.0], [0.0, 1.0], [0.0, 0.0], [0.0, 0.0], [0.0, 0.0], [0.0, 0.0], [0.0, 1.0], [0.0, 1.0], [0.0, 1.0], [0.0, 1.0], [0.0, 1.0], [0.0, 0.0], [0.0, 1.0], [0.0, 0.0], [0.0, 0.0], [1.0, 0.0], [0.0, 0.0], [1.0, 0.0], [0.0, 0.0], [1.0, 0.0], [1.0, 0.0], [1.0, 0.0], [1.0, 0.0], [1.0, 0.0], [1.0, 0.0], [1.0, 0.0], [1.0, 0.0], [0.0, 0.0], [0.0, 0.0], [0.0, 0.0], [0.0, 0.0], [1.0, 0.0], [0.0, 0.0], [1.0, 0.0], [0.0, 0.0], [1.0, 0.0], [0.0, 0.0], [1.0, 0.0], [1.0, 0.0], [1.0, 0.0], [1.0, 0.0], [1.0, 0.0], [1.0, 0.0], [1.0, 0.0], [1.0, 0.0], [0.0, 0.0], [1.0, 0.0], [1.0, 0.0], [1.0, 0.0], [1.0, 0.0], [1.0, 0.0], [1.0, 0.0], [1.0, 0.0], [1.0, 0.0], [0.0, 0.0], [0.0, 0.0], [0.0, 0.0], [0.0, 0.0], [0.0, 0.0], [1.0, 0.0], [1.0, 0.0], [1.0, 0.0], [1.0, 0.0], [1.0, 0.0], [1.0, 0.0], [1.0, 0.0], [1.0, 0.0], [1.0, 0.0], [0.0, 1.0], [0.0, 0.0], [0.0, 1.0], [0.0, 0.0], [0.0, 0.0], [0.0, 0.0], [1.0, 0.0], [1.0, 0.0], [1.0, 0.0], [1.0, 0.0], [1.0, 0.0], [1.0, 0.0], [1.0, 1.0], [1.0, 0.0], [1.0, 0.0], [1.0, 1.0], [1.0, 1.0], [1.0, 1.0], [1.0, 0.0], [1.0, 0.0], [1.0, 0.0], [0.0, 0.0], [1.0, 0.0], [1.0, 0.0], [1.0, 0.0], [1.0, 0.0], [1.0, 0.0], [1.0, 0.0], [1.0, 0.0], [1.0, 0.0], [1.0, 1.0], [1.0, 1.0], [1.0, 0.0], [1.0, 0.0], [1.0, 0.0], [0.0, 0.0], [1.0, 0.0], [0.0, 0.0], [0.0, 0.0], [0.0, 0.0], [0.0, 0.0], [0.0, 0.0], [0.0, 0.0], [0.0, 0.0], [0.0, 0.0], [0.0, 0.0], [0.0, 0.0], [0.0, 0.0], [1.0, 0.0], [1.0, 0.0], [1.0, 0.0], [1.0, 0.0], [0.0, 1.0], [1.0, 0.0], [1.0, 0.0], [0.0, 0.0], [0.0, 0.0], [0.0, 0.0], [0.0, 0.0], [0.0, 0.0], [0.0, 0.0], [0.0, 0.0], [0.0, 0.0], [0.0, 0.0], [1.0, 0.0], [1.0, 0.0], [1.0, 0.0], [1.0, 0.0], [1.0, 0.0], [0.0, 0.0], [1.0, 0.0], [1.0, 0.0], [1.0, 0.0], [1.0, 0.0], [1.0, 0.0], [0.0, 0.0], [0.0, 0.0], [1.0, 0.0], [0.0, 0.0], [0.0, 0.0], [1.0, 0.0], [0.0, 0.0], [0.0, 0.0], [0.0, 0.0], [1.0, 0.0], [1.0, 0.0], [1.0, 0.0], [1.0, 0.0], [1.0, 0.0], [1.0, 0.0], [0.0, 0.0], [1.0, 0.0], [1.0, 0.0], [1.0, 0.0], [0.0, 0.0], [1.0, 0.0], [1.0, 0.0], [1.0, 0.0], [1.0, 0.0], [1.0, 0.0], [1.0, 0.0], [1.0, 0.0], [1.0, 0.0], [1.0, 0.0], [1.0, 0.0], [0.0, 0.0], [1.0, 0.0], [1.0, 0.0], [1.0, 0.0], [1.0, 0.0], [1.0, 0.0], [1.0, 0.0], [1.0, 0.0], [1.0, 0.0], [1.0, 0.0], [0.0, 0.0], [1.0, 0.0], [1.0, 0.0], [1.0, 0.0], [1.0, 0.0], [1.0, 0.0], [1.0, 0.0], [1.0, 0.0], [1.0, 0.0], [1.0, 0.0], [1.0, 0.0], [0.0, 0.0], [0.0, 0.0], [0.0, 0.0], [0.0, 0.0], [0.0, 0.0], [0.0, 0.0], [0.0, 0.0], [1.0, 1.0], [1.0, 0.0], [1.0, 0.0], [1.0, 0.0], [1.0, 0.0], [0.0, 0.0], [0.0, 1.0], [0.0, 1.0], [0.0, 1.0], [0.0, 1.0], [0.0, 1.0], [0.0, 1.0], [0.0, 0.0], [0.0, 0.0], [0.0, 0.0], [0.0, 0.0], [0.0, 0.0], [0.0, 0.0], [0.0, 0.0], [0.0, 0.0], [0.0, 0.0], [1.0, 0.0], [1.0, 0.0], [1.0, 0.0], [1.0, 0.0], [1.0, 0.0], [1.0, 0.0], [1.0, 0.0], [1.0, 0.0], [1.0, 0.0], [1.0, 0.0], [1.0, 0.0], [1.0, 0.0], [1.0, 0.0], [0.0, 0.0], [0.0, 0.0], [0.0, 0.0], [0.0, 0.0], [0.0, 0.0], [0.0, 0.0], [0.0, 0.0], [0.0, 0.0], [0.0, 0.0], [0.0, 0.0], [0.0, 0.0], [0.0, 0.0], [0.0, 0.0], [0.0, 0.0], [0.0, 0.0], [0.0, 0.0], [0.0, 0.0], [0.0, 0.0], [0.0, 0.0], [0.0, 0.0], [0.0, 0.0], [0.0, 0.0], [0.0, 0.0], [0.0, 0.0], [0.0, 0.0], [0.0, 0.0], [0.0, 0.0], [0.0, 0.0], [0.0, 0.0], [0.0, 0.0], [0.0, 0.0], [0.0, 0.0], [0.0, 0.0], [1.0, 0.0], [0.0, 0.0], [1.0, 0.0], [0.0, 0.0], [0.0, 0.0], [1.0, 0.0], [0.0, 0.0], [0.0, 0.0], [0.0, 0.0], [0.0, 1.0], [0.0, 1.0], [0.0, 0.0], [0.0, 0.0], [0.0, 0.0], [0.0, 0.0], [0.0, 0.0], [0.0, 0.0], [0.0, 0.0], [0.0, 0.0], [0.0, 0.0], [0.0, 0.0], [0.0, 0.0], [0.0, 0.0], [0.0, 0.0], [0.0, 0.0], [0.0, 1.0], [1.0, 0.0], [1.0, 0.0], [1.0, 0.0], [1.0, 0.0], [0.0, 0.0], [0.0, 0.0], [0.0, 0.0], [0.0, 0.0], [0.0, 0.0], [0.0, 0.0], [0.0, 0.0], [0.0, 0.0], [0.0, 0.0], [0.0, 0.0], [0.0, 0.0], [0.0, 0.0], [0.0, 0.0], [0.0, 0.0], [0.0, 0.0], [0.0, 0.0], [0.0, 0.0], [0.0, 0.0], [0.0, 0.0], [0.0, 0.0], [1.0, 0.0], [1.0, 0.0], [0.0, 0.0], [0.0, 0.0], [0.0, 0.0], [0.0, 1.0], [0.0, 0.0], [0.0, 1.0], [0.0, 1.0], [0.0, 1.0], [0.0, 1.0], [0.0, 1.0], [0.0, 0.0], [1.0, 0.0], [0.0, 0.0], [1.0, 0.0], [1.0, 0.0], [1.0, 0.0], [0.0, 0.0], [1.0, 0.0], [0.0, 0.0], [1.0, 0.0], [0.0, 0.0], [0.0, 0.0], [0.0, 0.0], [0.0, 0.0], [0.0, 0.0], [0.0, 0.0], [0.0, 0.0], [0.0, 0.0], [0.0, 0.0], [0.0, 0.0], [0.0, 0.0], [0.0, 0.0], [0.0, 0.0], [0.0, 0.0], [0.0, 0.0], [0.0, 0.0], [0.0, 0.0], [0.0, 0.0], [0.0, 0.0], [0.0, 0.0], [0.0, 0.0], [0.0, 0.0], [0.0, 0.0], [0.0, 0.0], [0.0, 0.0], [0.0, 0.0], [0.0, 0.0], [0.0, 0.0], [0.0, 0.0], [0.0, 0.0], [0.0, 0.0], [0.0, 0.0], [0.0, 0.0], [0.0, 0.0], [0.0, 0.0], [0.0, 0.0], [1.0, 0.0], [1.0, 0.0], [1.0, 0.0], [1.0, 0.0], [1.0, 0.0], [1.0, 0.0], [1.0, 0.0], [1.0, 0.0], [1.0, 0.0], [0.0, 0.0], [0.0, 0.0], [0.0, 0.0], [0.0, 0.0], [0.0, 0.0], [0.0, 0.0], [0.0, 0.0], [0.0, 0.0], [0.0, 0.0], [0.0, 0.0], [0.0, 0.0], [0.0, 0.0], [0.0, 0.0], [0.0, 1.0], [0.0, 1.0], [0.0, 1.0], [0.0, 1.0], [0.0, 0.0], [1.0, 0.0], [1.0, 0.0], [1.0, 0.0], [1.0, 0.0], [1.0, 0.0], [0.0, 0.0], [0.0, 0.0], [0.0, 0.0], [0.0, 0.0], [0.0, 0.0], [0.0, 0.0], [0.0, 0.0], [0.0, 0.0], [0.0, 0.0], [0.0, 0.0], [0.0, 0.0], [0.0, 0.0], [0.0, 0.0], [0.0, 1.0], [0.0, 1.0], [1.0, 1.0], [0.0, 1.0], [0.0, 0.0], [1.0, 0.0], [0.0, 1.0], [0.0, 1.0], [0.0, 1.0], [0.0, 1.0], [0.0, 1.0], [0.0, 1.0], [0.0, 1.0], [0.0, 1.0], [1.0, 1.0], [0.0, 1.0], [0.0, 0.0], [0.0, 1.0], [0.0, 0.0], [0.0, 0.0], [0.0, 0.0], [0.0, 0.0], [0.0, 1.0], [1.0, 0.0], [0.0, 1.0], [1.0, 0.0], [1.0, 0.0], [1.0, 0.0], [1.0, 1.0], [1.0, 1.0], [1.0, 1.0], [0.0, 1.0], [0.0, 0.0], [0.0, 0.0], [0.0, 1.0], [0.0, 1.0], [0.0, 1.0], [0.0, 0.0], [0.0, 0.0], [0.0, 1.0], [0.0, 1.0], [0.0, 1.0], [0.0, 1.0], [0.0, 1.0], [1.0, 1.0], [1.0, 1.0], [0.0, 0.0], [0.0, 0.0], [0.0, 0.0], [0.0, 0.0], [0.0, 0.0], [0.0, 1.0], [1.0, 1.0], [0.0, 0.0], [0.0, 0.0], [0.0, 1.0], [0.0, 0.0], [1.0, 0.0], [1.0, 1.0], [1.0, 0.0], [1.0, 0.0], [1.0, 0.0], [0.0, 0.0], [1.0, 1.0], [1.0, 1.0], [1.0, 1.0], [1.0, 1.0], [0.0, 1.0], [1.0, 0.0], [1.0, 0.0], [0.0, 1.0], [0.0, 1.0], [0.0, 0.0], [0.0, 0.0], [0.0, 0.0], [0.0, 0.0], [0.0, 0.0], [0.0, 0.0], [0.0, 0.0], [0.0, 0.0], [0.0, 0.0], [1.0, 1.0], [1.0, 1.0], [1.0, 1.0], [1.0, 1.0], [0.0, 1.0], [0.0, 0.0], [0.0, 0.0], [0.0, 0.0], [0.0, 0.0], [0.0, 0.0], [0.0, 0.0], [0.0, 0.0], [0.0, 0.0], [0.0, 0.0], [0.0, 0.0], [0.0, 0.0], [0.0, 0.0], [0.0, 0.0], [0.0, 0.0], [0.0, 0.0], [0.0, 0.0], [1.0, 0.0], [0.0, 0.0], [0.0, 0.0], [0.0, 0.0], [0.0, 0.0], [0.0, 0.0], [0.0, 0.0], [1.0, 0.0], [0.0, 0.0], [0.0, 0.0], [0.0, 0.0], [0.0, 0.0], [0.0, 0.0], [0.0, 0.0], [1.0, 0.0], [0.0, 0.0], [0.0, 0.0], [1.0, 0.0], [1.0, 0.0], [1.0, 0.0], [1.0, 0.0], [0.0, 0.0], [1.0, 0.0], [1.0, 0.0], [0.0, 0.0], [1.0, 0.0], [0.0, 0.0], [1.0, 0.0], [1.0, 1.0], [1.0, 1.0], [1.0, 0.0], [1.0, 0.0], [0.0, 0.0], [0.0, 0.0], [0.0, 0.0], [0.0, 0.0], [0.0, 0.0], [0.0, 0.0], [0.0, 0.0], [0.0, 0.0], [0.0, 0.0], [0.0, 0.0], [0.0, 0.0], [0.0, 0.0], [0.0, 0.0], [0.0, 0.0], [0.0, 0.0], [0.0, 0.0], [0.0, 0.0], [0.0, 0.0], [0.0, 0.0], [0.0, 0.0], [1.0, 0.0], [1.0, 0.0], [1.0, 0.0], [1.0, 0.0], [1.0, 0.0], [1.0, 1.0], [1.0, 1.0], [1.0, 1.0], [1.0, 1.0], [1.0, 1.0], [1.0, 1.0], [1.0, 1.0], [1.0, 1.0], [1.0, 1.0], [1.0, 1.0], [0.0, 0.0], [1.0, 1.0], [0.0, 0.0], [0.0, 0.0], [0.0, 0.0], [0.0, 0.0], [0.0, 0.0], [0.0, 0.0], [0.0, 0.0], [0.0, 0.0], [0.0, 0.0], [0.0, 0.0], [1.0, 0.0], [1.0, 0.0], [0.0, 0.0], [0.0, 0.0], [1.0, 0.0], [1.0, 0.0], [0.0, 0.0], [0.0, 0.0], [0.0, 0.0], [0.0, 0.0], [0.0, 0.0], [0.0, 0.0], [0.0, 0.0], [0.0, 0.0], [0.0, 0.0], [0.0, 0.0], [0.0, 0.0], [0.0, 0.0], [0.0, 0.0], [1.0, 1.0], [0.0, 1.0], [0.0, 1.0], [0.0, 1.0], [1.0, 1.0], [1.0, 1.0], [1.0, 1.0], [0.0, 1.0], [0.0, 1.0], [1.0, 0.0], [0.0, 1.0], [0.0, 1.0], [0.0, 1.0], [0.0, 1.0], [0.0, 0.0], [0.0, 1.0], [0.0, 1.0], [1.0, 0.0], [1.0, 1.0], [1.0, 1.0], [1.0, 1.0], [1.0, 1.0], [0.0, 0.0], [1.0, 0.0], [0.0, 1.0], [0.0, 1.0], [0.0, 1.0], [0.0, 1.0], [0.0, 1.0], [1.0, 1.0], [1.0, 1.0], [1.0, 1.0], [0.0, 1.0], [0.0, 0.0], [0.0, 1.0], [0.0, 1.0], [0.0, 1.0], [0.0, 0.0], [0.0, 1.0], [0.0, 1.0], [0.0, 1.0], [0.0, 1.0], [0.0, 0.0], [1.0, 1.0], [0.0, 1.0], [0.0, 1.0], [1.0, 1.0], [1.0, 1.0], [1.0, 1.0], [0.0, 1.0], [0.0, 1.0], [0.0, 0.0], [1.0, 1.0], [1.0, 1.0], [1.0, 1.0], [0.0, 1.0], [0.0, 1.0], [0.0, 1.0], [0.0, 1.0], [1.0, 1.0], [1.0, 1.0], [0.0, 0.0], [1.0, 1.0], [0.0, 0.0], [0.0, 0.0], [0.0, 0.0], [0.0, 0.0], [0.0, 0.0], [0.0, 0.0], [0.0, 0.0], [0.0, 0.0], [0.0, 0.0], [0.0, 0.0], [0.0, 0.0], [0.0, 0.0], [0.0, 0.0], [0.0, 0.0], [0.0, 0.0], [0.0, 0.0], [0.0, 0.0], [0.0, 0.0], [0.0, 0.0], [0.0, 0.0], [0.0, 0.0], [0.0, 0.0], [0.0, 0.0], [0.0, 0.0], [0.0, 0.0], [0.0, 0.0], [0.0, 0.0], [0.0, 0.0], [0.0, 0.0], [0.0, 0.0], [0.0, 0.0], [0.0, 0.0], [0.0, 0.0], [0.0, 0.0], [0.0, 0.0], [0.0, 0.0], [0.0, 0.0], [0.0, 0.0], [0.0, 0.0], [0.0, 0.0], [0.0, 0.0], [0.0, 0.0], [0.0, 1.0], [0.0, 1.0], [1.0, 0.0], [0.0, 0.0], [0.0, 0.0], [0.0, 1.0], [0.0, 0.0], [0.0, 0.0], [0.0, 0.0], [0.0, 0.0], [0.0, 0.0], [0.0, 0.0], [0.0, 0.0], [0.0, 0.0], [0.0, 0.0], [0.0, 0.0], [0.0, 0.0], [0.0, 0.0], [0.0, 0.0], [0.0, 0.0], [0.0, 0.0], [0.0, 0.0], [0.0, 0.0], [1.0, 1.0], [0.0, 1.0], [0.0, 1.0], [0.0, 1.0], [0.0, 0.0], [1.0, 0.0], [0.0, 1.0], [0.0, 1.0], [0.0, 1.0], [0.0, 0.0], [1.0, 0.0], [0.0, 0.0], [0.0, 0.0], [0.0, 0.0], [0.0, 1.0], [0.0, 1.0], [0.0, 0.0], [0.0, 0.0], [0.0, 0.0], [0.0, 0.0], [0.0, 0.0], [0.0, 0.0], [0.0, 0.0], [0.0, 0.0], [0.0, 0.0], [0.0, 0.0], [0.0, 1.0], [0.0, 0.0], [0.0, 0.0], [0.0, 0.0], [0.0, 0.0], [0.0, 0.0], [0.0, 0.0], [0.0, 0.0], [0.0, 0.0], [0.0, 0.0], [0.0, 0.0], [0.0, 0.0], [0.0, 0.0], [0.0, 0.0], [0.0, 0.0], [0.0, 0.0], [0.0, 0.0], [0.0, 0.0], [0.0, 0.0], [1.0, 0.0], [0.0, 0.0], [0.0, 0.0], [0.0, 0.0], [0.0, 0.0], [0.0, 0.0], [0.0, 0.0], [0.0, 0.0], [0.0, 0.0], [1.0, 0.0], [1.0, 0.0], [0.0, 0.0], [1.0, 0.0], [1.0, 0.0], [1.0, 0.0], [1.0, 0.0], [1.0, 0.0], [0.0, 0.0], [1.0, 0.0], [0.0, 0.0], [0.0, 0.0], [1.0, 0.0], [0.0, 0.0], [0.0, 0.0], [0.0, 0.0], [0.0, 0.0], [0.0, 0.0], [0.0, 0.0], [1.0, 0.0], [1.0, 1.0], [1.0, 1.0], [1.0, 1.0], [0.0, 1.0], [1.0, 1.0], [1.0, 0.0], [1.0, 0.0], [1.0, 0.0], [1.0, 0.0], [0.0, 0.0], [0.0, 0.0], [0.0, 1.0], [0.0, 1.0], [0.0, 0.0], [0.0, 1.0], [0.0, 1.0], [0.0, 1.0], [0.0, 0.0], [0.0, 0.0], [0.0, 1.0], [0.0, 1.0], [0.0, 0.0], [0.0, 0.0], [0.0, 0.0], [0.0, 1.0], [0.0, 0.0], [0.0, 0.0], [0.0, 0.0], [0.0, 0.0], [0.0, 0.0], [0.0, 0.0], [0.0, 0.0], [0.0, 0.0], [0.0, 0.0], [0.0, 0.0], [0.0, 0.0], [0.0, 0.0], [0.0, 0.0], [0.0, 1.0], [1.0, 0.0], [1.0, 0.0], [1.0, 0.0], [1.0, 0.0], [0.0, 1.0], [0.0, 0.0], [1.0, 0.0], [0.0, 0.0], [0.0, 0.0], [1.0, 0.0], [1.0, 0.0], [1.0, 0.0], [1.0, 0.0], [1.0, 0.0], [1.0, 1.0], [0.0, 0.0], [0.0, 1.0], [0.0, 0.0], [1.0, 0.0], [1.0, 0.0], [0.0, 0.0], [0.0, 0.0], [0.0, 0.0], [1.0, 0.0], [1.0, 0.0], [1.0, 0.0], [1.0, 0.0], [1.0, 0.0], [1.0, 0.0], [1.0, 0.0], [1.0, 0.0], [1.0, 0.0], [0.0, 0.0], [1.0, 1.0], [0.0, 1.0], [1.0, 1.0], [0.0, 0.0], [0.0, 0.0], [0.0, 0.0], [0.0, 0.0], [1.0, 0.0], [0.0, 0.0], [1.0, 0.0], [0.0, 0.0], [0.0, 0.0], [1.0, 0.0], [1.0, 0.0], [1.0, 0.0], [0.0, 0.0], [0.0, 0.0], [0.0, 0.0], [1.0, 0.0], [1.0, 0.0], [0.0, 0.0], [1.0, 0.0], [1.0, 0.0], [1.0, 0.0], [1.0, 0.0], [1.0, 0.0], [1.0, 0.0], [1.0, 0.0], [0.0, 1.0], [1.0, 0.0], [0.0, 0.0], [1.0, 1.0], [1.0, 0.0], [0.0, 0.0], [0.0, 0.0], [0.0, 1.0], [0.0, 1.0], [0.0, 1.0], [0.0, 1.0], [0.0, 0.0], [0.0, 0.0], [1.0, 0.0], [1.0, 0.0], [1.0, 0.0], [1.0, 0.0], [0.0, 0.0], [1.0, 1.0], [0.0, 0.0], [0.0, 0.0], [0.0, 0.0], [0.0, 0.0], [0.0, 0.0], [1.0, 0.0], [1.0, 0.0], [1.0, 0.0], [1.0, 0.0], [1.0, 0.0], [1.0, 0.0], [1.0, 1.0], [1.0, 1.0], [0.0, 1.0], [0.0, 0.0], [0.0, 0.0], [0.0, 0.0], [0.0, 1.0], [1.0, 1.0], [0.0, 1.0], [0.0, 1.0], [0.0, 1.0], [0.0, 0.0], [0.0, 1.0], [0.0, 0.0], [0.0, 0.0], [0.0, 0.0], [0.0, 0.0], [0.0, 0.0], [1.0, 1.0], [0.0, 1.0], [0.0, 1.0], [0.0, 1.0], [0.0, 1.0], [0.0, 1.0], [0.0, 1.0], [0.0, 1.0], [0.0, 1.0], [0.0, 1.0], [0.0, 1.0], [1.0, 0.0], [1.0, 0.0], [1.0, 0.0], [1.0, 0.0], [1.0, 0.0], [1.0, 0.0], [1.0, 0.0], [1.0, 0.0], [1.0, 0.0], [1.0, 0.0], [1.0, 0.0], [1.0, 0.0], [1.0, 0.0], [1.0, 0.0], [1.0, 0.0], [1.0, 0.0], [1.0, 0.0], [1.0, 0.0], [1.0, 0.0], [0.0, 1.0], [1.0, 1.0], [1.0, 1.0], [1.0, 1.0], [0.0, 1.0], [0.0, 0.0], [0.0, 1.0], [1.0, 1.0], [1.0, 0.0], [1.0, 0.0], [1.0, 0.0], [0.0, 0.0], [1.0, 0.0], [1.0, 0.0], [0.0, 0.0], [0.0, 0.0], [0.0, 0.0], [0.0, 0.0], [0.0, 0.0], [0.0, 0.0], [0.0, 0.0], [0.0, 0.0], [0.0, 0.0], [0.0, 0.0], [0.0, 1.0], [1.0, 1.0], [1.0, 1.0], [0.0, 1.0], [0.0, 1.0], [0.0, 0.0], [1.0, 0.0], [1.0, 1.0], [1.0, 0.0], [1.0, 0.0], [1.0, 0.0], [1.0, 0.0], [0.0, 0.0], [0.0, 1.0], [0.0, 1.0], [1.0, 0.0], [1.0, 0.0], [1.0, 0.0], [1.0, 0.0], [1.0, 0.0], [1.0, 0.0], [1.0, 0.0], [1.0, 0.0], [1.0, 0.0], [1.0, 0.0], [1.0, 0.0], [1.0, 0.0], [1.0, 0.0], [1.0, 0.0], [1.0, 0.0], [1.0, 0.0], [1.0, 0.0], [1.0, 0.0], [1.0, 0.0], [0.0, 0.0], [0.0, 1.0], [0.0, 1.0], [0.0, 1.0], [0.0, 1.0], [0.0, 0.0], [0.0, 0.0], [0.0, 1.0], [0.0, 1.0], [0.0, 0.0], [0.0, 0.0], [0.0, 0.0], [0.0, 0.0], [1.0, 0.0], [1.0, 0.0], [1.0, 0.0], [1.0, 0.0], [1.0, 0.0], [0.0, 0.0], [1.0, 0.0], [1.0, 0.0], [1.0, 0.0], [1.0, 0.0], [1.0, 0.0], [0.0, 0.0], [0.0, 0.0], [0.0, 0.0], [0.0, 0.0], [0.0, 0.0], [0.0, 0.0], [0.0, 0.0], [0.0, 0.0], [0.0, 0.0], [0.0, 0.0], [0.0, 0.0], [0.0, 0.0], [0.0, 0.0], [0.0, 0.0], [0.0, 0.0], [0.0, 0.0], [0.0, 0.0], [0.0, 0.0], [0.0, 0.0], [0.0, 0.0], [0.0, 0.0], [0.0, 0.0], [0.0, 0.0], [0.0, 0.0], [0.0, 0.0], [0.0, 0.0], [0.0, 0.0], [0.0, 0.0], [0.0, 0.0], [0.0, 0.0], [0.0, 0.0], [0.0, 0.0], [0.0, 0.0], [0.0, 0.0], [0.0, 0.0], [0.0, 0.0], [0.0, 0.0], [0.0, 0.0], [0.0, 0.0], [0.0, 0.0], [0.0, 0.0], [0.0, 0.0], [1.0, 0.0], [0.0, 0.0], [1.0, 0.0], [1.0, 0.0], [1.0, 0.0], [1.0, 0.0], [1.0, 0.0], [1.0, 0.0], [1.0, 0.0], [1.0, 0.0], [0.0, 0.0], [0.0, 0.0], [0.0, 0.0], [1.0, 0.0], [0.0, 0.0], [1.0, 0.0], [1.0, 0.0], [1.0, 0.0], [1.0, 0.0], [1.0, 0.0], [1.0, 0.0], [0.0, 0.0], [1.0, 0.0], [0.0, 0.0], [1.0, 1.0], [1.0, 1.0], [1.0, 1.0], [1.0, 1.0], [1.0, 1.0], [1.0, 0.0], [1.0, 0.0], [1.0, 0.0], [1.0, 0.0], [1.0, 0.0], [1.0, 0.0], [0.0, 0.0], [0.0, 1.0], [0.0, 0.0], [0.0, 0.0], [0.0, 0.0], [0.0, 0.0], [0.0, 0.0], [0.0, 1.0], [0.0, 0.0], [0.0, 0.0], [0.0, 0.0], [0.0, 0.0], [0.0, 0.0], [0.0, 0.0], [0.0, 0.0], [0.0, 0.0], [0.0, 0.0], [0.0, 0.0], [1.0, 0.0], [1.0, 0.0], [1.0, 0.0], [1.0, 0.0], [1.0, 0.0], [1.0, 0.0], [0.0, 0.0], [0.0, 0.0], [0.0, 0.0], [1.0, 0.0], [0.0, 0.0], [0.0, 0.0], [0.0, 0.0], [0.0, 0.0], [0.0, 0.0], [0.0, 0.0], [0.0, 0.0], [0.0, 0.0], [0.0, 0.0], [0.0, 0.0], [0.0, 0.0], [0.0, 0.0], [0.0, 0.0], [0.0, 0.0], [0.0, 0.0], [0.0, 0.0], [0.0, 0.0], [0.0, 0.0], [0.0, 1.0], [0.0, 0.0], [1.0, 0.0], [1.0, 1.0], [1.0, 1.0], [0.0, 1.0], [1.0, 1.0], [1.0, 0.0], [0.0, 0.0], [0.0, 0.0], [1.0, 0.0], [0.0, 0.0], [1.0, 0.0], [1.0, 0.0], [1.0, 0.0], [0.0, 0.0], [0.0, 0.0], [1.0, 0.0], [1.0, 0.0], [0.0, 1.0], [0.0, 1.0], [0.0, 1.0], [0.0, 1.0], [0.0, 1.0], [0.0, 1.0], [0.0, 1.0], [0.0, 1.0], [0.0, 1.0], [0.0, 1.0], [0.0, 1.0], [0.0, 1.0], [0.0, 0.0], [0.0, 0.0], [0.0, 0.0], [0.0, 0.0], [0.0, 0.0], [0.0, 0.0], [0.0, 0.0], [0.0, 0.0], [0.0, 0.0], [0.0, 0.0], [0.0, 0.0], [0.0, 1.0], [0.0, 1.0], [0.0, 1.0], [0.0, 1.0], [0.0, 1.0], [0.0, 1.0], [0.0, 1.0], [0.0, 1.0], [0.0, 1.0], [0.0, 1.0], [0.0, 1.0], [1.0, 0.0], [1.0, 0.0], [1.0, 0.0], [1.0, 0.0], [0.0, 0.0], [0.0, 0.0], [0.0, 1.0], [0.0, 1.0], [0.0, 1.0], [0.0, 1.0], [0.0, 1.0], [0.0, 1.0], [0.0, 1.0], [0.0, 1.0], [0.0, 1.0], [0.0, 1.0], [0.0, 1.0], [0.0, 0.0], [0.0, 1.0], [0.0, 1.0], [0.0, 1.0], [0.0, 1.0], [0.0, 1.0], [0.0, 1.0], [0.0, 1.0], [0.0, 1.0], [0.0, 0.0], [0.0, 1.0], [0.0, 1.0], [0.0, 1.0], [0.0, 1.0], [0.0, 1.0], [0.0, 0.0], [0.0, 0.0], [0.0, 0.0], [0.0, 0.0], [1.0, 0.0], [0.0, 0.0], [0.0, 0.0], [0.0, 0.0], [0.0, 0.0], [0.0, 0.0], [0.0, 0.0], [0.0, 0.0], [0.0, 0.0], [0.0, 0.0], [0.0, 1.0], [0.0, 1.0], [0.0, 1.0], [0.0, 1.0], [1.0, 1.0], [0.0, 1.0], [0.0, 1.0], [0.0, 0.0], [0.0, 1.0], [0.0, 1.0], [0.0, 1.0], [0.0, 1.0], [0.0, 1.0], [0.0, 1.0], [0.0, 1.0], [0.0, 0.0], [0.0, 0.0], [0.0, 0.0], [0.0, 0.0], [0.0, 0.0], [0.0, 1.0], [0.0, 1.0], [0.0, 1.0], [0.0, 0.0], [0.0, 1.0], [0.0, 0.0], [0.0, 0.0], [0.0, 0.0], [0.0, 0.0], [0.0, 0.0], [0.0, 0.0], [0.0, 0.0], [0.0, 0.0], [0.0, 0.0], [0.0, 0.0], [0.0, 0.0], [0.0, 0.0], [0.0, 0.0], [0.0, 0.0], [0.0, 0.0], [0.0, 0.0], [0.0, 0.0], [0.0, 0.0], [0.0, 0.0], [1.0, 0.0], [0.0, 0.0], [0.0, 0.0], [0.0, 0.0], [0.0, 0.0], [0.0, 0.0], [1.0, 0.0], [0.0, 0.0], [0.0, 0.0], [1.0, 0.0], [1.0, 0.0], [1.0, 0.0], [1.0, 0.0], [1.0, 0.0], [1.0, 0.0], [1.0, 0.0], [1.0, 0.0], [1.0, 0.0], [1.0, 0.0], [1.0, 0.0], [1.0, 0.0], [1.0, 0.0], [1.0, 0.0], [0.0, 0.0], [0.0, 0.0], [1.0, 1.0], [1.0, 0.0], [0.0, 0.0], [1.0, 0.0], [1.0, 0.0], [1.0, 0.0], [1.0, 0.0], [1.0, 0.0], [0.0, 0.0], [1.0, 0.0], [0.0, 0.0], [0.0, 0.0], [1.0, 0.0], [1.0, 0.0], [1.0, 0.0], [1.0, 0.0], [0.0, 0.0], [0.0, 0.0], [0.0, 0.0], [0.0, 0.0], [0.0, 0.0], [0.0, 0.0], [0.0, 0.0], [0.0, 0.0], [0.0, 0.0], [0.0, 0.0], [0.0, 0.0], [0.0, 0.0], [0.0, 0.0], [0.0, 0.0], [0.0, 0.0], [0.0, 0.0], [0.0, 0.0], [0.0, 0.0], [1.0, 0.0], [0.0, 0.0], [0.0, 0.0], [0.0, 0.0], [0.0, 0.0], [0.0, 0.0], [0.0, 0.0], [0.0, 0.0], [0.0, 0.0], [0.0, 0.0], [0.0, 0.0], [0.0, 0.0], [0.0, 0.0], [0.0, 0.0], [0.0, 0.0], [0.0, 0.0], [0.0, 0.0], [0.0, 0.0], [0.0, 0.0], [0.0, 0.0], [0.0, 0.0], [0.0, 0.0], [0.0, 0.0], [0.0, 0.0], [0.0, 0.0], [1.0, 0.0], [1.0, 0.0], [0.0, 0.0], [1.0, 0.0], [1.0, 0.0], [0.0, 0.0], [0.0, 0.0], [0.0, 0.0], [0.0, 0.0], [0.0, 0.0], [0.0, 0.0], [0.0, 0.0], [0.0, 0.0], [0.0, 0.0], [0.0, 0.0], [0.0, 0.0], [0.0, 0.0], [0.0, 0.0], [0.0, 0.0], [0.0, 0.0], [0.0, 0.0], [1.0, 0.0], [0.0, 0.0], [1.0, 0.0], [0.0, 0.0], [0.0, 0.0], [0.0, 0.0], [0.0, 0.0], [0.0, 1.0], [0.0, 0.0], [0.0, 0.0], [0.0, 0.0], [0.0, 0.0], [0.0, 0.0], [0.0, 0.0], [0.0, 0.0], [0.0, 0.0], [0.0, 0.0], [0.0, 0.0], [0.0, 1.0], [0.0, 1.0], [0.0, 1.0], [0.0, 1.0], [1.0, 1.0], [0.0, 1.0], [0.0, 0.0], [0.0, 1.0], [0.0, 0.0], [0.0, 0.0], [0.0, 0.0], [0.0, 0.0], [0.0, 0.0], [0.0, 0.0], [0.0, 0.0], [0.0, 0.0], [0.0, 0.0], [0.0, 0.0], [0.0, 0.0], [0.0, 0.0], [0.0, 0.0], [0.0, 0.0], [0.0, 0.0], [0.0, 0.0], [0.0, 0.0], [0.0, 0.0], [0.0, 0.0], [0.0, 0.0], [1.0, 0.0], [1.0, 0.0], [1.0, 0.0], [0.0, 0.0], [0.0, 0.0], [0.0, 1.0], [1.0, 1.0], [1.0, 1.0], [1.0, 0.0], [1.0, 0.0], [1.0, 1.0], [1.0, 0.0], [0.0, 1.0], [1.0, 1.0], [0.0, 1.0], [0.0, 1.0], [1.0, 0.0], [1.0, 0.0], [0.0, 0.0], [0.0, 0.0], [0.0, 0.0], [0.0, 0.0], [0.0, 0.0], [0.0, 0.0], [0.0, 0.0], [0.0, 0.0], [1.0, 0.0], [1.0, 0.0], [1.0, 0.0], [1.0, 0.0], [1.0, 0.0], [1.0, 0.0], [1.0, 0.0], [1.0, 0.0], [1.0, 0.0], [1.0, 1.0], [1.0, 1.0], [1.0, 1.0], [1.0, 1.0], [0.0, 1.0], [0.0, 1.0], [0.0, 1.0], [0.0, 0.0], [1.0, 1.0], [1.0, 1.0], [1.0, 1.0], [0.0, 0.0], [0.0, 1.0], [1.0, 1.0], [1.0, 1.0], [1.0, 1.0], [1.0, 0.0], [1.0, 0.0], [1.0, 1.0], [1.0, 1.0], [1.0, 1.0], [1.0, 1.0], [1.0, 1.0], [0.0, 0.0], [0.0, 0.0], [0.0, 0.0], [0.0, 0.0], [0.0, 0.0], [0.0, 0.0], [0.0, 0.0], [0.0, 0.0], [0.0, 0.0], [0.0, 0.0], [0.0, 0.0], [0.0, 0.0], [0.0, 0.0], [1.0, 0.0], [1.0, 0.0], [0.0, 0.0], [1.0, 1.0], [1.0, 1.0], [1.0, 1.0], [1.0, 1.0], [0.0, 0.0], [0.0, 0.0], [0.0, 0.0], [0.0, 0.0], [0.0, 0.0], [0.0, 0.0], [0.0, 0.0], [0.0, 0.0], [0.0, 0.0], [0.0, 0.0], [0.0, 0.0], [0.0, 0.0], [0.0, 0.0], [1.0, 0.0], [1.0, 0.0], [1.0, 0.0], [1.0, 0.0], [1.0, 0.0], [1.0, 0.0], [1.0, 0.0], [1.0, 0.0], [1.0, 0.0], [0.0, 1.0], [1.0, 1.0], [1.0, 1.0], [1.0, 1.0], [1.0, 1.0], [1.0, 0.0], [1.0, 0.0], [1.0, 0.0], [1.0, 0.0], [1.0, 0.0], [1.0, 0.0], [1.0, 0.0], [1.0, 0.0], [0.0, 0.0], [0.0, 0.0], [0.0, 0.0], [0.0, 0.0], [0.0, 0.0], [0.0, 0.0], [0.0, 0.0], [0.0, 1.0], [0.0, 1.0], [0.0, 1.0], [0.0, 1.0], [0.0, 1.0], [0.0, 1.0], [0.0, 1.0], [0.0, 1.0], [1.0, 1.0], [1.0, 1.0], [1.0, 1.0], [1.0, 0.0], [1.0, 0.0], [1.0, 0.0], [1.0, 0.0], [1.0, 0.0], [1.0, 0.0], [0.0, 0.0], [0.0, 0.0], [0.0, 0.0], [0.0, 0.0], [0.0, 0.0], [0.0, 0.0], [0.0, 0.0], [0.0, 0.0], [0.0, 0.0], [0.0, 0.0], [0.0, 0.0], [0.0, 0.0], [0.0, 0.0], [0.0, 0.0], [0.0, 0.0], [0.0, 0.0], [0.0, 0.0], [1.0, 0.0], [1.0, 0.0], [1.0, 0.0], [1.0, 0.0], [1.0, 0.0], [1.0, 0.0], [1.0, 0.0], [1.0, 0.0], [0.0, 1.0], [0.0, 1.0], [0.0, 1.0], [0.0, 1.0], [0.0, 1.0], [0.0, 0.0], [1.0, 0.0], [0.0, 0.0], [1.0, 0.0], [1.0, 0.0], [0.0, 0.0], [1.0, 0.0], [1.0, 1.0], [0.0, 0.0], [0.0, 0.0], [0.0, 0.0], [0.0, 0.0], [0.0, 0.0], [0.0, 0.0], [0.0, 0.0], [0.0, 0.0], [1.0, 0.0], [0.0, 0.0], [0.0, 0.0], [0.0, 0.0], [0.0, 0.0], [0.0, 0.0], [0.0, 0.0], [0.0, 0.0], [0.0, 0.0], [0.0, 0.0], [0.0, 0.0], [0.0, 0.0], [0.0, 0.0], [0.0, 0.0], [0.0, 0.0], [0.0, 0.0], [0.0, 0.0], [1.0, 0.0], [1.0, 0.0], [1.0, 0.0], [1.0, 0.0], [1.0, 0.0], [1.0, 0.0], [1.0, 0.0], [1.0, 0.0], [1.0, 1.0], [1.0, 1.0], [1.0, 1.0], [1.0, 1.0], [1.0, 1.0], [1.0, 0.0], [1.0, 0.0], [1.0, 0.0], [1.0, 0.0], [0.0, 1.0], [0.0, 1.0], [0.0, 1.0], [0.0, 1.0], [0.0, 1.0], [0.0, 0.0], [0.0, 0.0], [1.0, 0.0], [1.0, 0.0], [1.0, 0.0], [1.0, 0.0], [1.0, 0.0], [1.0, 0.0], [1.0, 0.0], [1.0, 0.0], [1.0, 0.0], [1.0, 0.0], [1.0, 0.0], [1.0, 0.0], [1.0, 0.0], [1.0, 0.0], [1.0, 0.0], [0.0, 0.0], [0.0, 0.0], [0.0, 0.0], [0.0, 0.0], [0.0, 0.0], [0.0, 0.0], [0.0, 0.0], [0.0, 0.0], [0.0, 0.0], [0.0, 1.0], [1.0, 1.0], [1.0, 1.0], [0.0, 1.0], [1.0, 1.0], [1.0, 0.0], [0.0, 0.0], [0.0, 0.0], [0.0, 0.0], [0.0, 0.0], [0.0, 0.0], [0.0, 0.0], [0.0, 0.0], [0.0, 0.0], [0.0, 0.0], [0.0, 0.0], [0.0, 0.0], [0.0, 0.0], [0.0, 1.0], [0.0, 0.0], [0.0, 0.0], [0.0, 0.0], [0.0, 0.0], [0.0, 0.0], [0.0, 0.0], [0.0, 0.0], [0.0, 0.0], [0.0, 0.0], [0.0, 0.0], [0.0, 0.0], [1.0, 0.0], [1.0, 0.0], [1.0, 0.0], [1.0, 0.0], [1.0, 0.0], [1.0, 0.0], [1.0, 0.0], [1.0, 0.0], [1.0, 0.0], [1.0, 0.0], [1.0, 0.0], [1.0, 0.0], [1.0, 0.0], [1.0, 0.0], [1.0, 0.0], [1.0, 0.0], [1.0, 0.0], [0.0, 0.0], [0.0, 1.0], [0.0, 1.0], [0.0, 1.0], [0.0, 1.0], [0.0, 1.0], [0.0, 0.0], [0.0, 0.0], [0.0, 0.0], [0.0, 0.0], [0.0, 0.0], [0.0, 0.0], [0.0, 0.0], [0.0, 0.0], [0.0, 0.0], [0.0, 0.0], [0.0, 0.0], [0.0, 0.0], [0.0, 0.0], [0.0, 0.0], [0.0, 0.0], [0.0, 1.0], [0.0, 1.0], [0.0, 1.0], [0.0, 1.0], [0.0, 1.0], [0.0, 1.0], [0.0, 1.0], [0.0, 0.0], [1.0, 1.0], [0.0, 0.0], [0.0, 0.0], [0.0, 1.0], [0.0, 0.0], [0.0, 0.0], [1.0, 0.0], [0.0, 0.0], [0.0, 0.0], [0.0, 0.0], [0.0, 0.0], [0.0, 0.0], [0.0, 0.0], [0.0, 0.0], [0.0, 0.0], [0.0, 0.0], [0.0, 0.0], [0.0, 0.0], [0.0, 0.0], [0.0, 0.0], [0.0, 0.0], [0.0, 0.0], [0.0, 0.0], [0.0, 0.0], [0.0, 0.0], [0.0, 0.0], [0.0, 0.0], [1.0, 0.0], [0.0, 0.0], [1.0, 1.0], [1.0, 1.0], [1.0, 1.0], [1.0, 1.0], [0.0, 1.0], [0.0, 1.0], [0.0, 1.0], [1.0, 0.0], [0.0, 0.0], [1.0, 0.0], [1.0, 0.0], [0.0, 0.0], [0.0, 0.0], [0.0, 0.0], [0.0, 0.0], [0.0, 0.0], [0.0, 0.0], [0.0, 0.0], [0.0, 0.0], [0.0, 0.0], [0.0, 0.0], [0.0, 0.0], [0.0, 0.0], [0.0, 0.0], [0.0, 0.0], [0.0, 0.0], [0.0, 0.0], [0.0, 0.0], [0.0, 0.0], [0.0, 0.0], [0.0, 0.0], [0.0, 0.0], [0.0, 0.0], [0.0, 0.0], [0.0, 0.0], [0.0, 0.0], [0.0, 0.0], [0.0, 0.0], [0.0, 0.0], [0.0, 0.0], [0.0, 0.0], [0.0, 0.0], [0.0, 0.0], [0.0, 0.0], [0.0, 0.0], [1.0, 0.0], [1.0, 0.0], [1.0, 1.0], [1.0, 0.0], [1.0, 1.0], [1.0, 1.0], [1.0, 1.0], [0.0, 0.0], [1.0, 0.0], [1.0, 0.0], [1.0, 0.0], [1.0, 0.0], [1.0, 0.0], [1.0, 0.0], [1.0, 0.0], [1.0, 0.0], [1.0, 0.0], [1.0, 0.0], [1.0, 0.0], [1.0, 0.0], [1.0, 1.0], [1.0, 1.0], [1.0, 1.0], [0.0, 0.0], [0.0, 0.0], [0.0, 0.0], [0.0, 0.0], [0.0, 0.0], [0.0, 0.0], [0.0, 1.0], [0.0, 1.0], [0.0, 1.0], [0.0, 1.0], [0.0, 1.0], [0.0, 0.0], [1.0, 0.0], [1.0, 0.0], [1.0, 0.0], [1.0, 0.0], [0.0, 0.0], [0.0, 0.0], [1.0, 0.0], [1.0, 0.0], [0.0, 0.0], [0.0, 0.0], [0.0, 0.0], [0.0, 0.0], [0.0, 0.0], [0.0, 0.0], [0.0, 0.0], [0.0, 0.0], [0.0, 0.0], [0.0, 0.0], [0.0, 0.0], [0.0, 0.0], [1.0, 0.0], [1.0, 0.0], [0.0, 0.0], [0.0, 0.0], [0.0, 0.0], [0.0, 0.0]]\n"
          ]
        }
      ],
      "source": [
        "print(y)"
      ]
    },
    {
      "cell_type": "code",
      "execution_count": null,
      "metadata": {
        "id": "8nDJeVj7yd4z"
      },
      "outputs": [],
      "source": [
        "nx = np.array(x)\n",
        "ny = np.array(y)"
      ]
    },
    {
      "cell_type": "code",
      "execution_count": null,
      "metadata": {
        "colab": {
          "base_uri": "https://localhost:8080/"
        },
        "id": "l9UHSXw0yomi",
        "outputId": "b8d3bb56-a7b6-4de3-83e2-c3b604de5ea0"
      },
      "outputs": [
        {
          "output_type": "execute_result",
          "data": {
            "text/plain": [
              "(6110, 240, 240)"
            ]
          },
          "metadata": {},
          "execution_count": 15
        }
      ],
      "source": [
        "nx.shape"
      ]
    },
    {
      "cell_type": "code",
      "execution_count": null,
      "metadata": {
        "id": "PN_AW-5WahVR"
      },
      "outputs": [],
      "source": [
        "nx = np.expand_dims(nx, axis=-1)"
      ]
    },
    {
      "cell_type": "code",
      "execution_count": null,
      "metadata": {
        "id": "fJlcj7tabRN3"
      },
      "outputs": [],
      "source": [
        "from sklearn.model_selection import train_test_split"
      ]
    },
    {
      "cell_type": "code",
      "execution_count": null,
      "metadata": {
        "id": "mof0dsm4beX7"
      },
      "outputs": [],
      "source": [
        "X_train, X_test, y_train, y_test = train_test_split(nx, ny, random_state=42, test_size = 0.2)"
      ]
    },
    {
      "cell_type": "code",
      "execution_count": null,
      "metadata": {
        "colab": {
          "base_uri": "https://localhost:8080/"
        },
        "id": "K54G7iKPam4C",
        "outputId": "3633e607-5b2a-4e7d-e595-ccbb64530ae7"
      },
      "outputs": [
        {
          "output_type": "execute_result",
          "data": {
            "text/plain": [
              "(6110, 240, 240, 1)"
            ]
          },
          "metadata": {},
          "execution_count": 19
        }
      ],
      "source": [
        "nx.shape"
      ]
    },
    {
      "cell_type": "code",
      "execution_count": null,
      "metadata": {
        "colab": {
          "base_uri": "https://localhost:8080/"
        },
        "id": "U4k1kjfGZpJq",
        "outputId": "a90595b2-4188-43af-86d2-b04962239e76"
      },
      "outputs": [
        {
          "output_type": "execute_result",
          "data": {
            "text/plain": [
              "(6110, 2)"
            ]
          },
          "metadata": {},
          "execution_count": 20
        }
      ],
      "source": [
        "ny.shape"
      ]
    },
    {
      "cell_type": "code",
      "execution_count": null,
      "metadata": {
        "id": "quqBtJZo6RYx"
      },
      "outputs": [],
      "source": [
        "from tensorflow import keras"
      ]
    },
    {
      "cell_type": "code",
      "execution_count": null,
      "metadata": {
        "colab": {
          "base_uri": "https://localhost:8080/"
        },
        "id": "V71YpM0IaFqK",
        "outputId": "093fda4c-dd88-4a5d-be03-d16264ccaf4c"
      },
      "outputs": [
        {
          "output_type": "stream",
          "name": "stderr",
          "text": [
            "/usr/local/lib/python3.11/dist-packages/keras/src/layers/convolutional/base_conv.py:107: UserWarning: Do not pass an `input_shape`/`input_dim` argument to a layer. When using Sequential models, prefer using an `Input(shape)` object as the first layer in the model instead.\n",
            "  super().__init__(activity_regularizer=activity_regularizer, **kwargs)\n"
          ]
        }
      ],
      "source": [
        "import tensorflow as tf\n",
        "from tensorflow.keras.layers import Conv2D, MaxPooling2D, Dense, Flatten, ReLU\n",
        "\n",
        "# Define the optimizer first\n",
        "opt = tf.keras.optimizers.SGD(learning_rate=0.1)\n",
        "\n",
        "model = tf.keras.Sequential([\n",
        "    Conv2D(filters=16, kernel_size=3, padding='same', activation='relu', input_shape=(nx.shape[1], nx.shape[2], nx.shape[3])),\n",
        "    MaxPooling2D(pool_size=2, strides=2),\n",
        "    Conv2D(filters=16, kernel_size=3, padding='same', activation='relu'),\n",
        "    MaxPooling2D(pool_size=2, strides=2),\n",
        "    Conv2D(filters=16, kernel_size=3, padding='same', activation='relu'),\n",
        "    MaxPooling2D(pool_size=2, strides=2),\n",
        "    Conv2D(filters=32, kernel_size=3, padding='same', activation='relu'),\n",
        "    MaxPooling2D(pool_size=2, strides=2),\n",
        "    Conv2D(filters=32, kernel_size=3, padding='same', activation='relu'),\n",
        "    Flatten(),\n",
        "    Dense(units=1024, activation='relu'),\n",
        "    Dense(units=516, activation='relu'),\n",
        "    Dense(units=56, activation='relu'),\n",
        "    Dense(units=2, activation='sigmoid')\n",
        "])"
      ]
    },
    {
      "cell_type": "code",
      "execution_count": null,
      "metadata": {
        "id": "4EgoTnWIaNiP"
      },
      "outputs": [],
      "source": [
        "model.compile(optimizer =  opt , loss = 'sparse_categorical_crossentropy', metrics = ['acc'])"
      ]
    },
    {
      "cell_type": "code",
      "execution_count": null,
      "metadata": {
        "id": "S8nu7zi6cm4H"
      },
      "outputs": [],
      "source": [
        "def loss_func(y_true, y_pred):\n",
        "    loss = tf.keras.backend.square(y_true-y_pred)\n",
        "    return loss"
      ]
    },
    {
      "cell_type": "code",
      "execution_count": null,
      "metadata": {
        "id": "9BXE6b4Z6RYx"
      },
      "outputs": [],
      "source": [
        "opt = tf.keras.optimizers.SGD(learning_rate=0.1)\n",
        "model.compile(optimizer=opt, loss=loss_func, metrics=['accuracy'])\n",
        "model.fit(X_train,y_train, validation_data=(X_test,y_test), batch_size=4, epochs=2)"
      ]
    },
    {
      "cell_type": "markdown",
      "metadata": {
        "id": "Fn-AbNOA6RYy"
      },
      "source": [
        "Thus we obtain a val-accuracy of 83% ....."
      ]
    }
  ],
  "metadata": {
    "accelerator": "GPU",
    "colab": {
      "gpuType": "T4",
      "provenance": [],
      "toc_visible": true,
      "include_colab_link": true
    },
    "kernelspec": {
      "display_name": "Python 3",
      "name": "python3"
    },
    "language_info": {
      "codemirror_mode": {
        "name": "ipython",
        "version": 3
      },
      "file_extension": ".py",
      "mimetype": "text/x-python",
      "name": "python",
      "nbconvert_exporter": "python",
      "pygments_lexer": "ipython3",
      "version": "3.9.7"
    }
  },
  "nbformat": 4,
  "nbformat_minor": 0
}